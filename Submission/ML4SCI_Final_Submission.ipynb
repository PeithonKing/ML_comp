{
  "nbformat": 4,
  "nbformat_minor": 5,
  "metadata": {
    "kernelspec": {
      "display_name": "Python 3 (ipykernel)",
      "language": "python",
      "name": "python3"
    },
    "language_info": {
      "codemirror_mode": {
        "name": "ipython",
        "version": 3
      },
      "file_extension": ".py",
      "mimetype": "text/x-python",
      "name": "python",
      "nbconvert_exporter": "python",
      "pygments_lexer": "ipython3",
      "version": "3.9.7"
    },
    "colab": {
      "name": "ML4SCI_Final_Submission.ipynb",
      "provenance": [],
      "collapsed_sections": [
        "yvTrWnElCG_D",
        "E105mOT1AAfx",
        "bpivhS4qYU0g",
        "OANvbJjPYel5",
        "0mBN8KZNYuE9",
        "4tmCIzhfZtsQ",
        "weCqg1ZJZAhm",
        "k_o-BZKbZg4P",
        "LN_2eChrheWo",
        "hf41EezNj1rQ"
      ]
    }
  },
  "cells": [
    {
      "cell_type": "markdown",
      "metadata": {
        "id": "UU3ChEbnS1Kv"
      },
      "source": [
        "# Introduction\n",
        "\n"
      ],
      "id": "UU3ChEbnS1Kv"
    },
    {
      "cell_type": "markdown",
      "metadata": {
        "id": "1OZXTyXSvyeI"
      },
      "source": [
        "# Initialisation "
      ],
      "id": "1OZXTyXSvyeI"
    },
    {
      "cell_type": "code",
      "metadata": {
        "id": "4c2ae68a"
      },
      "source": [
        "!pip install XGBoost==1.5.0"
      ],
      "id": "4c2ae68a",
      "execution_count": null,
      "outputs": []
    },
    {
      "cell_type": "code",
      "metadata": {
        "id": "T6fNaxxfwSTe"
      },
      "source": [
        "import numpy as np\n",
        "import matplotlib.pyplot as plt\n",
        "import pandas as pd\n",
        "from xgboost import XGBClassifier\n",
        "from sklearn.metrics import accuracy_score\n",
        "from sklearn.metrics import roc_curve\n",
        "from sklearn import metrics\n",
        "import xgboost as xgb\n",
        "import tensorflow as tf\n",
        "from gc import collect\n",
        "import pandas as pd\n",
        "import os\n",
        "from time import time\n",
        "from gc import collect as delete\n",
        "%matplotlib inline"
      ],
      "id": "T6fNaxxfwSTe",
      "execution_count": 38,
      "outputs": []
    },
    {
      "cell_type": "code",
      "metadata": {
        "id": "emP9exDg01fH"
      },
      "source": [
        "!wget \"https://archive.ics.uci.edu/ml/machine-learning-databases/00280/HIGGS.csv.gz\""
      ],
      "id": "emP9exDg01fH",
      "execution_count": null,
      "outputs": []
    },
    {
      "cell_type": "code",
      "metadata": {
        "id": "kqZuhSaQ2jfX"
      },
      "source": [
        "!wget --no-check-certificate -r \"https://docs.google.com/uc?export=download&id=1RlvdtcHKFu8RQ5Tv7IAhRDeGBW3QNwOH\" -O \"Weights.zip\""
      ],
      "id": "kqZuhSaQ2jfX",
      "execution_count": null,
      "outputs": []
    },
    {
      "cell_type": "code",
      "metadata": {
        "id": "o2XBqEn55BkP"
      },
      "source": [
        "!gzip -d HIGGS.csv.gz"
      ],
      "id": "o2XBqEn55BkP",
      "execution_count": 14,
      "outputs": []
    },
    {
      "cell_type": "code",
      "metadata": {
        "id": "i1-gDsrM-6RE"
      },
      "source": [
        "!unzip Weights.zip"
      ],
      "id": "i1-gDsrM-6RE",
      "execution_count": null,
      "outputs": []
    },
    {
      "cell_type": "markdown",
      "metadata": {
        "id": "yvTrWnElCG_D"
      },
      "source": [
        "# Refining the data"
      ],
      "id": "yvTrWnElCG_D"
    },
    {
      "cell_type": "code",
      "metadata": {
        "id": "tJ7KQtxOCLF2"
      },
      "source": [
        "def refine_data():\n",
        "    # Step 1: \n",
        "    df = pd.read_csv(\"HIGGS.csv\", header = None)\n",
        "\n",
        "    data_set = np.array(df.iloc[:, 1:])\n",
        "    label_set = np.array(df.iloc[:, 0])\n",
        "\n",
        "    # Getting rid of unnecessary data from RAM to\n",
        "    # accomodate within the 12GB RAM provided by Colab\n",
        "    del df\n",
        "    delete()\n",
        "\n",
        "    data_set = np.round(data_set, 5)\n",
        "\n",
        "    data_set = data_set.astype(np.float32)\n",
        "    label_set = label_set.astype(np.int32)\n",
        "\n",
        "    df_data_set = pd.DataFrame(data_set)\n",
        "    df_label_set = pd.DataFrame(label_set)\n",
        "\n",
        "    s = df_data_set.min()\n",
        "    l = df_data_set.max()\n",
        "\n",
        "    # Step 2: Normalization\n",
        "    normed_df_Data_set = ((df_data_set - s) / (l - s)).astype(np.float32)\n",
        "\n",
        "    # Saving data to file\n",
        "    df_label_set.to_csv(\"LabelSet.csv\")\n",
        "    normed_df_Data_set.to_csv(\"DataSetNormalised.csv\")"
      ],
      "id": "tJ7KQtxOCLF2",
      "execution_count": 27,
      "outputs": []
    },
    {
      "cell_type": "markdown",
      "metadata": {
        "id": "E105mOT1AAfx"
      },
      "source": [
        "# All the Models\n",
        "## * These are the functions only.\n",
        "\n",
        "There are 6 models in our machine Learning Pipeline. We have put them in functions and the functions are here. We didn't call them here. they will be called later."
      ],
      "id": "E105mOT1AAfx"
    },
    {
      "cell_type": "markdown",
      "metadata": {
        "id": "bpivhS4qYU0g"
      },
      "source": [
        "#### Deep Neural Network with 5 hidden layers, with 300 logits in each layer and swish activation function."
      ],
      "id": "bpivhS4qYU0g"
    },
    {
      "cell_type": "code",
      "metadata": {
        "id": "CwXl5B51_7Py"
      },
      "source": [
        "def DNN5_fc():\n",
        "    '''Deep Neural Network DNN5'''\n",
        "    model=tf.keras.Sequential([\n",
        "        tf.keras.layers.Dense(300, input_shape=(28,), activation='swish'),\n",
        "        tf.keras.layers.BatchNormalization(),\n",
        "        tf.keras.layers.Dense(300, activation='swish'),\n",
        "        tf.keras.layers.BatchNormalization(),\n",
        "        tf.keras.layers.Dense(300, activation='swish'),\n",
        "        tf.keras.layers.BatchNormalization(),\n",
        "        tf.keras.layers.Dense(300, activation='swish'),\n",
        "        tf.keras.layers.BatchNormalization(),\n",
        "        tf.keras.layers.Dense(300, activation='swish'),\n",
        "        tf.keras.layers.BatchNormalization(),\n",
        "        tf.keras.layers.Dense(1, activation='sigmoid')\n",
        "    ])\n",
        "    model.compile(\n",
        "        optimizer = tf.keras.optimizers.Adam(\n",
        "        learning_rate = 0.01,\n",
        "        beta_1 = 0.9,\n",
        "        beta_2 = 0.999),\n",
        "        loss = 'binary_crossentropy',\n",
        "        metrics = ['accuracy','AUC']\n",
        "        )\n",
        "    model.fit(\n",
        "        x_train,\n",
        "        y_train,\n",
        "        epochs=1,\n",
        "        batch_size=10240,\n",
        "        validation_data=(x_test,y_test)\n",
        "    )\n",
        "    model.save('DNN_5')"
      ],
      "id": "CwXl5B51_7Py",
      "execution_count": 66,
      "outputs": []
    },
    {
      "cell_type": "markdown",
      "metadata": {
        "id": "OANvbJjPYel5"
      },
      "source": [
        "#### Residual Neural Network architechture with around 50 hidden layers"
      ],
      "id": "OANvbJjPYel5"
    },
    {
      "cell_type": "code",
      "metadata": {
        "id": "Q1-5kxhYUlN9"
      },
      "source": [
        "def identity_block(X, no_nodes, Activation):\n",
        "    '''A custom Residual identity block with a skip connection'''\n",
        "    # This function is not to be called manually, it will be used by RN52_fc() function\n",
        "    X_shortcut=X\n",
        "    # There will be 3 layers in total for the sequential connection\n",
        "    # Activation will be specified by the user as per the Keras Documentation\n",
        "    # no_nodes denote the size of the model which will be built\n",
        "    # Applying Batch Normalisation to size the inputs\n",
        "    \n",
        "    #Layer 1\n",
        "    X=tf.keras.layers.Dense(no_nodes,activation=Activation)(X)\n",
        "    X=tf.keras.layers.BatchNormalization(axis=1)(X)\n",
        "    X=tf.keras.layers.Dropout(d_rate)(X)\n",
        "\n",
        "    #Layer 2\n",
        "    X=tf.keras.layers.Dense(no_nodes,activation=Activation)(X)\n",
        "    X=tf.keras.layers.BatchNormalization(axis=1)(X)\n",
        "    X=tf.keras.layers.Dropout(d_rate)(X)\n",
        "\n",
        "    #Layer 3\n",
        "    X=tf.keras.layers.Dense(no_nodes,activation=Activation)(X)\n",
        "    X=tf.keras.layers.Dropout(d_rate)(X)\n",
        "\n",
        "    #Layer 4\n",
        "    X= tf.keras.layers.Add()([X_shortcut, X])\n",
        "    X=tf.keras.layers.Activation('relu')(X)\n",
        "\n",
        "    X_shortcut2=X\n",
        "    #Layer 5\n",
        "    X=tf.keras.layers.Dense(no_nodes,activation=Activation)(X)\n",
        "    X=tf.keras.layers.BatchNormalization(axis=1)(X)\n",
        "    X=tf.keras.layers.Dropout(d_rate)(X)\n",
        "\n",
        "    #Layer 6\n",
        "    X=tf.keras.layers.Dense(no_nodes,activation=Activation)(X)\n",
        "    X=tf.keras.layers.BatchNormalization(axis=1)(X)\n",
        "    X=tf.keras.layers.Dropout(d_rate)(X)\n",
        "\n",
        "    #Layer 7\n",
        "    X=tf.keras.layers.Dense(no_nodes,activation=Activation)(X)\n",
        "    X=tf.keras.layers.Dropout(d_rate)(X)\n",
        "\n",
        "    #Layer 8\n",
        "    X = tf.keras.layers.Add()([X_shortcut, X,X_shortcut2])\n",
        "    X = tf.keras.layers.Activation('relu')(X)\n",
        "    return X\n",
        "\n",
        "def RN52_fc():\n",
        "    '''Resnet 52'''\n",
        "    d_rate=0.1 #The rate of droupout for the layers in the ResNet\n",
        "    act='gelu'#The activation function use ('relu','swish','elu','gelu','selu')\n",
        "    lr=0.01 #The default learning rate Default 0.01\n",
        "    mom=0.9 #The momentum parameter Default 0.9\n",
        "    test_split=1 #Default 1 and range[1,0)\n",
        "    #Reducing test_split will make the model faster but will also reduce the accuracy of the Validation metric\n",
        "    #On changing test_split run the lower initialisation cell, marked below**\n",
        "    \n",
        "    inputs=tf.keras.layers.Input(shape=(28,))                    #Keras input layer\n",
        "    X=tf.keras.layers.Dense(300,activation=act)(inputs)\n",
        "    X=identity_block(X=X,no_nodes=300,Activation=act)\n",
        "    X=identity_block(X=X,no_nodes=300,Activation=act)\n",
        "    X=identity_block(X=X,no_nodes=300,Activation=act)\n",
        "    X=identity_block(X=X,no_nodes=300,Activation=act)\n",
        "    X=identity_block(X=X,no_nodes=300,Activation=act)        \n",
        "    outputs=tf.keras.layers.Dense(1,activation='sigmoid')(X)     #keras output layer\n",
        "    model=tf.keras.Model(inputs,outputs)#Model declaration\n",
        "    model.compile(\n",
        "        optimizer=tf.keras.optimizers.Adam(\n",
        "        learning_rate=0.01,\n",
        "        beta_1=mom,\n",
        "        beta_2=0.999),\n",
        "        loss='binary_crossentropy',\n",
        "        metrics=['accuracy','AUC']\n",
        "    )\n",
        "    reduce_lr = tf.keras.callbacks.ReduceLROnPlateau(monitor=\"val_accuracy\",\n",
        "                                                 factor=0.5,\n",
        "                                                 patience=5,\n",
        "                                                 min_lr=10**-6,\n",
        "                                                 cooldown=5,\n",
        "                                                 verbose = True)\n",
        "\n",
        "    history = History()\n",
        "\n",
        "    model.fit(\n",
        "        x_train,\n",
        "        y_train,\n",
        "        epochs=100,\n",
        "        batch_size=20000,\n",
        "        validation_data=(x_test,y_test),\n",
        "        callbacks=[cp_callback, reduce_lr, history]\n",
        "    )\n",
        "    model.save('ResNet_52')\n",
        "\n",
        "    with open(\"hstory.txt\", \"w\") as f:\n",
        "        f.write(str(history.history))"
      ],
      "id": "Q1-5kxhYUlN9",
      "execution_count": 67,
      "outputs": []
    },
    {
      "cell_type": "markdown",
      "metadata": {
        "id": "0mBN8KZNYuE9"
      },
      "source": [
        "#### Xtreme Gradient Boosting Architecture (XGBoost)"
      ],
      "id": "0mBN8KZNYuE9"
    },
    {
      "cell_type": "code",
      "metadata": {
        "id": "WSi-6GY9CDu7"
      },
      "source": [
        "def XGB_fc():\n",
        "    '''XG Boost'''\n",
        "    model = XGBClassifier(tree_method='gpu_hist',\n",
        "                          booster = 'gbtree',\n",
        "                          max_depth = 14,\n",
        "                          n_estimators = 300,\n",
        "                          learning_rate = 0.4,\n",
        "                          reg_lambda=600\n",
        "                         )\n",
        "\n",
        "    eval_set = [(x_test_alpha, y_test_alpha)]\n",
        "\n",
        "    t0 = time()\n",
        "    a = model.fit(x_train_alpha,\n",
        "              y_train_alpha,\n",
        "              eval_metric=\"error\",\n",
        "              eval_set=eval_set,\n",
        "              verbose=True)\n",
        "    taken = time()-t0\n",
        "\n",
        "    y_test_alpha_pred = model.predict(x_test_alpha,ntree_limit=model.best_ntree_limit)\n",
        "    accuracy_test = accuracy_score(y_test_alpha, y_test_alpha_pred)\n",
        "    print(\"The testing accuracy\", accuracy_test*100)\n",
        "\n",
        "    y_train_alpha_pred=model.predict(x_train_alpha,ntree_limit=model.best_ntree_limit)\n",
        "    accuracy_train = accuracy_score(y_train_alpha, y_train_alpha_pred)\n",
        "    print(\"The training accuracy\", accuracy_train*100)\n",
        "    model.save_model(\"XGBoost.json\")"
      ],
      "id": "WSi-6GY9CDu7",
      "execution_count": 68,
      "outputs": []
    },
    {
      "cell_type": "markdown",
      "metadata": {
        "id": "4tmCIzhfZtsQ"
      },
      "source": [
        "#### Shallow Neural Network 3 layers deep with hetereginious activations.The layer contains 1024, 1024 and 128 logits/neurons."
      ],
      "id": "4tmCIzhfZtsQ"
    },
    {
      "cell_type": "code",
      "metadata": {
        "id": "29i-1qC7Zwov"
      },
      "source": [
        "def S1024_fc():\n",
        "    model=tf.keras.Sequential([\n",
        "        tf.keras.layers.Dense(1024,input_shape=(28,),activation='relu'),\n",
        "        tf.keras.layers.BatchNormalization(),\n",
        "        tf.keras.layers.Dense(1024,activation='relu'),\n",
        "        tf.keras.layers.BatchNormalization(),\n",
        "        tf.keras.layers.Dense(128,activation='swish'),\n",
        "        tf.keras.layers.BatchNormalization(),\n",
        "        tf.keras.layers.Dense(1,activation='sigmoid')\n",
        "        ])\n",
        "    \n",
        "    model.compile(\n",
        "        optimizer=tf.keras.optimizers.Adam(\n",
        "        learning_rate=0.0001,\n",
        "        beta_1=0.9,\n",
        "        beta_2=0.999),\n",
        "        loss='binary_crossentropy',\n",
        "        metrics=['accuracy','AUC']\n",
        "        )\n",
        "    \n",
        "    model.fit(\n",
        "        x_train,\n",
        "        y_train,\n",
        "        epochs=100,\n",
        "        batch_size=10240,\n",
        "        validation_data=(x_test,y_test),\n",
        "        callbacks=[cp_callback]\n",
        "        )\n",
        "    \n",
        "    model.save('NN_Shallow_1024')"
      ],
      "id": "29i-1qC7Zwov",
      "execution_count": 69,
      "outputs": []
    },
    {
      "cell_type": "markdown",
      "metadata": {
        "id": "weCqg1ZJZAhm"
      },
      "source": [
        "#### Shallow Neural Network with 2048 neurons/logits and 2 layers deep"
      ],
      "id": "weCqg1ZJZAhm"
    },
    {
      "cell_type": "code",
      "metadata": {
        "id": "5t4yg5y0ZNa-"
      },
      "source": [
        "def S2048_fc():\n",
        "    model=tf.keras.Sequential([\n",
        "        tf.keras.layers.Dense(2048,input_shape=(28,),activation='relu'),\n",
        "        tf.keras.layers.BatchNormalization(),\n",
        "        tf.keras.layers.Dense(2048,activation='relu'),\n",
        "        tf.keras.layers.BatchNormalization(),\n",
        "        tf.keras.layers.Dense(1,activation='sigmoid')\n",
        "        ])\n",
        "  \n",
        "    model.compile(\n",
        "        optimizer=tf.keras.optimizers.Adam(\n",
        "        learning_rate=0.01,\n",
        "        beta_1=0.9,\n",
        "        beta_2=0.999),\n",
        "        loss='binary_crossentropy',\n",
        "        metrics=['accuracy','AUC']\n",
        "        )\n",
        "  \n",
        "    model.fit(\n",
        "        x_train,\n",
        "        y_train,\n",
        "        epochs=1,\n",
        "        batch_size=10240,\n",
        "        validation_data=(x_test,y_test)\n",
        "        )\n",
        "  \n",
        "    model.save('NN_Shallow_2048')"
      ],
      "id": "5t4yg5y0ZNa-",
      "execution_count": 70,
      "outputs": []
    },
    {
      "cell_type": "markdown",
      "metadata": {
        "id": "k_o-BZKbZg4P"
      },
      "source": [
        "#### Shallow Neural Network 10240 logits and single layer deep."
      ],
      "id": "k_o-BZKbZg4P"
    },
    {
      "cell_type": "code",
      "metadata": {
        "id": "ZzDGjtfIZjPn"
      },
      "source": [
        "def S10240_fc():\n",
        "    model=tf.keras.Sequential([\n",
        "    tf.keras.layers.Dense(10240,input_shape=(28,),activation='relu'),\n",
        "    tf.keras.layers.BatchNormalization(),\n",
        "    tf.keras.layers.Dense(1,activation='sigmoid')\n",
        "    ])\n",
        "\n",
        "    model.compile(\n",
        "        optimizer=tf.keras.optimizers.Adam(\n",
        "                            learning_rate=0.001,\n",
        "                            beta_1=0.9,\n",
        "                            beta_2=0.999),\n",
        "        loss='binary_crossentropy',\n",
        "        metrics=['accuracy','AUC']\n",
        "    )\n",
        "    \n",
        "    model.fit(\n",
        "        x_train,\n",
        "        y_train,\n",
        "        epochs=10,\n",
        "        batch_size=10240\n",
        "    )\n",
        "\n",
        "    model.save('NN_Shallow_10240')"
      ],
      "id": "ZzDGjtfIZjPn",
      "execution_count": 71,
      "outputs": []
    },
    {
      "cell_type": "markdown",
      "metadata": {
        "id": "LN_2eChrheWo"
      },
      "source": [
        "# Ensemble (function only)"
      ],
      "id": "LN_2eChrheWo"
    },
    {
      "cell_type": "code",
      "metadata": {
        "id": "O6nmA8ydhucf"
      },
      "source": [
        "def ens_fc(x_test):\n",
        "    print(\"starting\")\n",
        "    # Loading the models:\n",
        "    #    XG Boost\n",
        "    model_xgb = XGBClassifier()\n",
        "    model_xgb.load_model(\"XGBoost.json\")\n",
        "    y_test_pred_xgb = model_xgb.predict_proba(x_test)\n",
        "    y_pred_xgb = y_test_pred_xgb[:,1]\n",
        "    y_test_pred_xgb = np.reshape(y_pred_xgb,(1_00_000,1))\n",
        "    print(\"\\n\\n1.1 Loaded XGBoost\\n\\n\")\n",
        "\n",
        "    #    DNN 5\n",
        "    model_DNN_5 = tf.keras.models.load_model('DNN_5')\n",
        "    y_test_pred_DNN_5 = model_DNN_5.predict(x_test)\n",
        "    print(\"\\n\\n2.1 Loaded DNN 5\\n\\n\")\n",
        "\n",
        "    #    Shallow 1024\n",
        "    model_NN_Shallow_1024 = tf.keras.models.load_model('NN_Shallow_1024')\n",
        "    y_test_pred_NN_Shallow_1024 = model_NN_Shallow_1024.predict(x_test)\n",
        "    print(\"\\n\\n3.1 Loaded Shallow 1024\\n\\n\")\n",
        "\n",
        "    #    Shallow 2048\n",
        "    model_NN_Shallow_2048 = tf.keras.models.load_model('NN_Shallow_2048')\n",
        "    y_test_pred_NN_Shallow_2048 = model_NN_Shallow_2048.predict(x_test)\n",
        "    print(\"\\n\\n4.1 Loaded Shallow 2048\\n\\n\")\n",
        "\n",
        "    #    Shallow 10240\n",
        "    model_NN_Shallow_10240 = tf.keras.models.load_model('NN_Shallow_10240')\n",
        "    y_test_pred_NN_Shallow_10240 = model_NN_Shallow_10240.predict(x_test)\n",
        "    print(\"\\n\\n5.1 Loaded Shallow 10240\\n\\n\")\n",
        "\n",
        "    #    ResNet 52\n",
        "    model_ResNet_52 = tf.keras.models.load_model('ResNet_52')\n",
        "    y_test_pred_model_ResNet_52 = model_ResNet_52.predict(x_test)\n",
        "    print(\"\\n\\n6.1 Loaded ResNet 52\\n\\n\")\n",
        "\n",
        "\n",
        "    # # The below code is used to find the fine-tuned values for ensembling all the models\n",
        "    # for i in range(10000):\n",
        "    #     pre=(np.random.rand(6,1))\n",
        "    #     y_pred_ensemble=y_test_pred_DNN_5*pre[0]\n",
        "    #     y_pred_ensemble=y_pred_ensemble+y_test_pred_model_ResNet_52*pre[1]\n",
        "    #     y_pred_ensemble=y_pred_ensemble+y_test_pred_NN_Shallow_1024*pre[2]\n",
        "    #     y_pred_ensemble=y_pred_ensemble+y_test_pred_NN_Shallow_10240*pre[3]\n",
        "    #     y_pred_ensemble=y_pred_ensemble+y_test_pred_NN_Shallow_2048*pre[4]\n",
        "    #     y_pred_ensemble=y_pred_ensemble+y_test_pred_xgb*pre[5]\n",
        "    #     y_pred_ensemble=y_pred_ensemble/(pre[0]+pre[1]+pre[2]+pre[3]+pre[4]+pre[5])\n",
        "    #     fpr, tpr, thresholds = roc_curve(y_test, y_pred_ensemble)\n",
        "    #     auc=metrics.auc(fpr, tpr)\n",
        "    #     if auc>auc_max:\n",
        "    #         auc_max=auc\n",
        "    #         print(\"New Max detected\")\n",
        "    #         print(\"Auc\",auc)\n",
        "    #         print(\"--------------------------------------------\")\n",
        "    #         pre_max=pre\n",
        "    #     if i%1000==0:\n",
        "    #         print(str(i))\n",
        "\n",
        "    pre = (0.9874, 0.5109, 0.4046, 0.00178, 0.18467, 0.17939) # Calculated by finetuning\n",
        "\n",
        "    y_pred_ensemble = y_test_pred_DNN_5*pre[0]\n",
        "    print(\"1.2 Added XGBoost\")\n",
        "    y_pred_ensemble += y_test_pred_model_ResNet_52*pre[1]\n",
        "    print(\"2.2 Added DNN 5\")\n",
        "    y_pred_ensemble += y_test_pred_NN_Shallow_1024*pre[2]\n",
        "    print(\"3.2 Added Shallow 1024\")\n",
        "    y_pred_ensemble += y_test_pred_NN_Shallow_10240*pre[3]\n",
        "    print(\"4.2 Added Shallow 2048\")\n",
        "    y_pred_ensemble += y_test_pred_NN_Shallow_2048*pre[4]\n",
        "    print(\"5.2 Added Shallow 10240\")\n",
        "    y_pred_ensemble += y_test_pred_xgb*pre[5]\n",
        "    print(\"6.2 Added ResNet 52\")\n",
        "\n",
        "    y_pred_ensemble /= sum(pre)\n",
        "    # ntgt() # Used for fine tuning of model, @Aritra don't uncomment it\n",
        "    return y_pred_ensemble"
      ],
      "id": "O6nmA8ydhucf",
      "execution_count": null,
      "outputs": []
    },
    {
      "cell_type": "markdown",
      "metadata": {
        "id": "ni_q_rzHUOXN"
      },
      "source": [
        "# Calling the functions Sequentially"
      ],
      "id": "ni_q_rzHUOXN"
    },
    {
      "cell_type": "code",
      "metadata": {
        "id": "KGe9CsoBJIYc"
      },
      "source": [
        "# Refining the data!\n",
        "refine_data()"
      ],
      "id": "KGe9CsoBJIYc",
      "execution_count": 23,
      "outputs": []
    },
    {
      "cell_type": "code",
      "metadata": {
        "id": "A7_C4J-Yh8Aa"
      },
      "source": [
        "# Importing the dataset\n",
        "df_data = pd.read_csv(\"DataSetNormalised.csv\")\n",
        "df_label = pd.read_csv(\"LabelSet.csv\")"
      ],
      "id": "A7_C4J-Yh8Aa",
      "execution_count": 24,
      "outputs": []
    },
    {
      "cell_type": "code",
      "metadata": {
        "id": "FdNMbLy6AI-2"
      },
      "source": [
        "# Separating the data\n",
        "x = np.array(df_data.iloc[:,1:])\n",
        "y = np.array(df_label.iloc[:,1])\n",
        "x = x.astype(np.float32)\n",
        "x_train = x[:][:1_00_00_000]\n",
        "y_train = y[:][:1_00_00_000]\n",
        "x_test = x[:][-1_00_000:]\n",
        "y_test = y[:][-1_00_000:]"
      ],
      "id": "FdNMbLy6AI-2",
      "execution_count": 25,
      "outputs": []
    },
    {
      "cell_type": "code",
      "metadata": {
        "id": "zN1gDHEPgH-X"
      },
      "source": [
        "# # Calling the models for training\n",
        "# #       This has been intensionally commented out because\n",
        "# #       we have already trained them and downloaded the weights\n",
        "# #       from Google Drive. See Initialization part.\n",
        "# #       Note: As you are not running this block, the next block\n",
        "# #             will throw a number of warnings, please ignore them!\n",
        "# DNN5_fc()\n",
        "# RN52_fc()\n",
        "# XGB_fc()\n",
        "# S1024_fc()\n",
        "# S2048_fc()\n",
        "# S10240_fc()"
      ],
      "id": "zN1gDHEPgH-X",
      "execution_count": null,
      "outputs": []
    },
    {
      "cell_type": "code",
      "metadata": {
        "colab": {
          "base_uri": "https://localhost:8080/"
        },
        "id": "fZpTPhWfioop",
        "outputId": "72d8b90a-09a0-4941-f594-719526fea221"
      },
      "source": [
        "# Caling the ensemble\n",
        "# Send the data set X (After normalisation min-max)\n",
        "# keep y_test as the testing data set\n",
        "y_pred = ens_fc(x_test) # takes around 3 minutes"
      ],
      "id": "fZpTPhWfioop",
      "execution_count": 26,
      "outputs": [
        {
          "output_type": "stream",
          "name": "stdout",
          "text": [
            "starting\n",
            "\n",
            "\n",
            "1.1 Loaded XGBoost\n",
            "\n",
            "\n",
            "WARNING:tensorflow:SavedModel saved prior to TF 2.5 detected when loading Keras model. Please ensure that you are saving the model with model.save() or tf.keras.models.save_model(), *NOT* tf.saved_model.save(). To confirm, there should be a file named \"keras_metadata.pb\" in the SavedModel directory.\n"
          ]
        },
        {
          "output_type": "stream",
          "name": "stderr",
          "text": [
            "WARNING:absl:Importing a function (__inference_sequential_2_layer_call_and_return_conditional_losses_202507) with ops with unsaved custom gradients. Will likely fail if a gradient is requested.\n",
            "WARNING:absl:Importing a function (__inference_dense_15_layer_call_and_return_conditional_losses_203133) with ops with unsaved custom gradients. Will likely fail if a gradient is requested.\n",
            "WARNING:absl:Importing a function (__inference_dense_14_layer_call_and_return_conditional_losses_203026) with ops with unsaved custom gradients. Will likely fail if a gradient is requested.\n",
            "WARNING:absl:Importing a function (__inference_dense_13_layer_call_and_return_conditional_losses_201541) with ops with unsaved custom gradients. Will likely fail if a gradient is requested.\n",
            "WARNING:absl:Importing a function (__inference__wrapped_model_200754) with ops with unsaved custom gradients. Will likely fail if a gradient is requested.\n",
            "WARNING:absl:Importing a function (__inference_dense_14_layer_call_and_return_conditional_losses_201608) with ops with unsaved custom gradients. Will likely fail if a gradient is requested.\n",
            "WARNING:absl:Importing a function (__inference_dense_13_layer_call_and_return_conditional_losses_202919) with ops with unsaved custom gradients. Will likely fail if a gradient is requested.\n",
            "WARNING:absl:Importing a function (__inference_dense_15_layer_call_and_return_conditional_losses_201675) with ops with unsaved custom gradients. Will likely fail if a gradient is requested.\n",
            "WARNING:absl:Importing a function (__inference_dense_16_layer_call_and_return_conditional_losses_201742) with ops with unsaved custom gradients. Will likely fail if a gradient is requested.\n",
            "WARNING:absl:Importing a function (__inference_dense_16_layer_call_and_return_conditional_losses_203240) with ops with unsaved custom gradients. Will likely fail if a gradient is requested.\n",
            "WARNING:absl:Importing a function (__inference_dense_12_layer_call_and_return_conditional_losses_201474) with ops with unsaved custom gradients. Will likely fail if a gradient is requested.\n",
            "WARNING:absl:Importing a function (__inference_sequential_2_layer_call_and_return_conditional_losses_202658) with ops with unsaved custom gradients. Will likely fail if a gradient is requested.\n",
            "WARNING:absl:Importing a function (__inference_dense_12_layer_call_and_return_conditional_losses_202812) with ops with unsaved custom gradients. Will likely fail if a gradient is requested.\n"
          ]
        },
        {
          "output_type": "stream",
          "name": "stdout",
          "text": [
            "\n",
            "\n",
            "2.1 Loaded DNN 5\n",
            "\n",
            "\n",
            "WARNING:tensorflow:SavedModel saved prior to TF 2.5 detected when loading Keras model. Please ensure that you are saving the model with model.save() or tf.keras.models.save_model(), *NOT* tf.saved_model.save(). To confirm, there should be a file named \"keras_metadata.pb\" in the SavedModel directory.\n"
          ]
        },
        {
          "output_type": "stream",
          "name": "stderr",
          "text": [
            "WARNING:tensorflow:SavedModel saved prior to TF 2.5 detected when loading Keras model. Please ensure that you are saving the model with model.save() or tf.keras.models.save_model(), *NOT* tf.saved_model.save(). To confirm, there should be a file named \"keras_metadata.pb\" in the SavedModel directory.\n",
            "WARNING:absl:Importing a function (__inference__wrapped_model_71612) with ops with unsaved custom gradients. Will likely fail if a gradient is requested.\n",
            "WARNING:absl:Importing a function (__inference_sequential_1_layer_call_and_return_conditional_losses_72687) with ops with unsaved custom gradients. Will likely fail if a gradient is requested.\n",
            "WARNING:absl:Importing a function (__inference_dense_8_layer_call_and_return_conditional_losses_73082) with ops with unsaved custom gradients. Will likely fail if a gradient is requested.\n",
            "WARNING:absl:Importing a function (__inference_sequential_1_layer_call_and_return_conditional_losses_72772) with ops with unsaved custom gradients. Will likely fail if a gradient is requested.\n",
            "WARNING:absl:Importing a function (__inference_dense_8_layer_call_and_return_conditional_losses_72176) with ops with unsaved custom gradients. Will likely fail if a gradient is requested.\n"
          ]
        },
        {
          "output_type": "stream",
          "name": "stdout",
          "text": [
            "\n",
            "\n",
            "3.1 Loaded Shallow 1024\n",
            "\n",
            "\n",
            "WARNING:tensorflow:SavedModel saved prior to TF 2.5 detected when loading Keras model. Please ensure that you are saving the model with model.save() or tf.keras.models.save_model(), *NOT* tf.saved_model.save(). To confirm, there should be a file named \"keras_metadata.pb\" in the SavedModel directory.\n"
          ]
        },
        {
          "output_type": "stream",
          "name": "stderr",
          "text": [
            "WARNING:tensorflow:SavedModel saved prior to TF 2.5 detected when loading Keras model. Please ensure that you are saving the model with model.save() or tf.keras.models.save_model(), *NOT* tf.saved_model.save(). To confirm, there should be a file named \"keras_metadata.pb\" in the SavedModel directory.\n"
          ]
        },
        {
          "output_type": "stream",
          "name": "stdout",
          "text": [
            "\n",
            "\n",
            "4.1 Loaded Shallow 2048\n",
            "\n",
            "\n",
            "WARNING:tensorflow:SavedModel saved prior to TF 2.5 detected when loading Keras model. Please ensure that you are saving the model with model.save() or tf.keras.models.save_model(), *NOT* tf.saved_model.save(). To confirm, there should be a file named \"keras_metadata.pb\" in the SavedModel directory.\n"
          ]
        },
        {
          "output_type": "stream",
          "name": "stderr",
          "text": [
            "WARNING:tensorflow:SavedModel saved prior to TF 2.5 detected when loading Keras model. Please ensure that you are saving the model with model.save() or tf.keras.models.save_model(), *NOT* tf.saved_model.save(). To confirm, there should be a file named \"keras_metadata.pb\" in the SavedModel directory.\n"
          ]
        },
        {
          "output_type": "stream",
          "name": "stdout",
          "text": [
            "\n",
            "\n",
            "5.1 Loaded Shallow 10240\n",
            "\n",
            "\n",
            "\n",
            "\n",
            "6.1 Loaded ResNet 52\n",
            "\n",
            "\n",
            "1.2 Added XGBoost\n",
            "2.2 Added DNN 5\n",
            "3.2 Added Shallow 1024\n",
            "4.2 Added Shallow 2048\n",
            "5.2 Added Shallow 10240\n",
            "6.2 Added ResNet 52\n"
          ]
        }
      ]
    },
    {
      "cell_type": "markdown",
      "metadata": {
        "id": "hf41EezNj1rQ"
      },
      "source": [
        "# Finally Some Nice looking Curves"
      ],
      "id": "hf41EezNj1rQ"
    },
    {
      "cell_type": "code",
      "metadata": {
        "id": "kMsAZ7vEj5xo",
        "colab": {
          "base_uri": "https://localhost:8080/",
          "height": 296
        },
        "outputId": "358cadf3-0ae8-4f19-e227-6d38169b74e9"
      },
      "source": [
        "fpr, tpr, _ = metrics.roc_curve(y_test,  y_pred)\n",
        "auc = metrics.roc_auc_score(y_test, y_pred)\n",
        "\n",
        "# St. line\n",
        "plt.plot([0,1], [0,1],\"r--\", label = \"Random Guess\")\n",
        "\n",
        "#create ROC curve\n",
        "plt.plot(fpr, tpr, label = f\"AUC = {auc}\")\n",
        "plt.ylabel('True Positive Rate')\n",
        "plt.xlabel('False Positive Rate')\n",
        "plt.legend(loc=4)"
      ],
      "id": "kMsAZ7vEj5xo",
      "execution_count": 64,
      "outputs": [
        {
          "output_type": "execute_result",
          "data": {
            "text/plain": [
              "<matplotlib.legend.Legend at 0x7f232a413b10>"
            ]
          },
          "metadata": {},
          "execution_count": 64
        },
        {
          "output_type": "display_data",
          "data": {
            "image/png": "[encoded data removed]",
            "text/plain": [
              "<Figure size 432x288 with 1 Axes>"
            ]
          },
          "metadata": {
            "needs_background": "light"
          }
        }
      ]
    },
    {
      "cell_type": "code",
      "metadata": {
        "id": "k0lAlBDoeYCN"
      },
      "source": [
        "{'loss': [0.44537463784217834, 0.4451797902584076, 0.4450972378253937, 0.4450857639312744, 0.44492238759994507, 0.4448518455028534], 'accuracy': [0.7851601839065552, 0.7852910161018372, 0.7853310108184814, 0.7853264212608337, 0.7853223085403442, 0.7854440212249756], 'auc': [0.8708066344261169, 0.8709152936935425, 0.8709655404090881, 0.870978593826294, 0.8710750937461853, 0.8711290955543518], 'val_loss': [0.5736591815948486, 1.8593565225601196, 1.006286382675171, 3.1589250564575195, 25685.76953125, 2.1641159057617188], 'val_accuracy': [0.7841129899024963, 0.7846320271492004, 0.7845209836959839, 0.78404301404953, 0.7844169735908508, 0.7846440076828003], 'val_auc': [0.8699930906295776, 0.8700432181358337, 0.8697729706764221, 0.8697682619094849, 0.869883120059967, 0.870121419429779], 'lr': [0.00060025003, 0.00060025003, 0.00060025003, 0.00060025003, 0.00060025003, 0.00060025003]}{'loss': [0.4452393054962158, 0.4451194405555725, 0.44487690925598145, 0.4449559450149536, 0.44487226009368896, 0.4447838068008423, 0.44471314549446106, 0.4444790482521057, 0.4445053040981293, 0.4444124400615692, 0.4443325400352478, 0.4443433880805969, 0.4442150592803955, 0.44369450211524963, 0.4435139000415802, 0.4434537887573242, 0.4433731138706207, 0.44340771436691284, 0.44333416223526, 0.4432116448879242], 'accuracy': [0.7852692008018494, 0.78522127866745, 0.7853940725326538, 0.7854893803596497, 0.7856035232543945, 0.7854087948799133, 0.785544216632843, 0.785669207572937, 0.7856650948524475, 0.7856717705726624, 0.7858644127845764, 0.7857384085655212, 0.7858850955963135, 0.7861741781234741, 0.7862080931663513, 0.7862579822540283, 0.786372184753418, 0.7864164710044861, 0.786497175693512, 0.7864280939102173], 'auc': [0.8708975315093994, 0.8709638714790344, 0.8711181282997131, 0.8710715174674988, 0.8711187839508057, 0.8711897730827332, 0.8712267279624939, 0.8713732957839966, 0.8713515400886536, 0.8714173436164856, 0.8714680075645447, 0.8714443445205688, 0.871559202671051, 0.8718685507774353, 0.8719781637191772, 0.8720131516456604, 0.8720647096633911, 0.8720505237579346, 0.8720999360084534, 0.8721757531166077], 'val_loss': [2.165666341781616, 0.8927901983261108, 0.5205112099647522, 4.035292148590088, 0.6830815672874451, 54096.66015625, 0.9731377363204956, 0.44668737053871155, 2.545509099960327, 0.48710960149765015, 0.48382803797721863, 42840.09765625, 0.44685015082359314, 0.4640824794769287, 0.5063101053237915, 0.4693959355354309, 0.4497092366218567, 0.4462331235408783, 0.8140530586242676, 0.503034234046936], 'val_accuracy': [0.7845669984817505, 0.784466028213501, 0.7838659882545471, 0.7845900058746338, 0.7844390273094177, 0.7844269871711731, 0.7839469909667969, 0.7844949960708618, 0.7843260169029236, 0.784525990486145, 0.7846609950065613, 0.7845249772071838, 0.784741997718811, 0.7850059866905212, 0.7848269939422607, 0.7847679853439331, 0.7846559882164001, 0.7849590182304382, 0.7845820188522339, 0.784434974193573], 'val_auc': [0.8701340556144714, 0.8700002431869507, 0.8696579933166504, 0.8700782656669617, 0.8698679804801941, 0.8698440790176392, 0.8695899248123169, 0.87004154920578, 0.8698633313179016, 0.8702415823936462, 0.8700898885726929, 0.8701831698417664, 0.8700182437896729, 0.8704537749290466, 0.8702768683433533, 0.8703945875167847, 0.8705032467842102, 0.8704500794410706, 0.8701916337013245, 0.8703584671020508], 'lr': [0.00060025003, 0.00060025003, 0.00060025003, 0.00060025003, 0.00060025003, 0.00060025003, 0.00060025003, 0.00060025003, 0.00060025003, 0.00060025003, 0.00060025003, 0.00060025003, 0.00060025003, 0.00042017503, 0.00042017503, 0.00042017503, 0.00042017503, 0.00042017503, 0.00042017503, 0.00042017503]}\n",
        "{'loss': [0.4431563913822174, 0.44303449988365173, 0.44294148683547974, 0.44295886158943176, 0.44284170866012573, 0.4428444504737854, 0.4428597092628479, 0.4427993595600128, 0.44237610697746277, 0.4422353506088257, 0.4421609044075012, 0.442228764295578, 0.4421907961368561, 0.4420779049396515, 0.44203975796699524, 0.4420362114906311, 0.44192299246788025, 0.441917359828949, 0.4418826103210449, 0.44184279441833496], 'accuracy': [0.7864758968353271, 0.7865694761276245, 0.7866505980491638, 0.7865535020828247, 0.7866969704627991, 0.7866923213005066, 0.7866567969322205, 0.7866870760917664, 0.7869560122489929, 0.7870677709579468, 0.7870261073112488, 0.7869372963905334, 0.787050724029541, 0.7871881723403931, 0.7872065901756287, 0.787198007106781, 0.7873404026031494, 0.7872613072395325, 0.7873111963272095, 0.7873731851577759], 'auc': [0.8722016215324402, 0.8722929358482361, 0.8723577260971069, 0.8723308444023132, 0.8724173307418823, 0.8724077939987183, 0.8724012970924377, 0.8724361062049866, 0.8727012276649475, 0.8727786540985107, 0.872826337814331, 0.8727787733078003, 0.872819721698761, 0.8728805780410767, 0.8729159235954285, 0.8729380369186401, 0.8729934692382812, 0.8729990720748901, 0.8730097413063049, 0.8730419874191284], 'val_loss': [0.5553719997406006, 0.44625023007392883, 0.4883098602294922, 0.44604185223579407, 705.1889038085938, 0.44620347023010254, 339.0149230957031, 0.45875465869903564, 0.44588834047317505, 2013.961669921875, 0.4457721710205078, 0.46696212887763977, 9409.125, 47316.96875, 2774.484375, 1805.3294677734375, 9863.880859375, 0.445977121591568, 28813.560546875, 0.44556063413619995], 'val_accuracy': [0.7847170233726501, 0.7848569750785828, 0.7850379943847656, 0.7850810289382935, 0.7850160002708435, 0.784932017326355, 0.7840179800987244, 0.7849379777908325, 0.78507000207901, 0.7848759889602661, 0.7852569818496704, 0.7848020195960999, 0.7848349809646606, 0.7850769758224487, 0.7851560115814209, 0.7847719788551331, 0.7850210070610046, 0.7851020097732544, 0.7853789925575256, 0.785368025302887], 'val_auc': [0.8702429533004761, 0.8703399300575256, 0.8704737424850464, 0.87056565284729, 0.8704674243927002, 0.8703835606575012, 0.8700353503227234, 0.8705053925514221, 0.8705784678459167, 0.870528519153595, 0.8706568479537964, 0.8701906204223633, 0.8706456422805786, 0.8707027435302734, 0.8706060647964478, 0.8707156777381897, 0.8706974387168884, 0.8706201314926147, 0.8707838654518127, 0.8708183765411377], 'lr': [0.00042017503, 0.00042017503, 0.00042017503, 0.00042017503, 0.00042017503, 0.00042017503, 0.00042017503, 0.00042017503, 0.00029412252, 0.00029412252, 0.00029412252, 0.00029412252, 0.00029412252, 0.00029412252, 0.00029412252, 0.00029412252, 0.00029412252, 0.00029412252, 0.00029412252, 0.00029412252]}\n",
        "{'loss': [0.4418342113494873, 0.44179511070251465, 0.4417319595813751, 0.4415923058986664, 0.44172266125679016, 0.441608190536499, 0.4415402114391327, 0.44153910875320435, 0.4414795935153961, 0.44137829542160034, 0.4413083493709564, 0.4413285553455353, 0.4410533010959625, 0.44097208976745605, 0.4409349858760834, 0.440885454416275, 0.44086575508117676, 0.4408797025680542, 0.4408808946609497, 0.4408074915409088], 'accuracy': [0.7874171733856201, 0.7873480916023254, 0.78732830286026, 0.7874295711517334, 0.7873958945274353, 0.7873669862747192, 0.7874389290809631, 0.787441074848175, 0.7875562906265259, 0.7876031994819641, 0.7876383066177368, 0.7876479029655457, 0.7877597808837891, 0.7877926230430603, 0.7879223823547363, 0.7877756953239441, 0.7878158092498779, 0.7878956198692322, 0.7879273295402527, 0.7879050970077515], 'auc': [0.8730550408363342, 0.8730775117874146, 0.8731063008308411, 0.8731870055198669, 0.8731157183647156, 0.873186469078064, 0.8732098340988159, 0.8732345700263977, 0.8732643723487854, 0.873324990272522, 0.873368501663208, 0.8733731508255005, 0.8735412955284119, 0.8735760450363159, 0.8736140727996826, 0.8736456036567688, 0.8736535906791687, 0.8736498355865479, 0.873652994632721, 0.8736891150474548], 'val_loss': [0.5242549180984497, 0.4713204503059387, 1.469652533531189, 0.4531354308128357, 0.6698909997940063, 2.0639894008636475, 0.44562768936157227, 1.003429651260376, 0.7336066365242004, 0.5090442895889282, 0.4473581314086914, 4.7290120124816895, 0.4458658695220947, 4.418654441833496, 0.6104274988174438, 0.8136916756629944, 4795.70947265625, 0.44557392597198486, 0.4456818103790283, 48820.52734375], 'val_accuracy': [0.785178005695343, 0.7848129868507385, 0.785090982913971, 0.7852920293807983, 0.7850459814071655, 0.7852789759635925, 0.7853050231933594, 0.7853299975395203, 0.7850540280342102, 0.7851359844207764, 0.7851529717445374, 0.7848939895629883, 0.7851799726486206, 0.78541499376297, 0.7853230237960815, 0.7854650020599365, 0.7853890061378479, 0.7852789759635925, 0.7852569818496704, 0.7852299809455872], 'val_auc': [0.8706567883491516, 0.8704123497009277, 0.8706368207931519, 0.8706369400024414, 0.8706123232841492, 0.8706191778182983, 0.8707656264305115, 0.8707928657531738, 0.8705054521560669, 0.8705712556838989, 0.8705978989601135, 0.8704720735549927, 0.8707215785980225, 0.8708040714263916, 0.8708327412605286, 0.8708876967430115, 0.8707688450813293, 0.8708024621009827, 0.87078458070755, 0.8706775903701782], 'lr': [0.00029412252, 0.00029412252, 0.00029412252, 0.00029412252, 0.00029412252, 0.00029412252, 0.00029412252, 0.00029412252, 0.00029412252, 0.00029412252, 0.00029412252, 0.00029412252, 0.00020588576, 0.00020588576, 0.00020588576, 0.00020588576, 0.00020588576, 0.00020588576, 0.00020588576, 0.00020588576]}\n",
        "{'loss': [0.4408873915672302, 0.4407165050506592, 0.44080808758735657, 0.4407130479812622, 0.44078513979911804, 0.44069185853004456, 0.44041651487350464, 0.4404270648956299, 0.4403790533542633, 0.44037294387817383, 0.44030439853668213, 0.4401875436306, 0.44018590450286865, 0.4403083026409149, 0.4401448965072632, 0.44016215205192566, 0.44017159938812256, 0.440135657787323, 0.44016000628471375, 0.4400821030139923], 'accuracy': [0.7879593968391418, 0.7880007028579712, 0.7879040241241455, 0.7880045771598816, 0.787985622882843, 0.7878599166870117, 0.7882112264633179, 0.7881346940994263, 0.7881835103034973, 0.7881357073783875, 0.7882167100906372, 0.7883082032203674, 0.7883548140525818, 0.7881770730018616, 0.788350522518158, 0.7884368896484375, 0.7883098721504211, 0.788294792175293, 0.7883043885231018, 0.7883623242378235], 'auc': [0.8736298084259033, 0.8737528324127197, 0.8736740946769714, 0.8737555742263794, 0.8736992478370667, 0.8737539649009705, 0.8739408850669861, 0.8739296197891235, 0.8739568591117859, 0.8739665150642395, 0.8740018010139465, 0.8740791082382202, 0.87408846616745, 0.8739920258522034, 0.8741047978401184, 0.8741046190261841, 0.8740831017494202, 0.8741014003753662, 0.8740876317024231, 0.8741413950920105], 'val_loss': [0.44566845893859863, 0.4460647702217102, 0.4457917809486389, 0.44566306471824646, 0.44576820731163025, 0.4454995095729828, 149424.546875, 0.4455567002296448, 5256.93017578125, 3.78739857673645, 0.4473629891872406, 0.4455203711986542, 0.6183498501777649, 32934.78125, 73.67527770996094, 216.63973999023438, 0.44573286175727844, 2.1716437339782715, 0.5683817267417908, 1.0456266403198242], 'val_accuracy': [0.785269021987915, 0.7850210070610046, 0.7850660085678101, 0.785207986831665, 0.7852510213851929, 0.7853010296821594, 0.785485029220581, 0.785377025604248, 0.7853540182113647, 0.7853919863700867, 0.7852810025215149, 0.7855740189552307, 0.7852090001106262, 0.7852960228919983, 0.7853720188140869, 0.7853649854660034, 0.7854269742965698, 0.7852429747581482, 0.7853010296821594, 0.7853450179100037], 'val_auc': [0.8707451820373535, 0.8706709146499634, 0.8708051443099976, 0.8707252740859985, 0.87076336145401, 0.8708164691925049, 0.8708465695381165, 0.8708931803703308, 0.8708764314651489, 0.870867908000946, 0.8707985877990723, 0.8708720207214355, 0.8707907795906067, 0.8708187937736511, 0.8709049820899963, 0.8708741664886475, 0.8707801103591919, 0.8708727359771729, 0.8707669377326965, 0.8708722591400146], 'lr': [0.00020588576, 0.00020588576, 0.00020588576, 0.00020588576, 0.00020588576, 0.00020588576, 0.00014412003, 0.00014412003, 0.00014412003, 0.00014412003, 0.00014412003, 0.00014412003, 0.00014412003, 0.00014412003, 0.00014412003, 0.00014412003, 0.00014412003, 0.00014412003, 0.00014412003, 0.00014412003]}\n",
        "\n",
        "\n",
        "plt.plot(history.history['loss'])\n",
        "plt.plot(history.history['val_loss'])\n",
        "plt.title('model loss')\n",
        "plt.ylabel('loss')\n",
        "plt.xlabel('epoch')\n",
        "plt.legend(['train', 'test'], loc='upper left')\n",
        "plt.show()"
      ],
      "id": "k0lAlBDoeYCN",
      "execution_count": null,
      "outputs": []
    }
  ]
}