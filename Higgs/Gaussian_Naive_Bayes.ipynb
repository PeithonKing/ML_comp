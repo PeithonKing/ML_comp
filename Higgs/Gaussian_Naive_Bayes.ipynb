{
 "cells": [
  {
   "cell_type": "code",
   "execution_count": 1,
   "id": "f04fac18",
   "metadata": {},
   "outputs": [],
   "source": [
    "import numpy as np\n",
    "import pandas as pd\n",
    "from xgboost import XGBClassifier\n",
    "from sklearn.metrics import accuracy_score\n",
    "from sklearn.metrics import roc_curve\n",
    "from sklearn import metrics\n",
    "from sklearn.naive_bayes import GaussianNB as nb\n",
    "df_data=pd.read_csv(\"DataSetNormalised.csv\")\n",
    "df_label=pd.read_csv(\"LabelSet.csv\")\n",
    "x=np.array(df_data.iloc[:,1:])\n",
    "y=np.array(df_label.iloc[:,1])\n",
    "x=x.astype(np.float32)\n",
    "x_train=x[:10000000][:]\n",
    "y_train=y[:10000000][:]\n",
    "x_test=x[10000000:][:]\n",
    "y_test=y[10000000:][:]\n"
   ]
  },
  {
   "cell_type": "code",
   "execution_count": 14,
   "id": "b5e3e198",
   "metadata": {},
   "outputs": [],
   "source": [
    "import joblib"
   ]
  },
  {
   "cell_type": "code",
   "execution_count": 2,
   "id": "b9c00c13",
   "metadata": {},
   "outputs": [
    {
     "data": {
      "text/plain": [
       "(10000000, 28)"
      ]
     },
     "execution_count": 2,
     "metadata": {},
     "output_type": "execute_result"
    }
   ],
   "source": [
    "x_train.shape"
   ]
  },
  {
   "cell_type": "code",
   "execution_count": 3,
   "id": "241f6a21",
   "metadata": {},
   "outputs": [],
   "source": [
    "gnb=nb()"
   ]
  },
  {
   "cell_type": "code",
   "execution_count": 9,
   "id": "5bab7da9",
   "metadata": {},
   "outputs": [
    {
     "data": {
      "text/plain": [
       "GaussianNB()"
      ]
     },
     "execution_count": 9,
     "metadata": {},
     "output_type": "execute_result"
    }
   ],
   "source": [
    "gnb.fit(x_train,y_train)"
   ]
  },
  {
   "cell_type": "code",
   "execution_count": 12,
   "id": "1aa15a8c",
   "metadata": {},
   "outputs": [],
   "source": [
    "y_pred=gnb.predict(x_train)"
   ]
  },
  {
   "cell_type": "code",
   "execution_count": 13,
   "id": "990bc96b",
   "metadata": {},
   "outputs": [
    {
     "name": "stdout",
     "output_type": "stream",
     "text": [
      "The testing accuracy 60.321749999999994\n"
     ]
    }
   ],
   "source": [
    "accuracy_test = accuracy_score(y_train, y_pred)\n",
    "print(\"The testing accuracy\", accuracy_test*100)"
   ]
  },
  {
   "cell_type": "code",
   "execution_count": null,
   "id": "ee5dbb6d",
   "metadata": {},
   "outputs": [],
   "source": [
    "gnb.save_model"
   ]
  }
 ],
 "metadata": {
  "kernelspec": {
   "display_name": "Python 3",
   "language": "python",
   "name": "python3"
  },
  "language_info": {
   "codemirror_mode": {
    "name": "ipython",
    "version": 3
   },
   "file_extension": ".py",
   "mimetype": "text/x-python",
   "name": "python",
   "nbconvert_exporter": "python",
   "pygments_lexer": "ipython3",
   "version": "3.8.8"
  }
 },
 "nbformat": 4,
 "nbformat_minor": 5
}
