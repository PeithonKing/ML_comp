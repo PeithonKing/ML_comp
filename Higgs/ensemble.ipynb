{
 "cells": [
  {
   "cell_type": "code",
   "execution_count": 1,
   "id": "43d50477",
   "metadata": {},
   "outputs": [],
   "source": [
    "import numpy as np\n",
    "import matplotlib.pyplot as plt\n",
    "import pandas as pd\n",
    "from xgboost import XGBClassifier\n",
    "from sklearn.metrics import accuracy_score\n",
    "from sklearn.metrics import roc_curve\n",
    "from sklearn import metrics\n",
    "import xgboost as xgb\n",
    "import tensorflow as tf"
   ]
  },
  {
   "cell_type": "code",
   "execution_count": 2,
   "id": "5418ad6c",
   "metadata": {},
   "outputs": [],
   "source": [
    "df_data=pd.read_csv(\"DataSetNormalised.csv\")\n",
    "df_label=pd.read_csv(\"LabelSet.csv\")"
   ]
  },
  {
   "cell_type": "code",
   "execution_count": 4,
   "id": "d20fe395",
   "metadata": {},
   "outputs": [],
   "source": [
    "x=np.array(df_data.iloc[:,1:])\n",
    "y=np.array(df_label.iloc[:,1])\n",
    "x=x.astype(np.float32)\n",
    "x_test=x[10000000:11000000][:]\n",
    "y_test=y[10000000:11000000][:]"
   ]
  },
  {
   "cell_type": "code",
   "execution_count": 5,
   "id": "7ec91354",
   "metadata": {},
   "outputs": [],
   "source": [
    "model_xgb=XGBClassifier()\n",
    "model_xgb.load_model(\"XGBoost.json\")"
   ]
  },
  {
   "cell_type": "code",
   "execution_count": 6,
   "id": "a48c96c8",
   "metadata": {},
   "outputs": [
    {
     "name": "stdout",
     "output_type": "stream",
     "text": [
      "The training accuracy 0.765251\n"
     ]
    }
   ],
   "source": [
    "y_test_pred_xgb=model_xgb.predict(x_test)\n",
    "accuracy = accuracy_score(y_test, y_test_pred_xgb)\n",
    "print(\"The training accuracy\",str(accuracy))"
   ]
  },
  {
   "cell_type": "code",
   "execution_count": 12,
   "id": "c41894c0",
   "metadata": {},
   "outputs": [
    {
     "name": "stdout",
     "output_type": "stream",
     "text": [
      "WARNING:tensorflow:Importing a function (__inference_sequential_2_layer_call_and_return_conditional_losses_202507) with ops with custom gradients. Will likely fail if a gradient is requested.\n",
      "WARNING:tensorflow:Importing a function (__inference_sequential_2_layer_call_and_return_conditional_losses_202507) with ops with custom gradients. Will likely fail if a gradient is requested.\n",
      "WARNING:tensorflow:Importing a function (__inference_sequential_2_layer_call_and_return_conditional_losses_202507) with ops with custom gradients. Will likely fail if a gradient is requested.\n",
      "WARNING:tensorflow:Importing a function (__inference_sequential_2_layer_call_and_return_conditional_losses_202507) with ops with custom gradients. Will likely fail if a gradient is requested.\n",
      "WARNING:tensorflow:Importing a function (__inference_sequential_2_layer_call_and_return_conditional_losses_202507) with ops with custom gradients. Will likely fail if a gradient is requested.\n",
      "WARNING:tensorflow:Importing a function (__inference_dense_15_layer_call_and_return_conditional_losses_203133) with ops with custom gradients. Will likely fail if a gradient is requested.\n",
      "WARNING:tensorflow:Importing a function (__inference_dense_14_layer_call_and_return_conditional_losses_203026) with ops with custom gradients. Will likely fail if a gradient is requested.\n",
      "WARNING:tensorflow:Importing a function (__inference_dense_13_layer_call_and_return_conditional_losses_201541) with ops with custom gradients. Will likely fail if a gradient is requested.\n",
      "WARNING:tensorflow:Importing a function (__inference__wrapped_model_200754) with ops with custom gradients. Will likely fail if a gradient is requested.\n",
      "WARNING:tensorflow:Importing a function (__inference__wrapped_model_200754) with ops with custom gradients. Will likely fail if a gradient is requested.\n",
      "WARNING:tensorflow:Importing a function (__inference__wrapped_model_200754) with ops with custom gradients. Will likely fail if a gradient is requested.\n",
      "WARNING:tensorflow:Importing a function (__inference__wrapped_model_200754) with ops with custom gradients. Will likely fail if a gradient is requested.\n",
      "WARNING:tensorflow:Importing a function (__inference__wrapped_model_200754) with ops with custom gradients. Will likely fail if a gradient is requested.\n",
      "WARNING:tensorflow:Importing a function (__inference_dense_14_layer_call_and_return_conditional_losses_201608) with ops with custom gradients. Will likely fail if a gradient is requested.\n",
      "WARNING:tensorflow:Importing a function (__inference_dense_13_layer_call_and_return_conditional_losses_202919) with ops with custom gradients. Will likely fail if a gradient is requested.\n",
      "WARNING:tensorflow:Importing a function (__inference_dense_15_layer_call_and_return_conditional_losses_201675) with ops with custom gradients. Will likely fail if a gradient is requested.\n",
      "WARNING:tensorflow:Importing a function (__inference_dense_16_layer_call_and_return_conditional_losses_201742) with ops with custom gradients. Will likely fail if a gradient is requested.\n",
      "WARNING:tensorflow:Importing a function (__inference_dense_16_layer_call_and_return_conditional_losses_203240) with ops with custom gradients. Will likely fail if a gradient is requested.\n",
      "WARNING:tensorflow:Importing a function (__inference_dense_12_layer_call_and_return_conditional_losses_201474) with ops with custom gradients. Will likely fail if a gradient is requested.\n",
      "WARNING:tensorflow:Importing a function (__inference_sequential_2_layer_call_and_return_conditional_losses_202658) with ops with custom gradients. Will likely fail if a gradient is requested.\n",
      "WARNING:tensorflow:Importing a function (__inference_sequential_2_layer_call_and_return_conditional_losses_202658) with ops with custom gradients. Will likely fail if a gradient is requested.\n",
      "WARNING:tensorflow:Importing a function (__inference_sequential_2_layer_call_and_return_conditional_losses_202658) with ops with custom gradients. Will likely fail if a gradient is requested.\n",
      "WARNING:tensorflow:Importing a function (__inference_sequential_2_layer_call_and_return_conditional_losses_202658) with ops with custom gradients. Will likely fail if a gradient is requested.\n",
      "WARNING:tensorflow:Importing a function (__inference_sequential_2_layer_call_and_return_conditional_losses_202658) with ops with custom gradients. Will likely fail if a gradient is requested.\n",
      "WARNING:tensorflow:Importing a function (__inference_dense_12_layer_call_and_return_conditional_losses_202812) with ops with custom gradients. Will likely fail if a gradient is requested.\n"
     ]
    }
   ],
   "source": [
    "model_DNN_5 = tf.keras.models.load_model('DNN_5')\n",
    "y_test_pred_DNN_5=model_DNN_5.predict(x_test)"
   ]
  },
  {
   "cell_type": "code",
   "execution_count": 13,
   "id": "3b42f72f",
   "metadata": {},
   "outputs": [
    {
     "name": "stdout",
     "output_type": "stream",
     "text": [
      "WARNING:tensorflow:Importing a function (__inference__wrapped_model_71612) with ops with custom gradients. Will likely fail if a gradient is requested.\n",
      "WARNING:tensorflow:Importing a function (__inference_sequential_1_layer_call_and_return_conditional_losses_72687) with ops with custom gradients. Will likely fail if a gradient is requested.\n",
      "WARNING:tensorflow:Importing a function (__inference_dense_8_layer_call_and_return_conditional_losses_73082) with ops with custom gradients. Will likely fail if a gradient is requested.\n",
      "WARNING:tensorflow:Importing a function (__inference_sequential_1_layer_call_and_return_conditional_losses_72772) with ops with custom gradients. Will likely fail if a gradient is requested.\n",
      "WARNING:tensorflow:Importing a function (__inference_dense_8_layer_call_and_return_conditional_losses_72176) with ops with custom gradients. Will likely fail if a gradient is requested.\n"
     ]
    }
   ],
   "source": [
    "model_NN_Shallow_1024 = tf.keras.models.load_model('NN_Shallow_1024')\n",
    "y_test_pred_NN_Shallow_1024=model_NN_Shallow_1024.predict(x_test)"
   ]
  },
  {
   "cell_type": "code",
   "execution_count": 14,
   "id": "d3719043",
   "metadata": {},
   "outputs": [],
   "source": [
    "model_NN_Shallow_2048 = tf.keras.models.load_model('NN_Shallow_2048')\n",
    "y_test_pred_NN_Shallow_2048=model_NN_Shallow_2048.predict(x_test)"
   ]
  },
  {
   "cell_type": "code",
   "execution_count": 20,
   "id": "d08bfd31",
   "metadata": {},
   "outputs": [],
   "source": [
    "model_NN_Shallow_10240 = tf.keras.models.load_model('NN_Shallow_10240')\n",
    "y_test_pred_NN_Shallow_10240=model_NN_Shallow_10240.predict(x_test)"
   ]
  },
  {
   "cell_type": "code",
   "execution_count": 23,
   "id": "99251cde",
   "metadata": {},
   "outputs": [
    {
     "name": "stdout",
     "output_type": "stream",
     "text": [
      "The training accuracy 0.789642\n"
     ]
    }
   ],
   "source": [
    "y_pred_ensemble=y_test_pred_DNN_5+y_test_pred_NN_Shallow_1024+y_test_pred_NN_Shallow_2048+y_test_pred_NN_Shallow_10240\n",
    "y_pred_ensemble=y_pred_ensemble/4\n",
    "y_pred_ensemble.shape\n",
    "fpr, tpr, thresholds = roc_curve(y_test, y_pred_ensemble)\n",
    "metrics.auc(fpr, tpr)\n",
    "print(\"The training accuracy\",str(accuracy_score(y_test, np.round(y_pred_ensemble))))"
   ]
  },
  {
   "cell_type": "code",
   "execution_count": 24,
   "id": "462d2e42",
   "metadata": {},
   "outputs": [
    {
     "name": "stdout",
     "output_type": "stream",
     "text": [
      "The training accuracy 0.788488\n"
     ]
    },
    {
     "data": {
      "text/plain": [
       "0.7865833286210102"
      ]
     },
     "execution_count": 24,
     "metadata": {},
     "output_type": "execute_result"
    }
   ],
   "source": [
    "#Trying out average ensemble\n",
    "y_pred_ensemble=y_test_pred_DNN_5+0*y_test_pred_NN_Shallow_1024\n",
    "y_pred_ensemble=np.round(y_pred_ensemble)\n",
    "\n",
    "accuracy = accuracy_score(y_test, y_pred_ensemble)\n",
    "print(\"The training accuracy\",str(accuracy))\n",
    "fpr, tpr, thresholds = roc_curve(y_test, y_pred_ensemble)\n",
    "metrics.auc(fpr, tpr)\n"
   ]
  }
 ],
 "metadata": {
  "kernelspec": {
   "display_name": "Python 3",
   "language": "python",
   "name": "python3"
  },
  "language_info": {
   "codemirror_mode": {
    "name": "ipython",
    "version": 3
   },
   "file_extension": ".py",
   "mimetype": "text/x-python",
   "name": "python",
   "nbconvert_exporter": "python",
   "pygments_lexer": "ipython3",
   "version": "3.8.8"
  }
 },
 "nbformat": 4,
 "nbformat_minor": 5
}
