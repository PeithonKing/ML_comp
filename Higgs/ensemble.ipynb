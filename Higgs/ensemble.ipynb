{
 "cells": [
  {
   "cell_type": "code",
   "execution_count": 2,
   "id": "43d50477",
   "metadata": {},
   "outputs": [],
   "source": [
    "import numpy as np\n",
    "import matplotlib.pyplot as plt\n",
    "import pandas as pd\n",
    "from xgboost import XGBClassifier\n",
    "from sklearn.metrics import accuracy_score\n",
    "from sklearn.metrics import roc_curve\n",
    "from sklearn import metrics\n",
    "import xgboost as xgb\n",
    "import tensorflow as tf\n",
    "from gc import collect"
   ]
  },
  {
   "cell_type": "code",
   "execution_count": 3,
   "id": "5418ad6c",
   "metadata": {},
   "outputs": [],
   "source": [
    "df_data=pd.read_csv(\"DataSetNormalised.csv\")\n",
    "df_label=pd.read_csv(\"LabelSet.csv\")"
   ]
  },
  {
   "cell_type": "code",
   "execution_count": 4,
   "id": "d20fe395",
   "metadata": {},
   "outputs": [],
   "source": [
    "x=np.array(df_data.iloc[:,1:])\n",
    "y=np.array(df_label.iloc[:,1])\n",
    "x=x.astype(np.float32)\n",
    "x_test=x[10000000:11000000][:]\n",
    "y_test=y[10000000:11000000][:]\n",
    "x_train=x[:10000000][:]\n",
    "y_train=y[:10000000][:]"
   ]
  },
  {
   "cell_type": "code",
   "execution_count": 119,
   "id": "77872fad",
   "metadata": {},
   "outputs": [
    {
     "data": {
      "text/plain": [
       "1397"
      ]
     },
     "execution_count": 119,
     "metadata": {},
     "output_type": "execute_result"
    }
   ],
   "source": [
    "del df_data\n",
    "del df_label\n",
    "del x\n",
    "del y\n",
    "collect()"
   ]
  },
  {
   "cell_type": "code",
   "execution_count": 5,
   "id": "7ec91354",
   "metadata": {},
   "outputs": [],
   "source": [
    "model_xgb=XGBClassifier()\n",
    "model_xgb.load_model(\"XGBoost.json\")\n",
    "y_test_pred_xgb=model_xgb.predict_proba(x_test)\n",
    "y_train_pred_xgb=model_xgb.predict_proba(x_train)\n",
    "y_pred_xgb=y_test_pred_xgb[:,1]\n",
    "y_pred_xgb_train=y_train_pred_xgb[:,1]"
   ]
  },
  {
   "cell_type": "code",
   "execution_count": 6,
   "id": "ae9cfae8",
   "metadata": {},
   "outputs": [
    {
     "data": {
      "text/plain": [
       "(10000000, 1)"
      ]
     },
     "execution_count": 6,
     "metadata": {},
     "output_type": "execute_result"
    }
   ],
   "source": [
    "y_test_pred_xgb=np.reshape(y_pred_xgb,(1000000,1))\n",
    "y_train_pred_xgb=np.reshape(y_pred_xgb_train,(10000000,1))\n",
    "y_train_pred_xgb.shape"
   ]
  },
  {
   "cell_type": "code",
   "execution_count": 1,
   "id": "c41894c0",
   "metadata": {},
   "outputs": [
    {
     "ename": "NameError",
     "evalue": "name 'tf' is not defined",
     "output_type": "error",
     "traceback": [
      "\u001b[1;31m---------------------------------------------------------------------------\u001b[0m",
      "\u001b[1;31mNameError\u001b[0m                                 Traceback (most recent call last)",
      "\u001b[1;32m<ipython-input-1-80e89ba7e599>\u001b[0m in \u001b[0;36m<module>\u001b[1;34m\u001b[0m\n\u001b[1;32m----> 1\u001b[1;33m \u001b[0mmodel_DNN_5\u001b[0m \u001b[1;33m=\u001b[0m \u001b[0mtf\u001b[0m\u001b[1;33m.\u001b[0m\u001b[0mkeras\u001b[0m\u001b[1;33m.\u001b[0m\u001b[0mmodels\u001b[0m\u001b[1;33m.\u001b[0m\u001b[0mload_model\u001b[0m\u001b[1;33m(\u001b[0m\u001b[1;34m'DNN_5'\u001b[0m\u001b[1;33m)\u001b[0m\u001b[1;33m\u001b[0m\u001b[1;33m\u001b[0m\u001b[0m\n\u001b[0m\u001b[0;32m      2\u001b[0m \u001b[0my_test_pred_DNN_5\u001b[0m\u001b[1;33m=\u001b[0m\u001b[0mmodel_DNN_5\u001b[0m\u001b[1;33m.\u001b[0m\u001b[0mpredict\u001b[0m\u001b[1;33m(\u001b[0m\u001b[0mx_test\u001b[0m\u001b[1;33m)\u001b[0m\u001b[1;33m\u001b[0m\u001b[1;33m\u001b[0m\u001b[0m\n\u001b[0;32m      3\u001b[0m \u001b[0my_train_pred_DNN_5\u001b[0m\u001b[1;33m=\u001b[0m\u001b[0mmodel_DNN_5\u001b[0m\u001b[1;33m(\u001b[0m\u001b[0mx_train\u001b[0m\u001b[1;33m)\u001b[0m\u001b[1;33m\u001b[0m\u001b[1;33m\u001b[0m\u001b[0m\n",
      "\u001b[1;31mNameError\u001b[0m: name 'tf' is not defined"
     ]
    }
   ],
   "source": [
    "model_DNN_5 = tf.keras.models.load_model('DNN_5')\n",
    "y_test_pred_DNN_5=model_DNN_5.predict(x_test)\n",
    "y_train_pred_DNN_5=model_DNN_5(x_train)"
   ]
  },
  {
   "cell_type": "code",
   "execution_count": null,
   "id": "3b42f72f",
   "metadata": {},
   "outputs": [],
   "source": [
    "model_NN_Shallow_1024 = tf.keras.models.load_model('NN_Shallow_1024')\n",
    "y_test_pred_NN_Shallow_1024=model_NN_Shallow_1024.predict(x_test)\n",
    "y_train_pred_NN_Shallow_1024=model_NN_Shallow_1024.predict(x_train)"
   ]
  },
  {
   "cell_type": "code",
   "execution_count": null,
   "id": "d3719043",
   "metadata": {},
   "outputs": [],
   "source": [
    "model_NN_Shallow_2048 = tf.keras.models.load_model('NN_Shallow_2048')\n",
    "y_test_pred_NN_Shallow_2048=model_NN_Shallow_2048.predict(x_test)\n",
    "y_train_pred_NN_Shallow_2048=model_NN_Shallow_2048.predict(x_train)"
   ]
  },
  {
   "cell_type": "code",
   "execution_count": 76,
   "id": "d08bfd31",
   "metadata": {},
   "outputs": [
    {
     "name": "stdout",
     "output_type": "stream",
     "text": [
      "WARNING:tensorflow:SavedModel saved prior to TF 2.5 detected when loading Keras model. Please ensure that you are saving the model with model.save() or tf.keras.models.save_model(), *NOT* tf.saved_model.save(). To confirm, there should be a file named \"keras_metadata.pb\" in the SavedModel directory.\n"
     ]
    },
    {
     "name": "stderr",
     "output_type": "stream",
     "text": [
      "WARNING:tensorflow:SavedModel saved prior to TF 2.5 detected when loading Keras model. Please ensure that you are saving the model with model.save() or tf.keras.models.save_model(), *NOT* tf.saved_model.save(). To confirm, there should be a file named \"keras_metadata.pb\" in the SavedModel directory.\n"
     ]
    },
    {
     "name": "stdout",
     "output_type": "stream",
     "text": [
      "The training auc 0.8140237759861899\n"
     ]
    }
   ],
   "source": [
    "model_NN_Shallow_10240 = tf.keras.models.load_model('NN_Shallow_10240')\n",
    "y_test_pred_NN_Shallow_10240=model_NN_Shallow_10240.predict(x_test)\n",
    "y_test_pred_NN_Shallow_10240=model_NN_Shallow_10240.predict(x_train)"
   ]
  },
  {
   "cell_type": "code",
   "execution_count": 77,
   "id": "8d24cdeb",
   "metadata": {},
   "outputs": [
    {
     "name": "stdout",
     "output_type": "stream",
     "text": [
      "The training auc 0.8693254776013825\n"
     ]
    }
   ],
   "source": [
    "model_ResNet_52 = tf.keras.models.load_model('ResNet_52')\n",
    "y_test_pred_model_ResNet_52=model_ResNet_52.predict(x_test)\n",
    "fpr, tpr, thresholds = roc_curve(y_test, y_test_pred_model_ResNet_52)\n",
    "auc=metrics.auc(fpr, tpr)\n",
    "print(\"The training auc\",str(auc))"
   ]
  },
  {
   "cell_type": "code",
   "execution_count": 116,
   "id": "99251cde",
   "metadata": {},
   "outputs": [
    {
     "data": {
      "text/plain": [
       "0.8759870002247364"
      ]
     },
     "execution_count": 116,
     "metadata": {},
     "output_type": "execute_result"
    }
   ],
   "source": [
    "y_pred_ensemble=y_test_pred_DNN_5\n",
    "y_pred_ensemble=y_pred_ensemble+y_test_pred_model_ResNet_52\n",
    "y_pred_ensemble=y_pred_ensemble+y_test_pred_NN_Shallow_1024\n",
    "y_pred_ensemble=y_pred_ensemble+y_test_pred_NN_Shallow_10240\n",
    "y_pred_ensemble=y_pred_ensemble+y_test_pred_NN_Shallow_2048\n",
    "y_pred_ensemble=y_pred_ensemble+y_test_pred_xgb\n",
    "y_pred_ensemble=y_pred_ensemble/5\n",
    "y_pred_ensemble.shape\n",
    "fpr, tpr, thresholds = roc_curve(y_test, y_pred_ensemble)\n",
    "metrics.auc(fpr, tpr)\n",
    "#print(\"The training accuracy\",str(accuracy_score(y_test, np.round(y_pred_ensemble))))"
   ]
  },
  {
   "cell_type": "code",
   "execution_count": 24,
   "id": "462d2e42",
   "metadata": {},
   "outputs": [
    {
     "name": "stdout",
     "output_type": "stream",
     "text": [
      "The training accuracy 0.788488\n"
     ]
    },
    {
     "data": {
      "text/plain": [
       "0.7865833286210102"
      ]
     },
     "execution_count": 24,
     "metadata": {},
     "output_type": "execute_result"
    }
   ],
   "source": [
    "#Trying out average ensemble\n",
    "y_pred_ensemble=y_test_pred_DNN_5+0*y_test_pred_NN_Shallow_1024\n",
    "y_pred_ensemble=np.round(y_pred_ensemble)\n",
    "\n",
    "accuracy = accuracy_score(y_test, y_pred_ensemble)\n",
    "print(\"The training accuracy\",str(accuracy))\n",
    "fpr, tpr, thresholds = roc_curve(y_test, y_pred_ensemble)\n",
    "metrics.auc(fpr, tpr)\n"
   ]
  },
  {
   "cell_type": "code",
   "execution_count": 123,
   "id": "b45f3b5d",
   "metadata": {},
   "outputs": [],
   "source": [
    "from numba import cuda \n",
    "device = cuda.get_current_device()\n",
    "device.reset()"
   ]
  }
 ],
 "metadata": {
  "kernelspec": {
   "display_name": "Python 3",
   "language": "python",
   "name": "python3"
  },
  "language_info": {
   "codemirror_mode": {
    "name": "ipython",
    "version": 3
   },
   "file_extension": ".py",
   "mimetype": "text/x-python",
   "name": "python",
   "nbconvert_exporter": "python",
   "pygments_lexer": "ipython3",
   "version": "3.8.8"
  }
 },
 "nbformat": 4,
 "nbformat_minor": 5
}
