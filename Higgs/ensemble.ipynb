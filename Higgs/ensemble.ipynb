{
 "cells": [
  {
   "cell_type": "code",
   "execution_count": 36,
   "id": "43d50477",
   "metadata": {},
   "outputs": [],
   "source": [
    "import numpy as np\n",
    "import matplotlib.pyplot as plt\n",
    "import pandas as pd\n",
    "from xgboost import XGBClassifier\n",
    "from sklearn.metrics import accuracy_score\n",
    "from sklearn.metrics import roc_curve\n",
    "from sklearn import metrics\n",
    "import xgboost as xgb\n",
    "import tensorflow as tf\n",
    "from gc import collect\n",
    "import pandas as pd\n",
    "import os\n",
    "checkpoint_path = \"training_ensemble/cp.ckpt\"\n",
    "checkpoint_dir = os.path.dirname(checkpoint_path)\n"
   ]
  },
  {
   "cell_type": "code",
   "execution_count": 15,
   "id": "5418ad6c",
   "metadata": {},
   "outputs": [],
   "source": [
    "df_data=pd.read_csv(\"DataSetNormalised.csv\")\n",
    "df_label=pd.read_csv(\"LabelSet.csv\")"
   ]
  },
  {
   "cell_type": "code",
   "execution_count": 16,
   "id": "d20fe395",
   "metadata": {},
   "outputs": [],
   "source": [
    "x=np.array(df_data.iloc[:,1:])\n",
    "y=np.array(df_label.iloc[:,1])\n",
    "x=x.astype(np.float32)\n",
    "x_test=x[10000000:11000000][:]\n",
    "y_test=y[10000000:11000000][:]\n",
    "x_train=x[:1000000][:]\n",
    "y_train=y[:1000000][:]"
   ]
  },
  {
   "cell_type": "code",
   "execution_count": 10,
   "id": "77872fad",
   "metadata": {},
   "outputs": [
    {
     "data": {
      "text/plain": [
       "0"
      ]
     },
     "execution_count": 10,
     "metadata": {},
     "output_type": "execute_result"
    }
   ],
   "source": [
    "del df_data\n",
    "del df_label\n",
    "del x\n",
    "del y\n",
    "collect()"
   ]
  },
  {
   "cell_type": "code",
   "execution_count": 17,
   "id": "7ec91354",
   "metadata": {},
   "outputs": [],
   "source": [
    "model_xgb=XGBClassifier()\n",
    "model_xgb.load_model(\"XGBoost.json\")\n",
    "y_test_pred_xgb=model_xgb.predict_proba(x_test)\n",
    "y_train_pred_xgb=model_xgb.predict_proba(x_train)\n",
    "y_pred_xgb=y_test_pred_xgb[:,1]\n",
    "y_pred_xgb_train=y_train_pred_xgb[:,1]"
   ]
  },
  {
   "cell_type": "code",
   "execution_count": 18,
   "id": "ae9cfae8",
   "metadata": {},
   "outputs": [
    {
     "data": {
      "text/plain": [
       "(1000000, 1)"
      ]
     },
     "execution_count": 18,
     "metadata": {},
     "output_type": "execute_result"
    }
   ],
   "source": [
    "y_test_pred_xgb=np.reshape(y_pred_xgb,(1000000,1))\n",
    "y_train_pred_xgb=np.reshape(y_pred_xgb_train,(1000000,1))\n",
    "y_train_pred_xgb.shape"
   ]
  },
  {
   "cell_type": "code",
   "execution_count": 19,
   "id": "c41894c0",
   "metadata": {},
   "outputs": [
    {
     "name": "stdout",
     "output_type": "stream",
     "text": [
      "WARNING:tensorflow:SavedModel saved prior to TF 2.5 detected when loading Keras model. Please ensure that you are saving the model with model.save() or tf.keras.models.save_model(), *NOT* tf.saved_model.save(). To confirm, there should be a file named \"keras_metadata.pb\" in the SavedModel directory.\n"
     ]
    },
    {
     "name": "stderr",
     "output_type": "stream",
     "text": [
      "WARNING:tensorflow:SavedModel saved prior to TF 2.5 detected when loading Keras model. Please ensure that you are saving the model with model.save() or tf.keras.models.save_model(), *NOT* tf.saved_model.save(). To confirm, there should be a file named \"keras_metadata.pb\" in the SavedModel directory.\n",
      "WARNING:absl:Importing a function (__inference_sequential_2_layer_call_and_return_conditional_losses_202507) with ops with unsaved custom gradients. Will likely fail if a gradient is requested.\n",
      "WARNING:absl:Importing a function (__inference_dense_15_layer_call_and_return_conditional_losses_203133) with ops with unsaved custom gradients. Will likely fail if a gradient is requested.\n",
      "WARNING:absl:Importing a function (__inference_dense_14_layer_call_and_return_conditional_losses_203026) with ops with unsaved custom gradients. Will likely fail if a gradient is requested.\n",
      "WARNING:absl:Importing a function (__inference_dense_13_layer_call_and_return_conditional_losses_201541) with ops with unsaved custom gradients. Will likely fail if a gradient is requested.\n",
      "WARNING:absl:Importing a function (__inference__wrapped_model_200754) with ops with unsaved custom gradients. Will likely fail if a gradient is requested.\n",
      "WARNING:absl:Importing a function (__inference_dense_14_layer_call_and_return_conditional_losses_201608) with ops with unsaved custom gradients. Will likely fail if a gradient is requested.\n",
      "WARNING:absl:Importing a function (__inference_dense_13_layer_call_and_return_conditional_losses_202919) with ops with unsaved custom gradients. Will likely fail if a gradient is requested.\n",
      "WARNING:absl:Importing a function (__inference_dense_15_layer_call_and_return_conditional_losses_201675) with ops with unsaved custom gradients. Will likely fail if a gradient is requested.\n",
      "WARNING:absl:Importing a function (__inference_dense_16_layer_call_and_return_conditional_losses_201742) with ops with unsaved custom gradients. Will likely fail if a gradient is requested.\n",
      "WARNING:absl:Importing a function (__inference_dense_16_layer_call_and_return_conditional_losses_203240) with ops with unsaved custom gradients. Will likely fail if a gradient is requested.\n",
      "WARNING:absl:Importing a function (__inference_dense_12_layer_call_and_return_conditional_losses_201474) with ops with unsaved custom gradients. Will likely fail if a gradient is requested.\n",
      "WARNING:absl:Importing a function (__inference_sequential_2_layer_call_and_return_conditional_losses_202658) with ops with unsaved custom gradients. Will likely fail if a gradient is requested.\n",
      "WARNING:absl:Importing a function (__inference_dense_12_layer_call_and_return_conditional_losses_202812) with ops with unsaved custom gradients. Will likely fail if a gradient is requested.\n"
     ]
    }
   ],
   "source": [
    "model_DNN_5 = tf.keras.models.load_model('DNN_5')\n",
    "y_test_pred_DNN_5=model_DNN_5.predict(x_test)\n",
    "y_train_pred_DNN_5=model_DNN_5(x_train)"
   ]
  },
  {
   "cell_type": "code",
   "execution_count": 20,
   "id": "3b42f72f",
   "metadata": {},
   "outputs": [
    {
     "name": "stdout",
     "output_type": "stream",
     "text": [
      "WARNING:tensorflow:SavedModel saved prior to TF 2.5 detected when loading Keras model. Please ensure that you are saving the model with model.save() or tf.keras.models.save_model(), *NOT* tf.saved_model.save(). To confirm, there should be a file named \"keras_metadata.pb\" in the SavedModel directory.\n"
     ]
    },
    {
     "name": "stderr",
     "output_type": "stream",
     "text": [
      "WARNING:tensorflow:SavedModel saved prior to TF 2.5 detected when loading Keras model. Please ensure that you are saving the model with model.save() or tf.keras.models.save_model(), *NOT* tf.saved_model.save(). To confirm, there should be a file named \"keras_metadata.pb\" in the SavedModel directory.\n",
      "WARNING:absl:Importing a function (__inference__wrapped_model_71612) with ops with unsaved custom gradients. Will likely fail if a gradient is requested.\n",
      "WARNING:absl:Importing a function (__inference_sequential_1_layer_call_and_return_conditional_losses_72687) with ops with unsaved custom gradients. Will likely fail if a gradient is requested.\n",
      "WARNING:absl:Importing a function (__inference_dense_8_layer_call_and_return_conditional_losses_73082) with ops with unsaved custom gradients. Will likely fail if a gradient is requested.\n",
      "WARNING:absl:Importing a function (__inference_sequential_1_layer_call_and_return_conditional_losses_72772) with ops with unsaved custom gradients. Will likely fail if a gradient is requested.\n",
      "WARNING:absl:Importing a function (__inference_dense_8_layer_call_and_return_conditional_losses_72176) with ops with unsaved custom gradients. Will likely fail if a gradient is requested.\n"
     ]
    }
   ],
   "source": [
    "model_NN_Shallow_1024 = tf.keras.models.load_model('NN_Shallow_1024')\n",
    "y_test_pred_NN_Shallow_1024=model_NN_Shallow_1024.predict(x_test)\n",
    "y_train_pred_NN_Shallow_1024=model_NN_Shallow_1024.predict(x_train)"
   ]
  },
  {
   "cell_type": "code",
   "execution_count": 21,
   "id": "d3719043",
   "metadata": {},
   "outputs": [
    {
     "name": "stdout",
     "output_type": "stream",
     "text": [
      "WARNING:tensorflow:SavedModel saved prior to TF 2.5 detected when loading Keras model. Please ensure that you are saving the model with model.save() or tf.keras.models.save_model(), *NOT* tf.saved_model.save(). To confirm, there should be a file named \"keras_metadata.pb\" in the SavedModel directory.\n"
     ]
    },
    {
     "name": "stderr",
     "output_type": "stream",
     "text": [
      "WARNING:tensorflow:SavedModel saved prior to TF 2.5 detected when loading Keras model. Please ensure that you are saving the model with model.save() or tf.keras.models.save_model(), *NOT* tf.saved_model.save(). To confirm, there should be a file named \"keras_metadata.pb\" in the SavedModel directory.\n"
     ]
    }
   ],
   "source": [
    "model_NN_Shallow_2048 = tf.keras.models.load_model('NN_Shallow_2048')\n",
    "y_test_pred_NN_Shallow_2048=model_NN_Shallow_2048.predict(x_test)\n",
    "y_train_pred_NN_Shallow_2048=model_NN_Shallow_2048.predict(x_train)"
   ]
  },
  {
   "cell_type": "code",
   "execution_count": 22,
   "id": "d08bfd31",
   "metadata": {},
   "outputs": [
    {
     "name": "stdout",
     "output_type": "stream",
     "text": [
      "WARNING:tensorflow:SavedModel saved prior to TF 2.5 detected when loading Keras model. Please ensure that you are saving the model with model.save() or tf.keras.models.save_model(), *NOT* tf.saved_model.save(). To confirm, there should be a file named \"keras_metadata.pb\" in the SavedModel directory.\n"
     ]
    },
    {
     "name": "stderr",
     "output_type": "stream",
     "text": [
      "WARNING:tensorflow:SavedModel saved prior to TF 2.5 detected when loading Keras model. Please ensure that you are saving the model with model.save() or tf.keras.models.save_model(), *NOT* tf.saved_model.save(). To confirm, there should be a file named \"keras_metadata.pb\" in the SavedModel directory.\n"
     ]
    }
   ],
   "source": [
    "model_NN_Shallow_10240 = tf.keras.models.load_model('NN_Shallow_10240')\n",
    "y_test_pred_NN_Shallow_10240=model_NN_Shallow_10240.predict(x_test)\n",
    "y_train_pred_NN_Shallow_10240=model_NN_Shallow_10240.predict(x_train)"
   ]
  },
  {
   "cell_type": "code",
   "execution_count": 23,
   "id": "8d24cdeb",
   "metadata": {},
   "outputs": [],
   "source": [
    "model_ResNet_52 = tf.keras.models.load_model('ResNet_52')\n",
    "y_test_pred_model_ResNet_52=model_ResNet_52.predict(x_test)\n",
    "y_train_pred_model_ResNet_52=model_ResNet_52.predict(x_train)"
   ]
  },
  {
   "cell_type": "code",
   "execution_count": 63,
   "id": "2b261485",
   "metadata": {},
   "outputs": [],
   "source": [
    "df_entrain=pd.DataFrame(x_train)\n",
    "df_entrain['XGB']=y_train_pred_xgb\n",
    "df_entrain['DNN5']=y_train_pred_DNN_5\n",
    "df_entrain['S1024']=y_train_pred_NN_Shallow_1024\n",
    "df_entrain['S2048']=y_train_pred_NN_Shallow_2048\n",
    "df_entrain['10240']=y_train_pred_NN_Shallow_10240\n",
    "df_entrain['RN52']=y_train_pred_model_ResNet_52\n",
    "df_entrain.to_csv(\"Train_ens.csv\")"
   ]
  },
  {
   "cell_type": "code",
   "execution_count": 64,
   "id": "24a139ec",
   "metadata": {},
   "outputs": [],
   "source": [
    "df_entest=pd.DataFrame(x_test)\n",
    "df_entest['XGB']=y_test_pred_xgb\n",
    "df_entest['DNN5']=y_test_pred_DNN_5\n",
    "df_entest['S1024']=y_test_pred_NN_Shallow_1024\n",
    "df_entest['S2048']=y_test_pred_NN_Shallow_2048\n",
    "df_entest['10240']=y_test_pred_NN_Shallow_10240\n",
    "df_entest['RN52']=y_test_pred_model_ResNet_52\n",
    "df_entest.to_csv(\"Test_ens.csv\")"
   ]
  },
  {
   "cell_type": "code",
   "execution_count": 45,
   "id": "47c4043a",
   "metadata": {},
   "outputs": [
    {
     "data": {
      "text/plain": [
       "(1000000, 6)"
      ]
     },
     "execution_count": 45,
     "metadata": {},
     "output_type": "execute_result"
    }
   ],
   "source": [
    "x_test_en=np.array(df_entest.iloc[:,28:])\n",
    "\n",
    "x_train_en=np.array(df_entrain.iloc[:,28:])\n",
    "x_test_en.shape"
   ]
  },
  {
   "cell_type": "code",
   "execution_count": 56,
   "id": "569a8bde",
   "metadata": {},
   "outputs": [
    {
     "data": {
      "text/plain": [
       "<tensorflow.python.training.tracking.util.CheckpointLoadStatus at 0x2264c155280>"
      ]
     },
     "execution_count": 56,
     "metadata": {},
     "output_type": "execute_result"
    }
   ],
   "source": [
    "latest = tf.train.latest_checkpoint(checkpoint_dir)\n",
    "model.load_weights(latest)\n"
   ]
  },
  {
   "cell_type": "code",
   "execution_count": 58,
   "id": "a6ab3d82",
   "metadata": {},
   "outputs": [],
   "source": [
    "model=tf.keras.Sequential([\n",
    "    tf.keras.layers.Dense(1,input_shape=(6,),activation='sigmoid')\n",
    "])"
   ]
  },
  {
   "cell_type": "code",
   "execution_count": 61,
   "id": "f8bbe7bf",
   "metadata": {},
   "outputs": [],
   "source": [
    "model.compile(\n",
    "        optimizer=tf.keras.optimizers.Adam(\n",
    "        learning_rate=0.01,\n",
    "        beta_1=0.9,\n",
    "        beta_2=0.999),\n",
    "        loss='binary_crossentropy',\n",
    "        metrics=['accuracy','AUC']\n",
    "    )"
   ]
  },
  {
   "cell_type": "code",
   "execution_count": 62,
   "id": "12ffd448",
   "metadata": {},
   "outputs": [
    {
     "name": "stdout",
     "output_type": "stream",
     "text": [
      "Epoch 1/100\n",
      "86/98 [=========================>....] - ETA: 0s - loss: 0.6826 - accuracy: 0.5029 - auc: 0.6433\n",
      "Epoch 00001: saving model to training_ensemble\\cp.ckpt\n",
      "98/98 [==============================] - 1s 8ms/step - loss: 0.6709 - accuracy: 0.5260 - auc: 0.6711 - val_loss: 0.5828 - val_accuracy: 0.7042 - val_auc: 0.8504\n",
      "Epoch 2/100\n",
      "86/98 [=========================>....] - ETA: 0s - loss: 0.5321 - accuracy: 0.7606 - auc: 0.8766\n",
      "Epoch 00002: saving model to training_ensemble\\cp.ckpt\n",
      "98/98 [==============================] - 1s 7ms/step - loss: 0.5276 - accuracy: 0.7637 - auc: 0.8769 - val_loss: 0.5050 - val_accuracy: 0.7731 - val_auc: 0.8675\n",
      "Epoch 3/100\n",
      "87/98 [=========================>....] - ETA: 0s - loss: 0.4682 - accuracy: 0.7978 - auc: 0.8889\n",
      "Epoch 00003: saving model to training_ensemble\\cp.ckpt\n",
      "98/98 [==============================] - 1s 7ms/step - loss: 0.4660 - accuracy: 0.7986 - auc: 0.8892 - val_loss: 0.4699 - val_accuracy: 0.7847 - val_auc: 0.8720\n",
      "Epoch 4/100\n",
      "87/98 [=========================>....] - ETA: 0s - loss: 0.4361 - accuracy: 0.8083 - auc: 0.8943\n",
      "Epoch 00004: saving model to training_ensemble\\cp.ckpt\n",
      "98/98 [==============================] - 1s 7ms/step - loss: 0.4352 - accuracy: 0.8082 - auc: 0.8943 - val_loss: 0.4541 - val_accuracy: 0.7885 - val_auc: 0.8742\n",
      "Epoch 5/100\n",
      "90/98 [==========================>...] - ETA: 0s - loss: 0.4189 - accuracy: 0.8127 - auc: 0.8975\n",
      "Epoch 00005: saving model to training_ensemble\\cp.ckpt\n",
      "98/98 [==============================] - 1s 7ms/step - loss: 0.4184 - accuracy: 0.8128 - auc: 0.8976 - val_loss: 0.4469 - val_accuracy: 0.7902 - val_auc: 0.8754\n",
      "Epoch 6/100\n",
      "86/98 [=========================>....] - ETA: 0s - loss: 0.4088 - accuracy: 0.8158 - auc: 0.9000\n",
      "Epoch 00006: saving model to training_ensemble\\cp.ckpt\n",
      "98/98 [==============================] - 1s 7ms/step - loss: 0.4082 - accuracy: 0.8160 - auc: 0.9002 - val_loss: 0.4437 - val_accuracy: 0.7911 - val_auc: 0.8762\n",
      "Epoch 7/100\n",
      "87/98 [=========================>....] - ETA: 0s - loss: 0.4018 - accuracy: 0.8185 - auc: 0.9022\n",
      "Epoch 00007: saving model to training_ensemble\\cp.ckpt\n",
      "98/98 [==============================] - 1s 7ms/step - loss: 0.4013 - accuracy: 0.8187 - auc: 0.9025 - val_loss: 0.4425 - val_accuracy: 0.7917 - val_auc: 0.8767\n",
      "Epoch 8/100\n",
      "86/98 [=========================>....] - ETA: 0s - loss: 0.3961 - accuracy: 0.8207 - auc: 0.9044\n",
      "Epoch 00008: saving model to training_ensemble\\cp.ckpt\n",
      "98/98 [==============================] - 1s 7ms/step - loss: 0.3960 - accuracy: 0.8208 - auc: 0.9045 - val_loss: 0.4422 - val_accuracy: 0.7919 - val_auc: 0.8770\n",
      "Epoch 9/100\n",
      "85/98 [=========================>....] - ETA: 0s - loss: 0.3920 - accuracy: 0.8227 - auc: 0.9062\n",
      "Epoch 00009: saving model to training_ensemble\\cp.ckpt\n",
      "98/98 [==============================] - 1s 7ms/step - loss: 0.3916 - accuracy: 0.8230 - auc: 0.9064 - val_loss: 0.4426 - val_accuracy: 0.7919 - val_auc: 0.8770\n",
      "Epoch 10/100\n",
      "98/98 [==============================] - ETA: 0s - loss: 0.3879 - accuracy: 0.8251 - auc: 0.9082\n",
      "Epoch 00010: saving model to training_ensemble\\cp.ckpt\n",
      "98/98 [==============================] - 1s 7ms/step - loss: 0.3879 - accuracy: 0.8251 - auc: 0.9082 - val_loss: 0.4433 - val_accuracy: 0.7919 - val_auc: 0.8769\n",
      "Epoch 11/100\n",
      "88/98 [=========================>....] - ETA: 0s - loss: 0.3848 - accuracy: 0.8269 - auc: 0.9096\n",
      "Epoch 00011: saving model to training_ensemble\\cp.ckpt\n",
      "98/98 [==============================] - 1s 7ms/step - loss: 0.3845 - accuracy: 0.8269 - auc: 0.9098 - val_loss: 0.4441 - val_accuracy: 0.7917 - val_auc: 0.8766\n",
      "Epoch 12/100\n",
      "98/98 [==============================] - ETA: 0s - loss: 0.3815 - accuracy: 0.8287 - auc: 0.9112\n",
      "Epoch 00012: saving model to training_ensemble\\cp.ckpt\n",
      "98/98 [==============================] - 1s 7ms/step - loss: 0.3815 - accuracy: 0.8287 - auc: 0.9112 - val_loss: 0.4452 - val_accuracy: 0.7914 - val_auc: 0.8762\n",
      "Epoch 13/100\n",
      "87/98 [=========================>....] - ETA: 0s - loss: 0.3790 - accuracy: 0.8302 - auc: 0.9125\n",
      "Epoch 00013: saving model to training_ensemble\\cp.ckpt\n",
      "98/98 [==============================] - 1s 7ms/step - loss: 0.3788 - accuracy: 0.8303 - auc: 0.9126 - val_loss: 0.4465 - val_accuracy: 0.7910 - val_auc: 0.8757\n",
      "Epoch 14/100\n",
      "87/98 [=========================>....] - ETA: 0s - loss: 0.3765 - accuracy: 0.8315 - auc: 0.9137\n",
      "Epoch 00014: saving model to training_ensemble\\cp.ckpt\n",
      "98/98 [==============================] - 1s 7ms/step - loss: 0.3763 - accuracy: 0.8317 - auc: 0.9138 - val_loss: 0.4479 - val_accuracy: 0.7904 - val_auc: 0.8751\n",
      "Epoch 15/100\n",
      "86/98 [=========================>....] - ETA: 0s - loss: 0.3745 - accuracy: 0.8329 - auc: 0.9146\n",
      "Epoch 00015: saving model to training_ensemble\\cp.ckpt\n",
      "98/98 [==============================] - 1s 7ms/step - loss: 0.3741 - accuracy: 0.8331 - auc: 0.9148 - val_loss: 0.4495 - val_accuracy: 0.7898 - val_auc: 0.8744\n",
      "Epoch 16/100\n",
      "87/98 [=========================>....] - ETA: 0s - loss: 0.3721 - accuracy: 0.8343 - auc: 0.9158\n",
      "Epoch 00016: saving model to training_ensemble\\cp.ckpt\n",
      "98/98 [==============================] - 1s 7ms/step - loss: 0.3721 - accuracy: 0.8342 - auc: 0.9158 - val_loss: 0.4513 - val_accuracy: 0.7893 - val_auc: 0.8736\n",
      "Epoch 17/100\n",
      "87/98 [=========================>....] - ETA: 0s - loss: 0.3701 - accuracy: 0.8352 - auc: 0.9167\n",
      "Epoch 00017: saving model to training_ensemble\\cp.ckpt\n",
      "98/98 [==============================] - 1s 7ms/step - loss: 0.3703 - accuracy: 0.8351 - auc: 0.9166 - val_loss: 0.4531 - val_accuracy: 0.7886 - val_auc: 0.8729\n",
      "Epoch 18/100\n",
      "87/98 [=========================>....] - ETA: 0s - loss: 0.3694 - accuracy: 0.8355 - auc: 0.9170\n",
      "Epoch 00018: saving model to training_ensemble\\cp.ckpt\n",
      "98/98 [==============================] - 1s 7ms/step - loss: 0.3687 - accuracy: 0.8360 - auc: 0.9173 - val_loss: 0.4550 - val_accuracy: 0.7880 - val_auc: 0.8721\n",
      "Epoch 19/100\n",
      "88/98 [=========================>....] - ETA: 0s - loss: 0.3674 - accuracy: 0.8367 - auc: 0.9179\n",
      "Epoch 00019: saving model to training_ensemble\\cp.ckpt\n",
      "98/98 [==============================] - 1s 7ms/step - loss: 0.3673 - accuracy: 0.8368 - auc: 0.9180 - val_loss: 0.4570 - val_accuracy: 0.7873 - val_auc: 0.8712\n",
      "Epoch 20/100\n",
      "94/98 [===========================>..] - ETA: 0s - loss: 0.3661 - accuracy: 0.8376 - auc: 0.9185\n",
      "Epoch 00020: saving model to training_ensemble\\cp.ckpt\n",
      "98/98 [==============================] - 1s 7ms/step - loss: 0.3661 - accuracy: 0.8375 - auc: 0.9185 - val_loss: 0.4589 - val_accuracy: 0.7866 - val_auc: 0.8703\n",
      "Epoch 21/100\n",
      "86/98 [=========================>....] - ETA: 0s - loss: 0.3649 - accuracy: 0.8383 - auc: 0.9190\n",
      "Epoch 00021: saving model to training_ensemble\\cp.ckpt\n",
      "98/98 [==============================] - 1s 7ms/step - loss: 0.3650 - accuracy: 0.8383 - auc: 0.9190 - val_loss: 0.4608 - val_accuracy: 0.7859 - val_auc: 0.8694\n",
      "Epoch 22/100\n",
      "88/98 [=========================>....] - ETA: 0s - loss: 0.3640 - accuracy: 0.8389 - auc: 0.9194\n",
      "Epoch 00022: saving model to training_ensemble\\cp.ckpt\n",
      "98/98 [==============================] - 1s 7ms/step - loss: 0.3640 - accuracy: 0.8388 - auc: 0.9194 - val_loss: 0.4629 - val_accuracy: 0.7853 - val_auc: 0.8686\n",
      "Epoch 23/100\n",
      "89/98 [==========================>...] - ETA: 0s - loss: 0.3633 - accuracy: 0.8392 - auc: 0.9197\n",
      "Epoch 00023: saving model to training_ensemble\\cp.ckpt\n",
      "98/98 [==============================] - 1s 7ms/step - loss: 0.3632 - accuracy: 0.8393 - auc: 0.9197 - val_loss: 0.4649 - val_accuracy: 0.7848 - val_auc: 0.8679\n",
      "Epoch 24/100\n",
      "87/98 [=========================>....] - ETA: 0s - loss: 0.3624 - accuracy: 0.8398 - auc: 0.9201\n",
      "Epoch 00024: saving model to training_ensemble\\cp.ckpt\n",
      "98/98 [==============================] - 1s 7ms/step - loss: 0.3625 - accuracy: 0.8398 - auc: 0.9200 - val_loss: 0.4668 - val_accuracy: 0.7840 - val_auc: 0.8671\n",
      "Epoch 25/100\n",
      "87/98 [=========================>....] - ETA: 0s - loss: 0.3620 - accuracy: 0.8401 - auc: 0.9202\n",
      "Epoch 00025: saving model to training_ensemble\\cp.ckpt\n",
      "98/98 [==============================] - 1s 7ms/step - loss: 0.3619 - accuracy: 0.8401 - auc: 0.9203 - val_loss: 0.4687 - val_accuracy: 0.7835 - val_auc: 0.8664\n",
      "Epoch 26/100\n"
     ]
    },
    {
     "name": "stdout",
     "output_type": "stream",
     "text": [
      "89/98 [==========================>...] - ETA: 0s - loss: 0.3617 - accuracy: 0.8401 - auc: 0.9203\n",
      "Epoch 00026: saving model to training_ensemble\\cp.ckpt\n",
      "98/98 [==============================] - 1s 7ms/step - loss: 0.3613 - accuracy: 0.8403 - auc: 0.9205 - val_loss: 0.4705 - val_accuracy: 0.7828 - val_auc: 0.8656\n",
      "Epoch 27/100\n",
      "90/98 [==========================>...] - ETA: 0s - loss: 0.3609 - accuracy: 0.8406 - auc: 0.9206\n",
      "Epoch 00027: saving model to training_ensemble\\cp.ckpt\n",
      "98/98 [==============================] - 1s 6ms/step - loss: 0.3609 - accuracy: 0.8406 - auc: 0.9206 - val_loss: 0.4723 - val_accuracy: 0.7823 - val_auc: 0.8649\n",
      "Epoch 28/100\n",
      "88/98 [=========================>....] - ETA: 0s - loss: 0.3604 - accuracy: 0.8409 - auc: 0.9209\n",
      "Epoch 00028: saving model to training_ensemble\\cp.ckpt\n",
      "98/98 [==============================] - 1s 7ms/step - loss: 0.3605 - accuracy: 0.8407 - auc: 0.9208 - val_loss: 0.4740 - val_accuracy: 0.7818 - val_auc: 0.8642\n",
      "Epoch 29/100\n",
      "86/98 [=========================>....] - ETA: 0s - loss: 0.3600 - accuracy: 0.8411 - auc: 0.9210\n",
      "Epoch 00029: saving model to training_ensemble\\cp.ckpt\n",
      "98/98 [==============================] - 1s 7ms/step - loss: 0.3602 - accuracy: 0.8409 - auc: 0.9209 - val_loss: 0.4755 - val_accuracy: 0.7812 - val_auc: 0.8635\n",
      "Epoch 30/100\n",
      "89/98 [==========================>...] - ETA: 0s - loss: 0.3602 - accuracy: 0.8411 - auc: 0.9209\n",
      "Epoch 00030: saving model to training_ensemble\\cp.ckpt\n",
      "98/98 [==============================] - 1s 7ms/step - loss: 0.3600 - accuracy: 0.8411 - auc: 0.9210 - val_loss: 0.4771 - val_accuracy: 0.7809 - val_auc: 0.8631\n",
      "Epoch 31/100\n",
      "85/98 [=========================>....] - ETA: 0s - loss: 0.3598 - accuracy: 0.8412 - auc: 0.9210\n",
      "Epoch 00031: saving model to training_ensemble\\cp.ckpt\n",
      "98/98 [==============================] - 1s 7ms/step - loss: 0.3597 - accuracy: 0.8412 - auc: 0.9211 - val_loss: 0.4785 - val_accuracy: 0.7805 - val_auc: 0.8626\n",
      "Epoch 32/100\n",
      "90/98 [==========================>...] - ETA: 0s - loss: 0.3598 - accuracy: 0.8413 - auc: 0.9210\n",
      "Epoch 00032: saving model to training_ensemble\\cp.ckpt\n",
      "98/98 [==============================] - 1s 7ms/step - loss: 0.3596 - accuracy: 0.8413 - auc: 0.9211 - val_loss: 0.4799 - val_accuracy: 0.7803 - val_auc: 0.8622\n",
      "Epoch 33/100\n",
      "86/98 [=========================>....] - ETA: 0s - loss: 0.3598 - accuracy: 0.8412 - auc: 0.9210\n",
      "Epoch 00033: saving model to training_ensemble\\cp.ckpt\n",
      "98/98 [==============================] - 1s 7ms/step - loss: 0.3594 - accuracy: 0.8414 - auc: 0.9212 - val_loss: 0.4811 - val_accuracy: 0.7799 - val_auc: 0.8617\n",
      "Epoch 34/100\n",
      "88/98 [=========================>....] - ETA: 0s - loss: 0.3592 - accuracy: 0.8416 - auc: 0.9213\n",
      "Epoch 00034: saving model to training_ensemble\\cp.ckpt\n",
      "98/98 [==============================] - 1s 7ms/step - loss: 0.3593 - accuracy: 0.8415 - auc: 0.9212 - val_loss: 0.4822 - val_accuracy: 0.7795 - val_auc: 0.8612\n",
      "Epoch 35/100\n",
      "87/98 [=========================>....] - ETA: 0s - loss: 0.3593 - accuracy: 0.8415 - auc: 0.9212\n",
      "Epoch 00035: saving model to training_ensemble\\cp.ckpt\n",
      "98/98 [==============================] - 1s 7ms/step - loss: 0.3592 - accuracy: 0.8416 - auc: 0.9212 - val_loss: 0.4832 - val_accuracy: 0.7793 - val_auc: 0.8610\n",
      "Epoch 36/100\n",
      "97/98 [============================>.] - ETA: 0s - loss: 0.3592 - accuracy: 0.8416 - auc: 0.9212\n",
      "Epoch 00036: saving model to training_ensemble\\cp.ckpt\n",
      "98/98 [==============================] - 1s 7ms/step - loss: 0.3592 - accuracy: 0.8416 - auc: 0.9212 - val_loss: 0.4841 - val_accuracy: 0.7789 - val_auc: 0.8604\n",
      "Epoch 37/100\n",
      "88/98 [=========================>....] - ETA: 0s - loss: 0.3593 - accuracy: 0.8417 - auc: 0.9212\n",
      "Epoch 00037: saving model to training_ensemble\\cp.ckpt\n",
      "98/98 [==============================] - 1s 7ms/step - loss: 0.3591 - accuracy: 0.8417 - auc: 0.9213 - val_loss: 0.4850 - val_accuracy: 0.7789 - val_auc: 0.8604\n",
      "Epoch 38/100\n",
      "88/98 [=========================>....] - ETA: 0s - loss: 0.3593 - accuracy: 0.8416 - auc: 0.9212\n",
      "Epoch 00038: saving model to training_ensemble\\cp.ckpt\n",
      "98/98 [==============================] - 1s 7ms/step - loss: 0.3591 - accuracy: 0.8417 - auc: 0.9213 - val_loss: 0.4857 - val_accuracy: 0.7787 - val_auc: 0.8601\n",
      "Epoch 39/100\n",
      "87/98 [=========================>....] - ETA: 0s - loss: 0.3591 - accuracy: 0.8417 - auc: 0.9213\n",
      "Epoch 00039: saving model to training_ensemble\\cp.ckpt\n",
      "98/98 [==============================] - 1s 7ms/step - loss: 0.3591 - accuracy: 0.8417 - auc: 0.9213 - val_loss: 0.4864 - val_accuracy: 0.7785 - val_auc: 0.8598\n",
      "Epoch 40/100\n",
      "89/98 [==========================>...] - ETA: 0s - loss: 0.3591 - accuracy: 0.8417 - auc: 0.9212\n",
      "Epoch 00040: saving model to training_ensemble\\cp.ckpt\n",
      "98/98 [==============================] - 1s 7ms/step - loss: 0.3590 - accuracy: 0.8418 - auc: 0.9213 - val_loss: 0.4869 - val_accuracy: 0.7780 - val_auc: 0.8592\n",
      "Epoch 41/100\n",
      "98/98 [==============================] - ETA: 0s - loss: 0.3590 - accuracy: 0.8418 - auc: 0.9213\n",
      "Epoch 00041: saving model to training_ensemble\\cp.ckpt\n",
      "98/98 [==============================] - 1s 7ms/step - loss: 0.3590 - accuracy: 0.8418 - auc: 0.9213 - val_loss: 0.4875 - val_accuracy: 0.7782 - val_auc: 0.8594\n",
      "Epoch 42/100\n",
      "87/98 [=========================>....] - ETA: 0s - loss: 0.3591 - accuracy: 0.8419 - auc: 0.9212\n",
      "Epoch 00042: saving model to training_ensemble\\cp.ckpt\n",
      "98/98 [==============================] - 1s 7ms/step - loss: 0.3590 - accuracy: 0.8419 - auc: 0.9213 - val_loss: 0.4880 - val_accuracy: 0.7782 - val_auc: 0.8594\n",
      "Epoch 43/100\n",
      "90/98 [==========================>...] - ETA: 0s - loss: 0.3588 - accuracy: 0.8419 - auc: 0.9214\n",
      "Epoch 00043: saving model to training_ensemble\\cp.ckpt\n",
      "98/98 [==============================] - 1s 7ms/step - loss: 0.3590 - accuracy: 0.8418 - auc: 0.9213 - val_loss: 0.4882 - val_accuracy: 0.7778 - val_auc: 0.8590\n",
      "Epoch 44/100\n",
      "86/98 [=========================>....] - ETA: 0s - loss: 0.3593 - accuracy: 0.8417 - auc: 0.9212\n",
      "Epoch 00044: saving model to training_ensemble\\cp.ckpt\n",
      "98/98 [==============================] - 1s 7ms/step - loss: 0.3590 - accuracy: 0.8419 - auc: 0.9213 - val_loss: 0.4884 - val_accuracy: 0.7778 - val_auc: 0.8588\n",
      "Epoch 45/100\n",
      "85/98 [=========================>....] - ETA: 0s - loss: 0.3590 - accuracy: 0.8418 - auc: 0.9213\n",
      "Epoch 00045: saving model to training_ensemble\\cp.ckpt\n",
      "98/98 [==============================] - 1s 7ms/step - loss: 0.3590 - accuracy: 0.8418 - auc: 0.9213 - val_loss: 0.4888 - val_accuracy: 0.7777 - val_auc: 0.8589\n",
      "Epoch 46/100\n",
      "87/98 [=========================>....] - ETA: 0s - loss: 0.3591 - accuracy: 0.8419 - auc: 0.9213\n",
      "Epoch 00046: saving model to training_ensemble\\cp.ckpt\n",
      "98/98 [==============================] - 1s 7ms/step - loss: 0.3590 - accuracy: 0.8419 - auc: 0.9213 - val_loss: 0.4890 - val_accuracy: 0.7777 - val_auc: 0.8587\n",
      "Epoch 47/100\n",
      "85/98 [=========================>....] - ETA: 0s - loss: 0.3588 - accuracy: 0.8419 - auc: 0.9214\n",
      "Epoch 00047: saving model to training_ensemble\\cp.ckpt\n",
      "98/98 [==============================] - 1s 7ms/step - loss: 0.3590 - accuracy: 0.8419 - auc: 0.9213 - val_loss: 0.4891 - val_accuracy: 0.7775 - val_auc: 0.8585\n",
      "Epoch 48/100\n",
      "90/98 [==========================>...] - ETA: 0s - loss: 0.3588 - accuracy: 0.8421 - auc: 0.9214\n",
      "Epoch 00048: saving model to training_ensemble\\cp.ckpt\n",
      "98/98 [==============================] - 1s 7ms/step - loss: 0.3590 - accuracy: 0.8419 - auc: 0.9213 - val_loss: 0.4895 - val_accuracy: 0.7778 - val_auc: 0.8588\n",
      "Epoch 49/100\n",
      "84/98 [========================>.....] - ETA: 0s - loss: 0.3594 - accuracy: 0.8417 - auc: 0.9211\n",
      "Epoch 00049: saving model to training_ensemble\\cp.ckpt\n",
      "98/98 [==============================] - 1s 7ms/step - loss: 0.3590 - accuracy: 0.8420 - auc: 0.9213 - val_loss: 0.4895 - val_accuracy: 0.7777 - val_auc: 0.8588\n",
      "Epoch 50/100\n",
      "88/98 [=========================>....] - ETA: 0s - loss: 0.3588 - accuracy: 0.8421 - auc: 0.9214\n",
      "Epoch 00050: saving model to training_ensemble\\cp.ckpt\n",
      "98/98 [==============================] - 1s 7ms/step - loss: 0.3590 - accuracy: 0.8420 - auc: 0.9213 - val_loss: 0.4896 - val_accuracy: 0.7775 - val_auc: 0.8586\n",
      "Epoch 51/100\n"
     ]
    },
    {
     "name": "stdout",
     "output_type": "stream",
     "text": [
      "89/98 [==========================>...] - ETA: 0s - loss: 0.3588 - accuracy: 0.8420 - auc: 0.9214\n",
      "Epoch 00051: saving model to training_ensemble\\cp.ckpt\n",
      "98/98 [==============================] - 1s 7ms/step - loss: 0.3590 - accuracy: 0.8419 - auc: 0.9213 - val_loss: 0.4898 - val_accuracy: 0.7776 - val_auc: 0.8587\n",
      "Epoch 52/100\n",
      "86/98 [=========================>....] - ETA: 0s - loss: 0.3589 - accuracy: 0.8420 - auc: 0.9213\n",
      "Epoch 00052: saving model to training_ensemble\\cp.ckpt\n",
      "98/98 [==============================] - 1s 7ms/step - loss: 0.3590 - accuracy: 0.8419 - auc: 0.9213 - val_loss: 0.4898 - val_accuracy: 0.7775 - val_auc: 0.8586\n",
      "Epoch 53/100\n",
      "88/98 [=========================>....] - ETA: 0s - loss: 0.3588 - accuracy: 0.8420 - auc: 0.9213\n",
      "Epoch 00053: saving model to training_ensemble\\cp.ckpt\n",
      "98/98 [==============================] - 1s 7ms/step - loss: 0.3590 - accuracy: 0.8419 - auc: 0.9213 - val_loss: 0.4897 - val_accuracy: 0.7774 - val_auc: 0.8585\n",
      "Epoch 54/100\n",
      "87/98 [=========================>....] - ETA: 0s - loss: 0.3588 - accuracy: 0.8420 - auc: 0.9214\n",
      "Epoch 00054: saving model to training_ensemble\\cp.ckpt\n",
      "98/98 [==============================] - 1s 7ms/step - loss: 0.3590 - accuracy: 0.8420 - auc: 0.9213 - val_loss: 0.4898 - val_accuracy: 0.7774 - val_auc: 0.8584\n",
      "Epoch 55/100\n",
      "89/98 [==========================>...] - ETA: 0s - loss: 0.3588 - accuracy: 0.8420 - auc: 0.9214\n",
      "Epoch 00055: saving model to training_ensemble\\cp.ckpt\n",
      "98/98 [==============================] - 1s 7ms/step - loss: 0.3590 - accuracy: 0.8419 - auc: 0.9213 - val_loss: 0.4898 - val_accuracy: 0.7772 - val_auc: 0.8580\n",
      "Epoch 56/100\n",
      "98/98 [==============================] - ETA: 0s - loss: 0.3590 - accuracy: 0.8420 - auc: 0.9213\n",
      "Epoch 00056: saving model to training_ensemble\\cp.ckpt\n",
      "98/98 [==============================] - 1s 7ms/step - loss: 0.3590 - accuracy: 0.8420 - auc: 0.9213 - val_loss: 0.4899 - val_accuracy: 0.7773 - val_auc: 0.8583\n",
      "Epoch 57/100\n",
      "85/98 [=========================>....] - ETA: 0s - loss: 0.3586 - accuracy: 0.8420 - auc: 0.9215\n",
      "Epoch 00057: saving model to training_ensemble\\cp.ckpt\n",
      "98/98 [==============================] - 1s 7ms/step - loss: 0.3590 - accuracy: 0.8419 - auc: 0.9213 - val_loss: 0.4898 - val_accuracy: 0.7772 - val_auc: 0.8582\n",
      "Epoch 58/100\n",
      "86/98 [=========================>....] - ETA: 0s - loss: 0.3593 - accuracy: 0.8418 - auc: 0.9212\n",
      "Epoch 00058: saving model to training_ensemble\\cp.ckpt\n",
      "98/98 [==============================] - 1s 7ms/step - loss: 0.3590 - accuracy: 0.8419 - auc: 0.9213 - val_loss: 0.4898 - val_accuracy: 0.7773 - val_auc: 0.8583\n",
      "Epoch 59/100\n",
      "85/98 [=========================>....] - ETA: 0s - loss: 0.3588 - accuracy: 0.8421 - auc: 0.9214\n",
      "Epoch 00059: saving model to training_ensemble\\cp.ckpt\n",
      "98/98 [==============================] - 1s 7ms/step - loss: 0.3590 - accuracy: 0.8419 - auc: 0.9213 - val_loss: 0.4900 - val_accuracy: 0.7774 - val_auc: 0.8585\n",
      "Epoch 60/100\n",
      "86/98 [=========================>....] - ETA: 0s - loss: 0.3590 - accuracy: 0.8420 - auc: 0.9213\n",
      "Epoch 00060: saving model to training_ensemble\\cp.ckpt\n",
      "98/98 [==============================] - 1s 7ms/step - loss: 0.3590 - accuracy: 0.8419 - auc: 0.9213 - val_loss: 0.4899 - val_accuracy: 0.7774 - val_auc: 0.8584\n",
      "Epoch 61/100\n",
      "85/98 [=========================>....] - ETA: 0s - loss: 0.3587 - accuracy: 0.8419 - auc: 0.9214\n",
      "Epoch 00061: saving model to training_ensemble\\cp.ckpt\n",
      "98/98 [==============================] - 1s 7ms/step - loss: 0.3590 - accuracy: 0.8419 - auc: 0.9213 - val_loss: 0.4900 - val_accuracy: 0.7774 - val_auc: 0.8583\n",
      "Epoch 62/100\n",
      "86/98 [=========================>....] - ETA: 0s - loss: 0.3591 - accuracy: 0.8419 - auc: 0.9213\n",
      "Epoch 00062: saving model to training_ensemble\\cp.ckpt\n",
      "98/98 [==============================] - 1s 7ms/step - loss: 0.3590 - accuracy: 0.8419 - auc: 0.9213 - val_loss: 0.4901 - val_accuracy: 0.7776 - val_auc: 0.8587\n",
      "Epoch 63/100\n",
      "88/98 [=========================>....] - ETA: 0s - loss: 0.3591 - accuracy: 0.8419 - auc: 0.9213\n",
      "Epoch 00063: saving model to training_ensemble\\cp.ckpt\n",
      "98/98 [==============================] - 1s 7ms/step - loss: 0.3590 - accuracy: 0.8419 - auc: 0.9213 - val_loss: 0.4901 - val_accuracy: 0.7776 - val_auc: 0.8587\n",
      "Epoch 64/100\n",
      "86/98 [=========================>....] - ETA: 0s - loss: 0.3591 - accuracy: 0.8417 - auc: 0.9212\n",
      "Epoch 00064: saving model to training_ensemble\\cp.ckpt\n",
      "98/98 [==============================] - 1s 7ms/step - loss: 0.3590 - accuracy: 0.8419 - auc: 0.9213 - val_loss: 0.4899 - val_accuracy: 0.7774 - val_auc: 0.8584\n",
      "Epoch 65/100\n",
      "97/98 [============================>.] - ETA: 0s - loss: 0.3590 - accuracy: 0.8419 - auc: 0.9213\n",
      "Epoch 00065: saving model to training_ensemble\\cp.ckpt\n",
      "98/98 [==============================] - 1s 7ms/step - loss: 0.3590 - accuracy: 0.8420 - auc: 0.9213 - val_loss: 0.4899 - val_accuracy: 0.7774 - val_auc: 0.8584\n",
      "Epoch 66/100\n",
      "86/98 [=========================>....] - ETA: 0s - loss: 0.3588 - accuracy: 0.8420 - auc: 0.9214\n",
      "Epoch 00066: saving model to training_ensemble\\cp.ckpt\n",
      "98/98 [==============================] - 1s 7ms/step - loss: 0.3590 - accuracy: 0.8419 - auc: 0.9213 - val_loss: 0.4900 - val_accuracy: 0.7775 - val_auc: 0.8586\n",
      "Epoch 67/100\n",
      "87/98 [=========================>....] - ETA: 0s - loss: 0.3589 - accuracy: 0.8418 - auc: 0.9213\n",
      "Epoch 00067: saving model to training_ensemble\\cp.ckpt\n",
      "98/98 [==============================] - 1s 7ms/step - loss: 0.3590 - accuracy: 0.8419 - auc: 0.9213 - val_loss: 0.4900 - val_accuracy: 0.7774 - val_auc: 0.8585\n",
      "Epoch 68/100\n",
      "98/98 [==============================] - ETA: 0s - loss: 0.3590 - accuracy: 0.8419 - auc: 0.9213\n",
      "Epoch 00068: saving model to training_ensemble\\cp.ckpt\n",
      "98/98 [==============================] - 1s 7ms/step - loss: 0.3590 - accuracy: 0.8419 - auc: 0.9213 - val_loss: 0.4906 - val_accuracy: 0.7779 - val_auc: 0.8591\n",
      "Epoch 69/100\n",
      "85/98 [=========================>....] - ETA: 0s - loss: 0.3591 - accuracy: 0.8419 - auc: 0.9212\n",
      "Epoch 00069: saving model to training_ensemble\\cp.ckpt\n",
      "98/98 [==============================] - 1s 7ms/step - loss: 0.3590 - accuracy: 0.8419 - auc: 0.9213 - val_loss: 0.4899 - val_accuracy: 0.7774 - val_auc: 0.8584\n",
      "Epoch 70/100\n",
      "87/98 [=========================>....] - ETA: 0s - loss: 0.3590 - accuracy: 0.8418 - auc: 0.9213\n",
      "Epoch 00070: saving model to training_ensemble\\cp.ckpt\n",
      "98/98 [==============================] - 1s 7ms/step - loss: 0.3590 - accuracy: 0.8419 - auc: 0.9213 - val_loss: 0.4900 - val_accuracy: 0.7775 - val_auc: 0.8585\n",
      "Epoch 71/100\n",
      "88/98 [=========================>....] - ETA: 0s - loss: 0.3592 - accuracy: 0.8418 - auc: 0.9212\n",
      "Epoch 00071: saving model to training_ensemble\\cp.ckpt\n",
      "98/98 [==============================] - 1s 7ms/step - loss: 0.3590 - accuracy: 0.8419 - auc: 0.9213 - val_loss: 0.4899 - val_accuracy: 0.7773 - val_auc: 0.8583\n",
      "Epoch 72/100\n",
      "90/98 [==========================>...] - ETA: 0s - loss: 0.3588 - accuracy: 0.8419 - auc: 0.9214\n",
      "Epoch 00072: saving model to training_ensemble\\cp.ckpt\n",
      "98/98 [==============================] - 1s 7ms/step - loss: 0.3590 - accuracy: 0.8419 - auc: 0.9213 - val_loss: 0.4902 - val_accuracy: 0.7776 - val_auc: 0.8587\n",
      "Epoch 73/100\n",
      "86/98 [=========================>....] - ETA: 0s - loss: 0.3590 - accuracy: 0.8419 - auc: 0.9213\n",
      "Epoch 00073: saving model to training_ensemble\\cp.ckpt\n",
      "98/98 [==============================] - 1s 7ms/step - loss: 0.3590 - accuracy: 0.8419 - auc: 0.9213 - val_loss: 0.4900 - val_accuracy: 0.7776 - val_auc: 0.8586\n",
      "Epoch 74/100\n",
      "85/98 [=========================>....] - ETA: 0s - loss: 0.3588 - accuracy: 0.8419 - auc: 0.9214\n",
      "Epoch 00074: saving model to training_ensemble\\cp.ckpt\n",
      "98/98 [==============================] - 1s 7ms/step - loss: 0.3590 - accuracy: 0.8419 - auc: 0.9213 - val_loss: 0.4900 - val_accuracy: 0.7774 - val_auc: 0.8585\n",
      "Epoch 75/100\n",
      "86/98 [=========================>....] - ETA: 0s - loss: 0.3594 - accuracy: 0.8417 - auc: 0.9211\n",
      "Epoch 00075: saving model to training_ensemble\\cp.ckpt\n",
      "98/98 [==============================] - 1s 7ms/step - loss: 0.3590 - accuracy: 0.8419 - auc: 0.9213 - val_loss: 0.4904 - val_accuracy: 0.7778 - val_auc: 0.8589\n",
      "Epoch 76/100\n"
     ]
    },
    {
     "name": "stdout",
     "output_type": "stream",
     "text": [
      "88/98 [=========================>....] - ETA: 0s - loss: 0.3592 - accuracy: 0.8418 - auc: 0.9212\n",
      "Epoch 00076: saving model to training_ensemble\\cp.ckpt\n",
      "98/98 [==============================] - 1s 7ms/step - loss: 0.3590 - accuracy: 0.8419 - auc: 0.9213 - val_loss: 0.4900 - val_accuracy: 0.7775 - val_auc: 0.8585\n",
      "Epoch 77/100\n",
      "97/98 [============================>.] - ETA: 0s - loss: 0.3590 - accuracy: 0.8419 - auc: 0.9213\n",
      "Epoch 00077: saving model to training_ensemble\\cp.ckpt\n",
      "98/98 [==============================] - 1s 7ms/step - loss: 0.3590 - accuracy: 0.8420 - auc: 0.9213 - val_loss: 0.4900 - val_accuracy: 0.7773 - val_auc: 0.8583\n",
      "Epoch 78/100\n",
      "88/98 [=========================>....] - ETA: 0s - loss: 0.3590 - accuracy: 0.8419 - auc: 0.9213\n",
      "Epoch 00078: saving model to training_ensemble\\cp.ckpt\n",
      "98/98 [==============================] - 1s 7ms/step - loss: 0.3590 - accuracy: 0.8419 - auc: 0.9213 - val_loss: 0.4900 - val_accuracy: 0.7774 - val_auc: 0.8584\n",
      "Epoch 79/100\n",
      "88/98 [=========================>....] - ETA: 0s - loss: 0.3588 - accuracy: 0.8420 - auc: 0.9214\n",
      "Epoch 00079: saving model to training_ensemble\\cp.ckpt\n",
      "98/98 [==============================] - 1s 7ms/step - loss: 0.3590 - accuracy: 0.8419 - auc: 0.9213 - val_loss: 0.4900 - val_accuracy: 0.7774 - val_auc: 0.8584\n",
      "Epoch 80/100\n",
      "87/98 [=========================>....] - ETA: 0s - loss: 0.3589 - accuracy: 0.8420 - auc: 0.9213\n",
      "Epoch 00080: saving model to training_ensemble\\cp.ckpt\n",
      "98/98 [==============================] - 1s 7ms/step - loss: 0.3590 - accuracy: 0.8419 - auc: 0.9213 - val_loss: 0.4900 - val_accuracy: 0.7774 - val_auc: 0.8583\n",
      "Epoch 81/100\n",
      "87/98 [=========================>....] - ETA: 0s - loss: 0.3592 - accuracy: 0.8417 - auc: 0.9212\n",
      "Epoch 00081: saving model to training_ensemble\\cp.ckpt\n",
      "98/98 [==============================] - 1s 7ms/step - loss: 0.3590 - accuracy: 0.8419 - auc: 0.9213 - val_loss: 0.4900 - val_accuracy: 0.7775 - val_auc: 0.8586\n",
      "Epoch 82/100\n",
      "86/98 [=========================>....] - ETA: 0s - loss: 0.3588 - accuracy: 0.8420 - auc: 0.9214\n",
      "Epoch 00082: saving model to training_ensemble\\cp.ckpt\n",
      "98/98 [==============================] - 1s 7ms/step - loss: 0.3590 - accuracy: 0.8419 - auc: 0.9213 - val_loss: 0.4899 - val_accuracy: 0.7772 - val_auc: 0.8581\n",
      "Epoch 83/100\n",
      "86/98 [=========================>....] - ETA: 0s - loss: 0.3585 - accuracy: 0.8422 - auc: 0.9215\n",
      "Epoch 00083: saving model to training_ensemble\\cp.ckpt\n",
      "98/98 [==============================] - 1s 7ms/step - loss: 0.3590 - accuracy: 0.8419 - auc: 0.9213 - val_loss: 0.4900 - val_accuracy: 0.7775 - val_auc: 0.8585\n",
      "Epoch 84/100\n",
      "86/98 [=========================>....] - ETA: 0s - loss: 0.3589 - accuracy: 0.8420 - auc: 0.9213\n",
      "Epoch 00084: saving model to training_ensemble\\cp.ckpt\n",
      "98/98 [==============================] - 1s 7ms/step - loss: 0.3590 - accuracy: 0.8420 - auc: 0.9213 - val_loss: 0.4900 - val_accuracy: 0.7774 - val_auc: 0.8584\n",
      "Epoch 85/100\n",
      "98/98 [==============================] - ETA: 0s - loss: 0.3590 - accuracy: 0.8419 - auc: 0.9213\n",
      "Epoch 00085: saving model to training_ensemble\\cp.ckpt\n",
      "98/98 [==============================] - 1s 7ms/step - loss: 0.3590 - accuracy: 0.8419 - auc: 0.9213 - val_loss: 0.4899 - val_accuracy: 0.7772 - val_auc: 0.8581\n",
      "Epoch 86/100\n",
      "88/98 [=========================>....] - ETA: 0s - loss: 0.3586 - accuracy: 0.8422 - auc: 0.9215\n",
      "Epoch 00086: saving model to training_ensemble\\cp.ckpt\n",
      "98/98 [==============================] - 1s 7ms/step - loss: 0.3590 - accuracy: 0.8420 - auc: 0.9213 - val_loss: 0.4899 - val_accuracy: 0.7773 - val_auc: 0.8583\n",
      "Epoch 87/100\n",
      "87/98 [=========================>....] - ETA: 0s - loss: 0.3590 - accuracy: 0.8419 - auc: 0.9213\n",
      "Epoch 00087: saving model to training_ensemble\\cp.ckpt\n",
      "98/98 [==============================] - 1s 7ms/step - loss: 0.3590 - accuracy: 0.8419 - auc: 0.9213 - val_loss: 0.4900 - val_accuracy: 0.7775 - val_auc: 0.8586\n",
      "Epoch 88/100\n",
      "88/98 [=========================>....] - ETA: 0s - loss: 0.3588 - accuracy: 0.8421 - auc: 0.9214\n",
      "Epoch 00088: saving model to training_ensemble\\cp.ckpt\n",
      "98/98 [==============================] - 1s 7ms/step - loss: 0.3590 - accuracy: 0.8419 - auc: 0.9213 - val_loss: 0.4900 - val_accuracy: 0.7774 - val_auc: 0.8585\n",
      "Epoch 89/100\n",
      "97/98 [============================>.] - ETA: 0s - loss: 0.3590 - accuracy: 0.8419 - auc: 0.9213\n",
      "Epoch 00089: saving model to training_ensemble\\cp.ckpt\n",
      "98/98 [==============================] - 1s 7ms/step - loss: 0.3590 - accuracy: 0.8419 - auc: 0.9213 - val_loss: 0.4899 - val_accuracy: 0.7773 - val_auc: 0.8583\n",
      "Epoch 90/100\n",
      "87/98 [=========================>....] - ETA: 0s - loss: 0.3586 - accuracy: 0.8421 - auc: 0.9214\n",
      "Epoch 00090: saving model to training_ensemble\\cp.ckpt\n",
      "98/98 [==============================] - 1s 7ms/step - loss: 0.3590 - accuracy: 0.8419 - auc: 0.9213 - val_loss: 0.4900 - val_accuracy: 0.7774 - val_auc: 0.8585\n",
      "Epoch 91/100\n",
      "88/98 [=========================>....] - ETA: 0s - loss: 0.3591 - accuracy: 0.8418 - auc: 0.9212\n",
      "Epoch 00091: saving model to training_ensemble\\cp.ckpt\n",
      "98/98 [==============================] - 1s 7ms/step - loss: 0.3590 - accuracy: 0.8419 - auc: 0.9213 - val_loss: 0.4899 - val_accuracy: 0.7774 - val_auc: 0.8584\n",
      "Epoch 92/100\n",
      "87/98 [=========================>....] - ETA: 0s - loss: 0.3591 - accuracy: 0.8418 - auc: 0.9212\n",
      "Epoch 00092: saving model to training_ensemble\\cp.ckpt\n",
      "98/98 [==============================] - 1s 7ms/step - loss: 0.3590 - accuracy: 0.8419 - auc: 0.9213 - val_loss: 0.4900 - val_accuracy: 0.7775 - val_auc: 0.8586\n",
      "Epoch 93/100\n",
      "86/98 [=========================>....] - ETA: 0s - loss: 0.3591 - accuracy: 0.8417 - auc: 0.9212\n",
      "Epoch 00093: saving model to training_ensemble\\cp.ckpt\n",
      "98/98 [==============================] - 1s 7ms/step - loss: 0.3590 - accuracy: 0.8419 - auc: 0.9213 - val_loss: 0.4902 - val_accuracy: 0.7776 - val_auc: 0.8587\n",
      "Epoch 94/100\n",
      "88/98 [=========================>....] - ETA: 0s - loss: 0.3591 - accuracy: 0.8419 - auc: 0.9212\n",
      "Epoch 00094: saving model to training_ensemble\\cp.ckpt\n",
      "98/98 [==============================] - 1s 7ms/step - loss: 0.3590 - accuracy: 0.8420 - auc: 0.9213 - val_loss: 0.4899 - val_accuracy: 0.7773 - val_auc: 0.8583\n",
      "Epoch 95/100\n",
      "88/98 [=========================>....] - ETA: 0s - loss: 0.3593 - accuracy: 0.8418 - auc: 0.9211\n",
      "Epoch 00095: saving model to training_ensemble\\cp.ckpt\n",
      "98/98 [==============================] - 1s 7ms/step - loss: 0.3590 - accuracy: 0.8420 - auc: 0.9213 - val_loss: 0.4901 - val_accuracy: 0.7775 - val_auc: 0.8586\n",
      "Epoch 96/100\n",
      "87/98 [=========================>....] - ETA: 0s - loss: 0.3589 - accuracy: 0.8421 - auc: 0.9213 ETA: 0s - loss: 0.3591 - accuracy: 0.8421 - auc: \n",
      "Epoch 00096: saving model to training_ensemble\\cp.ckpt\n",
      "98/98 [==============================] - 1s 7ms/step - loss: 0.3590 - accuracy: 0.8420 - auc: 0.9213 - val_loss: 0.4902 - val_accuracy: 0.7776 - val_auc: 0.8587\n",
      "Epoch 97/100\n",
      "84/98 [========================>.....] - ETA: 0s - loss: 0.3585 - accuracy: 0.8421 - auc: 0.9215\n",
      "Epoch 00097: saving model to training_ensemble\\cp.ckpt\n",
      "98/98 [==============================] - 1s 7ms/step - loss: 0.3590 - accuracy: 0.8419 - auc: 0.9213 - val_loss: 0.4900 - val_accuracy: 0.7774 - val_auc: 0.8584\n",
      "Epoch 98/100\n",
      "85/98 [=========================>....] - ETA: 0s - loss: 0.3589 - accuracy: 0.8420 - auc: 0.9213\n",
      "Epoch 00098: saving model to training_ensemble\\cp.ckpt\n",
      "98/98 [==============================] - 1s 7ms/step - loss: 0.3590 - accuracy: 0.8419 - auc: 0.9213 - val_loss: 0.4900 - val_accuracy: 0.7775 - val_auc: 0.8586\n",
      "Epoch 99/100\n",
      "92/98 [===========================>..] - ETA: 0s - loss: 0.3590 - accuracy: 0.8420 - auc: 0.9213\n",
      "Epoch 00099: saving model to training_ensemble\\cp.ckpt\n",
      "98/98 [==============================] - 1s 7ms/step - loss: 0.3590 - accuracy: 0.8419 - auc: 0.9213 - val_loss: 0.4902 - val_accuracy: 0.7776 - val_auc: 0.8587\n",
      "Epoch 100/100\n",
      "89/98 [==========================>...] - ETA: 0s - loss: 0.3590 - accuracy: 0.8417 - auc: 0.9213\n",
      "Epoch 00100: saving model to training_ensemble\\cp.ckpt\n",
      "98/98 [==============================] - 1s 7ms/step - loss: 0.3590 - accuracy: 0.8419 - auc: 0.9213 - val_loss: 0.4901 - val_accuracy: 0.7775 - val_auc: 0.8586\n"
     ]
    },
    {
     "data": {
      "text/plain": [
       "<keras.callbacks.History at 0x2264c00e040>"
      ]
     },
     "execution_count": 62,
     "metadata": {},
     "output_type": "execute_result"
    }
   ],
   "source": [
    "\n",
    "\n",
    "cp_callback = tf.keras.callbacks.ModelCheckpoint(filepath=checkpoint_path,\n",
    "                                                 save_weights_only=True,\n",
    "                                                 verbose=1)\n",
    "model.fit(\n",
    "    x_train_en,\n",
    "    y_train,\n",
    "    epochs=100,\n",
    "    batch_size=10240,\n",
    "    validation_data=(x_test_en,y_test),\n",
    "    callbacks=[cp_callback]\n",
    ")"
   ]
  },
  {
   "cell_type": "code",
   "execution_count": null,
   "id": "a4b9b23e",
   "metadata": {},
   "outputs": [],
   "source": []
  },
  {
   "cell_type": "code",
   "execution_count": 116,
   "id": "99251cde",
   "metadata": {},
   "outputs": [
    {
     "data": {
      "text/plain": [
       "0.8759870002247364"
      ]
     },
     "execution_count": 116,
     "metadata": {},
     "output_type": "execute_result"
    }
   ],
   "source": [
    "y_pred_ensemble=y_test_pred_DNN_5\n",
    "y_pred_ensemble=y_pred_ensemble+y_test_pred_model_ResNet_52\n",
    "y_pred_ensemble=y_pred_ensemble+y_test_pred_NN_Shallow_1024\n",
    "y_pred_ensemble=y_pred_ensemble+y_test_pred_NN_Shallow_10240\n",
    "y_pred_ensemble=y_pred_ensemble+y_test_pred_NN_Shallow_2048\n",
    "y_pred_ensemble=y_pred_ensemble+y_test_pred_xgb\n",
    "y_pred_ensemble=y_pred_ensemble/5\n",
    "y_pred_ensemble.shape\n",
    "fpr, tpr, thresholds = roc_curve(y_test, y_pred_ensemble)\n",
    "metrics.auc(fpr, tpr)\n",
    "#print(\"The training accuracy\",str(accuracy_score(y_test, np.round(y_pred_ensemble))))"
   ]
  },
  {
   "cell_type": "code",
   "execution_count": 24,
   "id": "462d2e42",
   "metadata": {},
   "outputs": [
    {
     "name": "stdout",
     "output_type": "stream",
     "text": [
      "The training accuracy 0.788488\n"
     ]
    },
    {
     "data": {
      "text/plain": [
       "0.7865833286210102"
      ]
     },
     "execution_count": 24,
     "metadata": {},
     "output_type": "execute_result"
    }
   ],
   "source": [
    "#Trying out average ensemble\n",
    "y_pred_ensemble=y_test_pred_DNN_5+0*y_test_pred_NN_Shallow_1024\n",
    "y_pred_ensemble=np.round(y_pred_ensemble)\n",
    "\n",
    "accuracy = accuracy_score(y_test, y_pred_ensemble)\n",
    "print(\"The training accuracy\",str(accuracy))\n",
    "fpr, tpr, thresholds = roc_curve(y_test, y_pred_ensemble)\n",
    "metrics.auc(fpr, tpr)\n"
   ]
  },
  {
   "cell_type": "code",
   "execution_count": 123,
   "id": "b45f3b5d",
   "metadata": {},
   "outputs": [],
   "source": [
    "from numba import cuda \n",
    "device = cuda.get_current_device()\n",
    "device.reset()"
   ]
  }
 ],
 "metadata": {
  "kernelspec": {
   "display_name": "Python 3 (ipykernel)",
   "language": "python",
   "name": "python3"
  },
  "language_info": {
   "codemirror_mode": {
    "name": "ipython",
    "version": 3
   },
   "file_extension": ".py",
   "mimetype": "text/x-python",
   "name": "python",
   "nbconvert_exporter": "python",
   "pygments_lexer": "ipython3",
   "version": "3.9.7"
  }
 },
 "nbformat": 4,
 "nbformat_minor": 5
}
