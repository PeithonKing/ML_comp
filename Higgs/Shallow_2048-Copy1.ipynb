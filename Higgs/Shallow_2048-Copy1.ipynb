{
 "cells": [
  {
   "cell_type": "code",
   "execution_count": 1,
   "id": "39e989e5",
   "metadata": {},
   "outputs": [],
   "source": [
    "import numpy as np\n",
    "import matplotlib.pyplot as plt\n",
    "import tensorflow as tf\n",
    "import pandas as pd\n",
    "import tensorflow.keras\n",
    "import os\n",
    "checkpoint_path = \"training_NN_Shallow_10240/cp.ckpt\"\n",
    "checkpoint_dir = os.path.dirname(checkpoint_path)\n"
   ]
  },
  {
   "cell_type": "code",
   "execution_count": 2,
   "id": "b1004780",
   "metadata": {},
   "outputs": [],
   "source": [
    "df_data=pd.read_csv(\"DataSetNormalised.csv\")"
   ]
  },
  {
   "cell_type": "code",
   "execution_count": 3,
   "id": "417a6201",
   "metadata": {},
   "outputs": [],
   "source": [
    "df_label=pd.read_csv(\"LabelSet.csv\")\n",
    "x=np.array(df_data.iloc[:,1:])\n",
    "y=np.array(df_label.iloc[:,1])\n",
    "x=x.astype(np.float32)\n",
    "x_train=x[:][:10000000]\n",
    "y_train=y[:][:10000000]\n",
    "x_test=x[:][10000000:]\n",
    "y_test=y[:][10000000:]"
   ]
  },
  {
   "cell_type": "code",
   "execution_count": 5,
   "id": "307376be",
   "metadata": {},
   "outputs": [],
   "source": [
    "model=tf.keras.Sequential([\n",
    "    tf.keras.layers.Dense(10240,input_shape=(28,),activation='relu'),\n",
    "    tf.keras.layers.BatchNormalization(),\n",
    "    tf.keras.layers.Dense(1,activation='sigmoid')\n",
    "])"
   ]
  },
  {
   "cell_type": "code",
   "execution_count": 8,
   "id": "788bcd1e",
   "metadata": {},
   "outputs": [],
   "source": [
    "model.compile(\n",
    "        optimizer=tf.keras.optimizers.Adam(\n",
    "        learning_rate=0.001,\n",
    "        beta_1=0.9,\n",
    "        beta_2=0.999),\n",
    "        loss='binary_crossentropy',\n",
    "        metrics=['accuracy','AUC']\n",
    "    )"
   ]
  },
  {
   "cell_type": "code",
   "execution_count": 9,
   "id": "b57bbe5b",
   "metadata": {},
   "outputs": [
    {
     "data": {
      "text/plain": [
       "<tensorflow.python.training.tracking.util.CheckpointLoadStatus at 0x219386affd0>"
      ]
     },
     "execution_count": 9,
     "metadata": {},
     "output_type": "execute_result"
    }
   ],
   "source": [
    "latest = tf.train.latest_checkpoint(checkpoint_dir)\n",
    "model.load_weights(latest)\n"
   ]
  },
  {
   "cell_type": "code",
   "execution_count": 10,
   "id": "dc4dbe56",
   "metadata": {},
   "outputs": [
    {
     "name": "stdout",
     "output_type": "stream",
     "text": [
      "Epoch 1/10\n",
      "  2/977 [..............................] - ETA: 1:38 - loss: 0.5291 - accuracy: 0.7321 - auc: 0.8102WARNING:tensorflow:Callbacks method `on_train_batch_end` is slow compared to the batch time (batch time: 0.0440s vs `on_train_batch_end` time: 0.0810s). Check your callbacks.\n",
      "977/977 [==============================] - ETA: 0s - loss: 0.5288 - accuracy: 0.7322 - auc: 0.8099\n",
      "Epoch 00001: saving model to training_NN_Shallow_10240\\cp.ckpt\n",
      "977/977 [==============================] - 123s 126ms/step - loss: 0.5288 - accuracy: 0.7322 - auc: 0.8099 - val_loss: 0.5834 - val_accuracy: 0.6984 - val_auc: 0.8108\n",
      "Epoch 2/10\n",
      "977/977 [==============================] - ETA: 0s - loss: 0.5288 - accuracy: 0.7323 - auc: 0.8099\n",
      "Epoch 00002: saving model to training_NN_Shallow_10240\\cp.ckpt\n",
      "977/977 [==============================] - 123s 126ms/step - loss: 0.5288 - accuracy: 0.7323 - auc: 0.8099 - val_loss: 0.5512 - val_accuracy: 0.7190 - val_auc: 0.8037\n",
      "Epoch 3/10\n",
      "977/977 [==============================] - ETA: 0s - loss: 0.5283 - accuracy: 0.7325 - auc: 0.8103\n",
      "Epoch 00003: saving model to training_NN_Shallow_10240\\cp.ckpt\n",
      "977/977 [==============================] - 125s 128ms/step - loss: 0.5283 - accuracy: 0.7325 - auc: 0.8103 - val_loss: 0.5312 - val_accuracy: 0.7303 - val_auc: 0.8079\n",
      "Epoch 4/10\n",
      "977/977 [==============================] - ETA: 0s - loss: 0.5280 - accuracy: 0.7328 - auc: 0.8106\n",
      "Epoch 00004: saving model to training_NN_Shallow_10240\\cp.ckpt\n",
      "977/977 [==============================] - 135s 138ms/step - loss: 0.5280 - accuracy: 0.7328 - auc: 0.8106 - val_loss: 0.5339 - val_accuracy: 0.7293 - val_auc: 0.8097\n",
      "Epoch 5/10\n",
      "977/977 [==============================] - ETA: 0s - loss: 0.5456 - accuracy: 0.7284 - auc: 0.8022\n",
      "Epoch 00005: saving model to training_NN_Shallow_10240\\cp.ckpt\n",
      "977/977 [==============================] - 135s 138ms/step - loss: 0.5456 - accuracy: 0.7284 - auc: 0.8022 - val_loss: 0.6153 - val_accuracy: 0.6770 - val_auc: 0.8101\n",
      "Epoch 6/10\n",
      "977/977 [==============================] - ETA: 0s - loss: 0.5277 - accuracy: 0.7330 - auc: 0.8108\n",
      "Epoch 00006: saving model to training_NN_Shallow_10240\\cp.ckpt\n",
      "977/977 [==============================] - 125s 128ms/step - loss: 0.5277 - accuracy: 0.7330 - auc: 0.8108 - val_loss: 0.5649 - val_accuracy: 0.7104 - val_auc: 0.7986\n",
      "Epoch 7/10\n",
      "977/977 [==============================] - ETA: 0s - loss: 0.5276 - accuracy: 0.7332 - auc: 0.8109\n",
      "Epoch 00007: saving model to training_NN_Shallow_10240\\cp.ckpt\n",
      "977/977 [==============================] - 134s 137ms/step - loss: 0.5276 - accuracy: 0.7332 - auc: 0.8109 - val_loss: 0.5418 - val_accuracy: 0.7211 - val_auc: 0.8102\n",
      "Epoch 8/10\n",
      "977/977 [==============================] - ETA: 0s - loss: 0.5273 - accuracy: 0.7333 - auc: 0.8112\n",
      "Epoch 00008: saving model to training_NN_Shallow_10240\\cp.ckpt\n",
      "977/977 [==============================] - 134s 138ms/step - loss: 0.5273 - accuracy: 0.7333 - auc: 0.8112 - val_loss: 0.5322 - val_accuracy: 0.7316 - val_auc: 0.8099\n",
      "Epoch 9/10\n",
      "977/977 [==============================] - ETA: 0s - loss: 0.5266 - accuracy: 0.7339 - auc: 0.8117\n",
      "Epoch 00009: saving model to training_NN_Shallow_10240\\cp.ckpt\n",
      "977/977 [==============================] - 124s 127ms/step - loss: 0.5266 - accuracy: 0.7339 - auc: 0.8117 - val_loss: 0.5284 - val_accuracy: 0.7325 - val_auc: 0.8099\n",
      "Epoch 10/10\n",
      "977/977 [==============================] - ETA: 0s - loss: 0.5262 - accuracy: 0.7342 - auc: 0.8121\n",
      "Epoch 00010: saving model to training_NN_Shallow_10240\\cp.ckpt\n",
      "977/977 [==============================] - 122s 124ms/step - loss: 0.5262 - accuracy: 0.7342 - auc: 0.8121 - val_loss: 0.5348 - val_accuracy: 0.7300 - val_auc: 0.8140\n"
     ]
    },
    {
     "data": {
      "text/plain": [
       "<tensorflow.python.keras.callbacks.History at 0x21a43eeb4f0>"
      ]
     },
     "execution_count": 10,
     "metadata": {},
     "output_type": "execute_result"
    }
   ],
   "source": [
    "cp_callback = tf.keras.callbacks.ModelCheckpoint(filepath=checkpoint_path,\n",
    "                                                 save_weights_only=True,\n",
    "                                                 verbose=1)\n",
    "\n",
    "model.fit(\n",
    "    x_train,\n",
    "    y_train,\n",
    "    epochs=10,\n",
    "    batch_size=10240,\n",
    "    validation_data=(x_test,y_test),\n",
    "    callbacks=[cp_callback]\n",
    ")"
   ]
  },
  {
   "cell_type": "code",
   "execution_count": 11,
   "id": "0defc00d",
   "metadata": {},
   "outputs": [
    {
     "name": "stdout",
     "output_type": "stream",
     "text": [
      "WARNING:tensorflow:From C:\\Users\\cdipt\\anaconda3\\lib\\site-packages\\tensorflow\\python\\training\\tracking\\tracking.py:111: Model.state_updates (from tensorflow.python.keras.engine.training) is deprecated and will be removed in a future version.\n",
      "Instructions for updating:\n",
      "This property should not be used in TensorFlow 2.0, as updates are applied automatically.\n",
      "WARNING:tensorflow:From C:\\Users\\cdipt\\anaconda3\\lib\\site-packages\\tensorflow\\python\\training\\tracking\\tracking.py:111: Layer.updates (from tensorflow.python.keras.engine.base_layer) is deprecated and will be removed in a future version.\n",
      "Instructions for updating:\n",
      "This property should not be used in TensorFlow 2.0, as updates are applied automatically.\n",
      "INFO:tensorflow:Assets written to: NN_Shallow_10240\\assets\n"
     ]
    }
   ],
   "source": [
    "model.save('NN_Shallow_10240')"
   ]
  }
 ],
 "metadata": {
  "kernelspec": {
   "display_name": "Python 3",
   "language": "python",
   "name": "python3"
  },
  "language_info": {
   "codemirror_mode": {
    "name": "ipython",
    "version": 3
   },
   "file_extension": ".py",
   "mimetype": "text/x-python",
   "name": "python",
   "nbconvert_exporter": "python",
   "pygments_lexer": "ipython3",
   "version": "3.8.8"
  }
 },
 "nbformat": 4,
 "nbformat_minor": 5
}
