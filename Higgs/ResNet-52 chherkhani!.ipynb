{
 "cells": [
  {
   "cell_type": "code",
   "execution_count": 1,
   "id": "eb4a711e",
   "metadata": {},
   "outputs": [],
   "source": [
    "import numpy as np\n",
    "import matplotlib.pyplot as plt\n",
    "import tensorflow as tf\n",
    "import pandas as pd\n",
    "import tensorflow.keras\n",
    "import os\n",
    "checkpoint_path = \"training_ResNet_52/cp.ckpt\"\n",
    "checkpoint_dir = os.path.dirname(checkpoint_path)\n",
    "from gc import collect as fuck\n",
    "from keras.callbacks import History "
   ]
  },
  {
   "cell_type": "code",
   "execution_count": 3,
   "id": "6c1d9c40",
   "metadata": {},
   "outputs": [],
   "source": [
    "df_data=pd.read_csv(\"DataSetNormalised.csv\")"
   ]
  },
  {
   "cell_type": "code",
   "execution_count": 4,
   "id": "5f8de25f",
   "metadata": {},
   "outputs": [],
   "source": [
    "df_label=pd.read_csv(\"LabelSet.csv\")"
   ]
  },
  {
   "cell_type": "markdown",
   "id": "2089bb71",
   "metadata": {},
   "source": [
    "df_data"
   ]
  },
  {
   "cell_type": "code",
   "execution_count": 5,
   "id": "233a4cf0",
   "metadata": {},
   "outputs": [
    {
     "data": {
      "text/plain": [
       "0"
      ]
     },
     "execution_count": 5,
     "metadata": {},
     "output_type": "execute_result"
    }
   ],
   "source": [
    "x = np.array(df_data.iloc[:,1:])\n",
    "y = np.array(df_label.iloc[:,1])\n",
    "del df_data\n",
    "del df_label\n",
    "fuck()"
   ]
  },
  {
   "cell_type": "code",
   "execution_count": 6,
   "id": "dc6554a6",
   "metadata": {},
   "outputs": [],
   "source": [
    "x=x.astype(np.float32)"
   ]
  },
  {
   "cell_type": "code",
   "execution_count": null,
   "id": "914e2ace",
   "metadata": {},
   "outputs": [],
   "source": [
    "data = {}\n",
    "acts = ('relu','swish','elu','gelu','selu')\n",
    "\n",
    "for act in acts:\n",
    "    d_rate=0 #The rate of droupout for the layers in the ResNet\n",
    "    # act='swish'#The activation function use ('relu','swish','elu','gelu','selu')\n",
    "    lr=0.01 #The default learning rate Default 0.01\n",
    "    mom=0.9 #The momentum parameter Default 0.9\n",
    "    test_split=1 #Default 1 and range[1,0]\n",
    "    #Reducing test_split will make the model faster but will also reduce the accuracy of the Validation metric\n",
    "    #On changing test_split run the lower initialisation cell, marked below**\n",
    "\n",
    "\n",
    "    #On changing test_split run this--------**\n",
    "    size = 10000000 + test_split*1000000\n",
    "    x_train=x[:][:10000000]\n",
    "    y_train=y[:][:10000000]\n",
    "    x_test=x[:][10000000:size]\n",
    "    y_test=y[:][10000000:size]\n",
    "\n",
    "\n",
    "    def identity_block(X,no_nodes,Activation):#A custom Residual identity block with a skip connection\n",
    "        X_shortcut=X\n",
    "        X=tf.keras.layers.Dense(no_nodes,activation=Activation)(X)\n",
    "        X=tf.keras.layers.BatchNormalization(axis=1)(X)\n",
    "        X=tf.keras.layers.Dropout(d_rate)(X)\n",
    "        X=tf.keras.layers.Dense(no_nodes,activation=Activation)(X)\n",
    "        X=tf.keras.layers.BatchNormalization(axis=1)(X)\n",
    "        X=tf.keras.layers.Dropout(d_rate)(X)\n",
    "        X=tf.keras.layers.Dense(no_nodes,activation=Activation)(X)\n",
    "        X=tf.keras.layers.Dropout(d_rate)(X)\n",
    "        X= tf.keras.layers.Add()([X_shortcut, X])\n",
    "        X=tf.keras.layers.Activation('swish')(X)\n",
    "        X_shortcut2=X\n",
    "        X=tf.keras.layers.Dense(no_nodes,activation=Activation)(X)\n",
    "        X=tf.keras.layers.BatchNormalization(axis=1)(X)\n",
    "        X=tf.keras.layers.Dropout(d_rate)(X)\n",
    "        X=tf.keras.layers.Dense(no_nodes,activation=Activation)(X)\n",
    "        X=tf.keras.layers.BatchNormalization(axis=1)(X)\n",
    "        X=tf.keras.layers.Dropout(d_rate)(X)\n",
    "        X=tf.keras.layers.Dense(no_nodes,activation=Activation)(X)\n",
    "        X=tf.keras.layers.Dropout(d_rate)(X)\n",
    "        X= tf.keras.layers.Add()([X_shortcut, X,X_shortcut2])\n",
    "        X=tf.keras.layers.Activation('swish')(X)\n",
    "        return X\n",
    "\n",
    "\n",
    "    inputs=tf.keras.layers.Input(shape=(28,))                    #Keras input layer\n",
    "    X=tf.keras.layers.Dense(300,activation=act)(inputs)\n",
    "    X=identity_block(X=X,no_nodes=300,Activation=act)\n",
    "    X=identity_block(X=X,no_nodes=300,Activation=act)\n",
    "    X=identity_block(X=X,no_nodes=300,Activation=act)\n",
    "    X=identity_block(X=X,no_nodes=300,Activation=act)\n",
    "    X=identity_block(X=X,no_nodes=300,Activation=act)        \n",
    "    outputs=tf.keras.layers.Dense(1,activation='sigmoid')(X)     # keras output layer\n",
    "    model=tf.keras.Model(inputs,outputs)                         # Model declaration\n",
    "\n",
    "\n",
    "    model.compile(\n",
    "            optimizer=tf.keras.optimizers.Adam(\n",
    "            learning_rate=lr,\n",
    "            beta_1=mom,\n",
    "            beta_2=0.999),\n",
    "            loss='binary_crossentropy',\n",
    "            metrics=['accuracy','AUC']\n",
    "        )\n",
    "\n",
    "    history = History()\n",
    "\n",
    "    model.fit(\n",
    "        x_train,\n",
    "        y_train,\n",
    "        epochs=1,\n",
    "        batch_size=10240,\n",
    "        validation_data=(x_test,y_test),\n",
    "        callbacks=[history]    \n",
    "    )"
   ]
  },
  {
   "cell_type": "markdown",
   "id": "3e870c9a",
   "metadata": {},
   "source": [
    "d_rate=0 #The rate of droupout for the layers in the ResNet\n",
    "act='swish'#The activation function use ('relu','swish','elu','gelu','selu')\n",
    "lr=0.01 #The default learning rate Default 0.01\n",
    "mom=0.9 #The momentum parameter Default 0.9\n",
    "test_split=1 #Default 1 and range[1,0]\n",
    "#Reducing test_split will make the model faster but will also reduce the accuracy of the Validation metric\n",
    "#On changing test_split run the lower initialisation cell, marked below**"
   ]
  },
  {
   "cell_type": "markdown",
   "id": "d2a674ab",
   "metadata": {},
   "source": [
    "#On changing test_split run this--------**\n",
    "size=10000000 + test_split*1000000\n",
    "x_train=x[:][:10000000]\n",
    "y_train=y[:][:10000000]\n",
    "x_test=x[:][10000000:size]\n",
    "y_test=y[:][10000000:size]"
   ]
  },
  {
   "cell_type": "markdown",
   "id": "2c0eb46b",
   "metadata": {},
   "source": [
    "y_train.shape"
   ]
  },
  {
   "cell_type": "markdown",
   "id": "fe4db35f",
   "metadata": {},
   "source": [
    "def identity_block(X,no_nodes,Activation):#A custom Residual identity block with a skip connection\n",
    "    X_shortcut=X\n",
    "    #There will be 3 layers in total for the sequential connection\n",
    "    #Activation will be specified by the user as per the Keras Documentation\n",
    "    #no_nodes denote the size of the model which will be built\n",
    "    #Applying Batch Normalisation to size the inputs\n",
    "    #Layer 1 -----------------------------------------------\n",
    "    X=tf.keras.layers.Dense(no_nodes,activation=Activation)(X)\n",
    "    X=tf.keras.layers.BatchNormalization(axis=1)(X)\n",
    "    X=tf.keras.layers.Dropout(d_rate)(X)\n",
    "    #--------------------------------------------------------\n",
    "    #Layer 2-------------------------------------------------\n",
    "    X=tf.keras.layers.Dense(no_nodes,activation=Activation)(X)\n",
    "    X=tf.keras.layers.BatchNormalization(axis=1)(X)\n",
    "    X=tf.keras.layers.Dropout(d_rate)(X)\n",
    "    #--------------------------------------------------------\n",
    "    #Layer 3-------------------------------------------------\n",
    "    X=tf.keras.layers.Dense(no_nodes,activation=Activation)(X)\n",
    "    X=tf.keras.layers.Dropout(d_rate)(X)\n",
    "    #--------------------------------------------------------\n",
    "    #Layer 4-------------------------------------------------\n",
    "    X= tf.keras.layers.Add()([X_shortcut, X])\n",
    "    X=tf.keras.layers.Activation('swish')(X)\n",
    "    #--------------------------------------------------------\n",
    "    X_shortcut2=X\n",
    "     #Layer 5 -----------------------------------------------\n",
    "    X=tf.keras.layers.Dense(no_nodes,activation=Activation)(X)\n",
    "    X=tf.keras.layers.BatchNormalization(axis=1)(X)\n",
    "    X=tf.keras.layers.Dropout(d_rate)(X)\n",
    "    #--------------------------------------------------------\n",
    "    #Layer 6-------------------------------------------------\n",
    "    X=tf.keras.layers.Dense(no_nodes,activation=Activation)(X)\n",
    "    X=tf.keras.layers.BatchNormalization(axis=1)(X)\n",
    "    X=tf.keras.layers.Dropout(d_rate)(X)\n",
    "    #--------------------------------------------------------\n",
    "    #Layer 7-------------------------------------------------\n",
    "    X=tf.keras.layers.Dense(no_nodes,activation=Activation)(X)\n",
    "    X=tf.keras.layers.Dropout(d_rate)(X)\n",
    "    #--------------------------------------------------------\n",
    "    X= tf.keras.layers.Add()([X_shortcut, X,X_shortcut2])\n",
    "    #Layer 8-------------------------------------------------\n",
    "    X=tf.keras.layers.Activation('swish')(X)\n",
    "    return X\n",
    "    "
   ]
  },
  {
   "cell_type": "markdown",
   "id": "806ddd83",
   "metadata": {},
   "source": [
    "inputs=tf.keras.layers.Input(shape=(28,))                    #Keras input layer\n",
    "X=tf.keras.layers.Dense(300,activation=act)(inputs)\n",
    "X=identity_block(X=X,no_nodes=300,Activation=act)\n",
    "X=identity_block(X=X,no_nodes=300,Activation=act)\n",
    "X=identity_block(X=X,no_nodes=300,Activation=act)\n",
    "X=identity_block(X=X,no_nodes=300,Activation=act)\n",
    "X=identity_block(X=X,no_nodes=300,Activation=act)        \n",
    "outputs=tf.keras.layers.Dense(1,activation='sigmoid')(X)     # keras output layer\n",
    "model=tf.keras.Model(inputs,outputs)                         # Model declaration"
   ]
  },
  {
   "cell_type": "markdown",
   "id": "34da3f2b",
   "metadata": {},
   "source": [
    "model.summary()"
   ]
  },
  {
   "cell_type": "markdown",
   "id": "7a1efd9a",
   "metadata": {},
   "source": [
    "model.compile(\n",
    "        optimizer=tf.keras.optimizers.Adam(\n",
    "        learning_rate=lr,\n",
    "        beta_1=mom,\n",
    "        beta_2=0.999),\n",
    "        loss='binary_crossentropy',\n",
    "        metrics=['accuracy','AUC']\n",
    "    )"
   ]
  },
  {
   "cell_type": "markdown",
   "id": "c2aca5ff",
   "metadata": {
    "scrolled": false
   },
   "source": [
    "model.fit(\n",
    "    x_train,\n",
    "    y_train,\n",
    "    epochs=1,\n",
    "    batch_size=10240,\n",
    "    validation_data=(x_test,y_test),\n",
    "    callbacks=[history]    \n",
    ")"
   ]
  },
  {
   "cell_type": "markdown",
   "id": "fb0c59a8",
   "metadata": {},
   "source": [
    "print(history.history)"
   ]
  },
  {
   "cell_type": "code",
   "execution_count": 17,
   "id": "ea27f8cb",
   "metadata": {},
   "outputs": [
    {
     "name": "stdout",
     "output_type": "stream",
     "text": [
      "{'loss': [1.2258751392364502, 0.5770359039306641], 'accuracy': [0.607049822807312, 0.6939947009086609], 'auc': [0.6390843391418457, 0.7634779810905457], 'val_loss': [0.6456842422485352, 0.5868581533432007], 'val_accuracy': [0.621150016784668, 0.6862549781799316], 'val_auc': [0.6875290274620056, 0.7532396912574768]}\n"
     ]
    }
   ],
   "source": [
    "print(history.history)"
   ]
  }
 ],
 "metadata": {
  "kernelspec": {
   "display_name": "Python 3",
   "language": "python",
   "name": "python3"
  },
  "language_info": {
   "codemirror_mode": {
    "name": "ipython",
    "version": 3
   },
   "file_extension": ".py",
   "mimetype": "text/x-python",
   "name": "python",
   "nbconvert_exporter": "python",
   "pygments_lexer": "ipython3",
   "version": "3.8.8"
  }
 },
 "nbformat": 4,
 "nbformat_minor": 5
}
