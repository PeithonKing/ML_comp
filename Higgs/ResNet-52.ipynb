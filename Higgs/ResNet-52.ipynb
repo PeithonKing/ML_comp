{
 "cells": [
  {
   "cell_type": "code",
   "execution_count": 1,
   "id": "213c9ec5",
   "metadata": {},
   "outputs": [],
   "source": [
    "import numpy as np\n",
    "import matplotlib.pyplot as plt\n",
    "import tensorflow as tf\n",
    "import pandas as pd\n",
    "import tensorflow.keras\n",
    "import os\n",
    "checkpoint_path = \"training_ResNet_52/cp.ckpt\"\n",
    "checkpoint_dir = os.path.dirname(checkpoint_path)\n",
    "from keras.callbacks import History\n",
    "import gc"
   ]
  },
  {
   "cell_type": "code",
   "execution_count": 2,
   "id": "7911d5a0",
   "metadata": {},
   "outputs": [],
   "source": [
    "d_rate=0.1 #The rate of droupout for the layers in the ResNet\n",
    "act='relu'#The activation function use ('relu','swish','elu','gelu','selu')\n",
    "lr=0.01 #The default learning rate Default 0.01\n",
    "mom=0.9 #The momentum parameter Default 0.9\n",
    "test_split=1 #Default 1 and range[1,0)\n",
    "#Reducing test_split will make the model faster but will also reduce the accuracy of the Validation metric\n",
    "#On changing test_split run the lower initialisation cell, marked below**"
   ]
  },
  {
   "cell_type": "code",
   "execution_count": 3,
   "id": "6c1d9c40",
   "metadata": {},
   "outputs": [],
   "source": [
    "df_data=pd.read_csv(\"DataSetNormalised.csv\")"
   ]
  },
  {
   "cell_type": "code",
   "execution_count": 4,
   "id": "5f8de25f",
   "metadata": {},
   "outputs": [],
   "source": [
    "df_label=pd.read_csv(\"LabelSet.csv\")"
   ]
  },
  {
   "cell_type": "code",
   "execution_count": null,
   "id": "233a4cf0",
   "metadata": {},
   "outputs": [],
   "source": [
    "x=np.array(df_data.iloc[:,1:])"
   ]
  },
  {
   "cell_type": "code",
   "execution_count": null,
   "id": "26860715",
   "metadata": {},
   "outputs": [],
   "source": [
    "y=np.array(df_label.iloc[:,1])"
   ]
  },
  {
   "cell_type": "code",
   "execution_count": null,
   "id": "dc6554a6",
   "metadata": {},
   "outputs": [],
   "source": [
    "x=x.astype(np.float32)\n",
    "del df_data\n",
    "del df_label\n",
    "gc.collect()"
   ]
  },
  {
   "cell_type": "code",
   "execution_count": null,
   "id": "416810ce",
   "metadata": {},
   "outputs": [],
   "source": [
    "#On changing test_split run this--------**\n",
    "size=10000000 + test_split*1000000\n",
    "x_train=x[:][:10000000]\n",
    "y_train=y[:][:10000000]\n",
    "x_test=x[:][10000000:size]\n",
    "y_test=y[:][10000000:size]\n",
    "\n",
    "del x\n",
    "del y\n",
    "gc.collect()"
   ]
  },
  {
   "cell_type": "code",
   "execution_count": null,
   "id": "a84c77e6",
   "metadata": {},
   "outputs": [],
   "source": [
    "def identity_block(X,no_nodes,Activation):#A custom Residual identity block with a skip connection\n",
    "    X_shortcut=X\n",
    "    #There will be 3 layers in total for the sequential connection\n",
    "    #Activation will be specified by the user as per the Keras Documentation\n",
    "    #no_nodes denote the size of the model which will be built\n",
    "    #Applying Batch Normalisation to size the inputs\n",
    "    #Layer 1 -----------------------------------------------\n",
    "    X=tf.keras.layers.Dense(no_nodes,activation=Activation)(X)\n",
    "    X=tf.keras.layers.BatchNormalization(axis=1)(X)\n",
    "    X=tf.keras.layers.Dropout(d_rate)(X)\n",
    "    #--------------------------------------------------------\n",
    "    #Layer 2-------------------------------------------------\n",
    "    X=tf.keras.layers.Dense(no_nodes,activation=Activation)(X)\n",
    "    X=tf.keras.layers.BatchNormalization(axis=1)(X)\n",
    "    X=tf.keras.layers.Dropout(d_rate)(X)\n",
    "    #--------------------------------------------------------\n",
    "    #Layer 3-------------------------------------------------\n",
    "    X=tf.keras.layers.Dense(no_nodes,activation=Activation)(X)\n",
    "    X=tf.keras.layers.Dropout(d_rate)(X)\n",
    "    #--------------------------------------------------------\n",
    "    #Layer 4-------------------------------------------------\n",
    "    X= tf.keras.layers.Add()([X_shortcut, X])\n",
    "    X=tf.keras.layers.Activation('relu')(X)\n",
    "    #--------------------------------------------------------\n",
    "    X_shortcut2=X\n",
    "     #Layer 5 -----------------------------------------------\n",
    "    X=tf.keras.layers.Dense(no_nodes,activation=Activation)(X)\n",
    "    X=tf.keras.layers.BatchNormalization(axis=1)(X)\n",
    "    X=tf.keras.layers.Dropout(d_rate)(X)\n",
    "    #--------------------------------------------------------\n",
    "    #Layer 6-------------------------------------------------\n",
    "    X=tf.keras.layers.Dense(no_nodes,activation=Activation)(X)\n",
    "    X=tf.keras.layers.BatchNormalization(axis=1)(X)\n",
    "    X=tf.keras.layers.Dropout(d_rate)(X)\n",
    "    #--------------------------------------------------------\n",
    "    #Layer 7-------------------------------------------------\n",
    "    X=tf.keras.layers.Dense(no_nodes,activation=Activation)(X)\n",
    "    X=tf.keras.layers.Dropout(d_rate)(X)\n",
    "    #--------------------------------------------------------\n",
    "    X= tf.keras.layers.Add()([X_shortcut, X,X_shortcut2])\n",
    "    #Layer 8-------------------------------------------------\n",
    "    X=tf.keras.layers.Activation('relu')(X)\n",
    "    return X\n",
    "    "
   ]
  },
  {
   "cell_type": "code",
   "execution_count": null,
   "id": "1dc516b5",
   "metadata": {},
   "outputs": [],
   "source": [
    "inputs=tf.keras.layers.Input(shape=(28,))                    #Keras input layer\n",
    "X=tf.keras.layers.Dense(300,activation=act)(inputs)\n",
    "X=identity_block(X=X,no_nodes=300,Activation=act)\n",
    "X=identity_block(X=X,no_nodes=300,Activation=act)\n",
    "X=identity_block(X=X,no_nodes=300,Activation=act)\n",
    "X=identity_block(X=X,no_nodes=300,Activation=act)\n",
    "X=identity_block(X=X,no_nodes=300,Activation=act)        \n",
    "outputs=tf.keras.layers.Dense(1,activation='sigmoid')(X)     #keras output layer\n",
    "model=tf.keras.Model(inputs,outputs)                         #Model declaration"
   ]
  },
  {
   "cell_type": "code",
   "execution_count": null,
   "id": "7f4a8788",
   "metadata": {},
   "outputs": [],
   "source": [
    "model.summary()"
   ]
  },
  {
   "cell_type": "code",
   "execution_count": null,
   "id": "2f5eb2e0",
   "metadata": {},
   "outputs": [],
   "source": [
    "model.compile(\n",
    "        optimizer=tf.keras.optimizers.Adam(\n",
    "        learning_rate=0.01,\n",
    "        beta_1=mom,\n",
    "        beta_2=0.999),\n",
    "        loss='binary_crossentropy',\n",
    "        metrics=['accuracy','AUC']\n",
    "    )"
   ]
  },
  {
   "cell_type": "code",
   "execution_count": null,
   "id": "398541ef",
   "metadata": {
    "scrolled": false
   },
   "outputs": [],
   "source": [
    "cp_callback = tf.keras.callbacks.ModelCheckpoint(filepath=checkpoint_path,\n",
    "                                                 save_weights_only=True,\n",
    "                                                 verbose=True,\n",
    "                                                 save_best_only=True)\n",
    "\n",
    "reduce_lr = tf.keras.callbacks.ReduceLROnPlateau(monitor='val_accuracy',\n",
    "                                                 factor=0.5,\n",
    "                                                 patience=5,\n",
    "                                                 min_lr=10**-6,\n",
    "                                                 cooldown=5)\n",
    "\n",
    "history = History()\n",
    "\n",
    "model.fit(\n",
    "    x_train,\n",
    "    y_train,\n",
    "    epochs=200,\n",
    "    batch_size=4096,\n",
    "    validation_data=(x_test,y_test),\n",
    "    callbacks=[cp_callback, reduce_lr]\n",
    ")"
   ]
  },
  {
   "cell_type": "code",
   "execution_count": null,
   "id": "c1c918d7",
   "metadata": {},
   "outputs": [],
   "source": [
    "model.save('ResNet_52')\n",
    "\n",
    "with open(\"sunnyMamoni.txt\", \"w\") as f:\n",
    "    f.write(str(history.history))"
   ]
  },
  {
   "cell_type": "code",
   "execution_count": null,
   "id": "8688ad46",
   "metadata": {},
   "outputs": [],
   "source": [
    "from numba import cuda \n",
    "device = cuda.get_current_device()\n",
    "device.reset()"
   ]
  },
  {
   "cell_type": "code",
   "execution_count": null,
   "id": "88fcc309",
   "metadata": {},
   "outputs": [],
   "source": [
    "latest = tf.train.latest_checkpoint(checkpoint_dir)\n",
    "model.load_weights(latest)\n"
   ]
  }
 ],
 "metadata": {
  "kernelspec": {
   "display_name": "Python 3",
   "language": "python",
   "name": "python3"
  },
  "language_info": {
   "codemirror_mode": {
    "name": "ipython",
    "version": 3
   },
   "file_extension": ".py",
   "mimetype": "text/x-python",
   "name": "python",
   "nbconvert_exporter": "python",
   "pygments_lexer": "ipython3",
   "version": "3.8.8"
  }
 },
 "nbformat": 4,
 "nbformat_minor": 5
}
