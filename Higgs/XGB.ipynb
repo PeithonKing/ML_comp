{
 "cells": [
  {
   "cell_type": "code",
   "execution_count": 1,
   "id": "7dbe6d56",
   "metadata": {},
   "outputs": [],
   "source": [
    "import numpy as np\n",
    "import pandas as pd\n",
    "from xgboost import XGBClassifier\n",
    "from sklearn.metrics import accuracy_score\n",
    "from sklearn.metrics import roc_curve\n",
    "from sklearn import metrics\n",
    "import xgboost as xgb\n",
    "import joblib\n",
    "from pprint import pprint\n",
    "from time import time"
   ]
  },
  {
   "cell_type": "code",
   "execution_count": 2,
   "id": "b4157437",
   "metadata": {},
   "outputs": [],
   "source": [
    "df_data=pd.read_csv(\"DataSetNormalised.csv\")\n",
    "df_label=pd.read_csv(\"LabelSet.csv\")"
   ]
  },
  {
   "cell_type": "code",
   "execution_count": 3,
   "id": "91dd774b",
   "metadata": {},
   "outputs": [],
   "source": [
    "x=np.array(df_data.iloc[:,1:])\n",
    "y=np.array(df_label.iloc[:,1])\n",
    "x=x.astype(np.float32)"
   ]
  },
  {
   "cell_type": "code",
   "execution_count": 4,
   "id": "206ac221",
   "metadata": {},
   "outputs": [],
   "source": [
    "x_train=x[:10000000][:]\n",
    "y_train=y[:10000000][:]\n"
   ]
  },
  {
   "cell_type": "code",
   "execution_count": 5,
   "id": "f9ea9b87",
   "metadata": {},
   "outputs": [],
   "source": [
    "x_train_alpha=x[:10000000][:]\n",
    "y_train_alpha=y[:10000000][:]"
   ]
  },
  {
   "cell_type": "code",
   "execution_count": 6,
   "id": "59ef3c54",
   "metadata": {},
   "outputs": [],
   "source": [
    "x_test=x[10000000:][:]\n",
    "y_test=y[10000000:][:]"
   ]
  },
  {
   "cell_type": "code",
   "execution_count": 7,
   "id": "3ffe909f",
   "metadata": {},
   "outputs": [],
   "source": [
    "x_test_alpha=x[10000000:11000000][:]\n",
    "y_test_alpha=y[10000000:11000000][:]"
   ]
  },
  {
   "cell_type": "code",
   "execution_count": 8,
   "id": "323dedeb",
   "metadata": {},
   "outputs": [],
   "source": [
    "dtrain=xgb.DMatrix(x_train_alpha, label=y_train_alpha)"
   ]
  },
  {
   "cell_type": "code",
   "execution_count": 9,
   "id": "388cbebf",
   "metadata": {},
   "outputs": [],
   "source": [
    "dtest=xgb.DMatrix(x_test_alpha, label=y_test_alpha)"
   ]
  },
  {
   "cell_type": "code",
   "execution_count": 10,
   "id": "ff07f7ca",
   "metadata": {},
   "outputs": [
    {
     "data": {
      "text/plain": [
       "(10000000, 28)"
      ]
     },
     "execution_count": 10,
     "metadata": {},
     "output_type": "execute_result"
    }
   ],
   "source": [
    "x_train.shape"
   ]
  },
  {
   "cell_type": "code",
   "execution_count": 11,
   "id": "ebc26bb4",
   "metadata": {},
   "outputs": [],
   "source": [
    "params = {'booster':'dart',\n",
    "        'min_child_weight': 1,\n",
    "        'gamma': 0,\n",
    "        'subsample': 1,\n",
    "        'colsample_bytree': 1,\n",
    "        'max_depth': 6}"
   ]
  },
  {
   "cell_type": "code",
   "execution_count": 16,
   "id": "b82cc621",
   "metadata": {
    "scrolled": false
   },
   "outputs": [
    {
     "name": "stdout",
     "output_type": "stream",
     "text": [
      "[0]\tvalidation_0-error:0.28152\n",
      "[1]\tvalidation_0-error:0.27296\n",
      "[2]\tvalidation_0-error:0.26810\n",
      "[3]\tvalidation_0-error:0.26512\n",
      "[4]\tvalidation_0-error:0.26288\n",
      "[5]\tvalidation_0-error:0.26087\n",
      "[6]\tvalidation_0-error:0.25922\n",
      "[7]\tvalidation_0-error:0.25766\n",
      "[8]\tvalidation_0-error:0.25665\n",
      "[9]\tvalidation_0-error:0.25555\n",
      "[10]\tvalidation_0-error:0.25456\n",
      "[11]\tvalidation_0-error:0.25380\n",
      "[12]\tvalidation_0-error:0.25319\n",
      "[13]\tvalidation_0-error:0.25234\n",
      "[14]\tvalidation_0-error:0.25146\n",
      "[15]\tvalidation_0-error:0.25116\n",
      "[16]\tvalidation_0-error:0.25084\n",
      "[17]\tvalidation_0-error:0.25040\n",
      "[18]\tvalidation_0-error:0.24984\n",
      "[19]\tvalidation_0-error:0.24930\n",
      "[20]\tvalidation_0-error:0.24895\n",
      "[21]\tvalidation_0-error:0.24874\n",
      "[22]\tvalidation_0-error:0.24832\n",
      "[23]\tvalidation_0-error:0.24786\n",
      "[24]\tvalidation_0-error:0.24772\n",
      "[25]\tvalidation_0-error:0.24749\n",
      "[26]\tvalidation_0-error:0.24733\n",
      "[27]\tvalidation_0-error:0.24705\n",
      "[28]\tvalidation_0-error:0.24691\n",
      "[29]\tvalidation_0-error:0.24682\n",
      "[30]\tvalidation_0-error:0.24660\n",
      "[31]\tvalidation_0-error:0.24652\n",
      "[32]\tvalidation_0-error:0.24630\n",
      "[33]\tvalidation_0-error:0.24592\n",
      "[34]\tvalidation_0-error:0.24586\n",
      "[35]\tvalidation_0-error:0.24582\n",
      "[36]\tvalidation_0-error:0.24566\n",
      "[37]\tvalidation_0-error:0.24564\n",
      "[38]\tvalidation_0-error:0.24557\n",
      "[39]\tvalidation_0-error:0.24545\n",
      "[40]\tvalidation_0-error:0.24529\n",
      "[41]\tvalidation_0-error:0.24525\n",
      "[42]\tvalidation_0-error:0.24497\n",
      "[43]\tvalidation_0-error:0.24482\n",
      "[44]\tvalidation_0-error:0.24476\n",
      "[45]\tvalidation_0-error:0.24476\n",
      "[46]\tvalidation_0-error:0.24462\n",
      "[47]\tvalidation_0-error:0.24444\n",
      "[48]\tvalidation_0-error:0.24438\n",
      "[49]\tvalidation_0-error:0.24438\n",
      "[50]\tvalidation_0-error:0.24421\n"
     ]
    },
    {
     "name": "stderr",
     "output_type": "stream",
     "text": [
      "C:\\Users\\ML_RTC\\anaconda3\\lib\\site-packages\\xgboost\\core.py:105: UserWarning: ntree_limit is deprecated, use `iteration_range` or model slicing instead.\n",
      "  warnings.warn(\n"
     ]
    },
    {
     "name": "stdout",
     "output_type": "stream",
     "text": [
      "The testing accuracy 75.5787\n"
     ]
    },
    {
     "name": "stderr",
     "output_type": "stream",
     "text": [
      "C:\\Users\\ML_RTC\\anaconda3\\lib\\site-packages\\xgboost\\core.py:105: UserWarning: ntree_limit is deprecated, use `iteration_range` or model slicing instead.\n",
      "  warnings.warn(\n"
     ]
    },
    {
     "name": "stdout",
     "output_type": "stream",
     "text": [
      "The training accuracy 81.80156\n"
     ]
    },
    {
     "name": "stderr",
     "output_type": "stream",
     "text": [
      "C:\\Users\\ML_RTC\\anaconda3\\lib\\site-packages\\xgboost\\sklearn.py:1224: UserWarning: The use of label encoder in XGBClassifier is deprecated and will be removed in a future release. To remove this warning, do the following: 1) Pass option use_label_encoder=False when constructing XGBClassifier object; and 2) Encode your labels (y) as integers starting with 0, i.e. 0, 1, 2, ..., [num_class - 1].\n",
      "  warnings.warn(label_encoder_deprecation_msg, UserWarning)\n"
     ]
    },
    {
     "name": "stdout",
     "output_type": "stream",
     "text": [
      "[0]\tvalidation_0-error:0.28160\n",
      "[1]\tvalidation_0-error:0.27314\n",
      "[2]\tvalidation_0-error:0.26830\n",
      "[3]\tvalidation_0-error:0.26517\n",
      "[4]\tvalidation_0-error:0.26249\n",
      "[5]\tvalidation_0-error:0.26076\n",
      "[6]\tvalidation_0-error:0.25883\n",
      "[7]\tvalidation_0-error:0.25740\n",
      "[8]\tvalidation_0-error:0.25612\n",
      "[9]\tvalidation_0-error:0.25516\n",
      "[10]\tvalidation_0-error:0.25453\n",
      "[11]\tvalidation_0-error:0.25371\n",
      "[12]\tvalidation_0-error:0.25298\n",
      "[13]\tvalidation_0-error:0.25245\n",
      "[14]\tvalidation_0-error:0.25189\n",
      "[15]\tvalidation_0-error:0.25093\n",
      "[16]\tvalidation_0-error:0.25042\n",
      "[17]\tvalidation_0-error:0.24971\n",
      "[18]\tvalidation_0-error:0.24957\n",
      "[19]\tvalidation_0-error:0.24898\n",
      "[20]\tvalidation_0-error:0.24856\n",
      "[21]\tvalidation_0-error:0.24825\n",
      "[22]\tvalidation_0-error:0.24814\n",
      "[23]\tvalidation_0-error:0.24805\n",
      "[24]\tvalidation_0-error:0.24808\n",
      "[25]\tvalidation_0-error:0.24742\n",
      "[26]\tvalidation_0-error:0.24700\n",
      "[27]\tvalidation_0-error:0.24688\n",
      "[28]\tvalidation_0-error:0.24657\n",
      "[29]\tvalidation_0-error:0.24641\n",
      "[30]\tvalidation_0-error:0.24634\n",
      "[31]\tvalidation_0-error:0.24599\n",
      "[32]\tvalidation_0-error:0.24581\n",
      "[33]\tvalidation_0-error:0.24573\n",
      "[34]\tvalidation_0-error:0.24557\n",
      "[35]\tvalidation_0-error:0.24553\n",
      "[36]\tvalidation_0-error:0.24554\n",
      "[37]\tvalidation_0-error:0.24534\n",
      "[38]\tvalidation_0-error:0.24514\n",
      "[39]\tvalidation_0-error:0.24512\n",
      "[40]\tvalidation_0-error:0.24505\n",
      "[41]\tvalidation_0-error:0.24465\n",
      "[42]\tvalidation_0-error:0.24455\n",
      "[43]\tvalidation_0-error:0.24424\n",
      "[44]\tvalidation_0-error:0.24400\n",
      "[45]\tvalidation_0-error:0.24399\n",
      "[46]\tvalidation_0-error:0.24370\n",
      "[47]\tvalidation_0-error:0.24358\n",
      "[48]\tvalidation_0-error:0.24357\n",
      "[49]\tvalidation_0-error:0.24333\n",
      "[50]\tvalidation_0-error:0.24300\n",
      "[51]\tvalidation_0-error:0.24265\n",
      "[52]\tvalidation_0-error:0.24277\n",
      "[53]\tvalidation_0-error:0.24277\n",
      "[54]\tvalidation_0-error:0.24257\n",
      "[55]\tvalidation_0-error:0.24251\n",
      "[56]\tvalidation_0-error:0.24250\n",
      "[57]\tvalidation_0-error:0.24241\n",
      "[58]\tvalidation_0-error:0.24238\n",
      "[59]\tvalidation_0-error:0.24237\n",
      "[60]\tvalidation_0-error:0.24230\n"
     ]
    },
    {
     "name": "stderr",
     "output_type": "stream",
     "text": [
      "C:\\Users\\ML_RTC\\anaconda3\\lib\\site-packages\\xgboost\\core.py:105: UserWarning: ntree_limit is deprecated, use `iteration_range` or model slicing instead.\n",
      "  warnings.warn(\n"
     ]
    },
    {
     "name": "stdout",
     "output_type": "stream",
     "text": [
      "The testing accuracy 75.77040000000001\n"
     ]
    },
    {
     "name": "stderr",
     "output_type": "stream",
     "text": [
      "C:\\Users\\ML_RTC\\anaconda3\\lib\\site-packages\\xgboost\\core.py:105: UserWarning: ntree_limit is deprecated, use `iteration_range` or model slicing instead.\n",
      "  warnings.warn(\n"
     ]
    },
    {
     "name": "stdout",
     "output_type": "stream",
     "text": [
      "The training accuracy 82.99261\n"
     ]
    },
    {
     "name": "stderr",
     "output_type": "stream",
     "text": [
      "C:\\Users\\ML_RTC\\anaconda3\\lib\\site-packages\\xgboost\\sklearn.py:1224: UserWarning: The use of label encoder in XGBClassifier is deprecated and will be removed in a future release. To remove this warning, do the following: 1) Pass option use_label_encoder=False when constructing XGBClassifier object; and 2) Encode your labels (y) as integers starting with 0, i.e. 0, 1, 2, ..., [num_class - 1].\n",
      "  warnings.warn(label_encoder_deprecation_msg, UserWarning)\n"
     ]
    },
    {
     "name": "stdout",
     "output_type": "stream",
     "text": [
      "[0]\tvalidation_0-error:0.28160\n",
      "[1]\tvalidation_0-error:0.27314\n",
      "[2]\tvalidation_0-error:0.26830\n",
      "[3]\tvalidation_0-error:0.26517\n",
      "[4]\tvalidation_0-error:0.26249\n",
      "[5]\tvalidation_0-error:0.26076\n",
      "[6]\tvalidation_0-error:0.25883\n",
      "[7]\tvalidation_0-error:0.25740\n",
      "[8]\tvalidation_0-error:0.25612\n",
      "[9]\tvalidation_0-error:0.25516\n",
      "[10]\tvalidation_0-error:0.25453\n",
      "[11]\tvalidation_0-error:0.25371\n",
      "[12]\tvalidation_0-error:0.25298\n",
      "[13]\tvalidation_0-error:0.25245\n",
      "[14]\tvalidation_0-error:0.25189\n",
      "[15]\tvalidation_0-error:0.25093\n",
      "[16]\tvalidation_0-error:0.25042\n",
      "[17]\tvalidation_0-error:0.24971\n",
      "[18]\tvalidation_0-error:0.24957\n",
      "[19]\tvalidation_0-error:0.24898\n",
      "[20]\tvalidation_0-error:0.24856\n",
      "[21]\tvalidation_0-error:0.24825\n",
      "[22]\tvalidation_0-error:0.24814\n",
      "[23]\tvalidation_0-error:0.24805\n",
      "[24]\tvalidation_0-error:0.24808\n",
      "[25]\tvalidation_0-error:0.24742\n",
      "[26]\tvalidation_0-error:0.24700\n",
      "[27]\tvalidation_0-error:0.24688\n",
      "[28]\tvalidation_0-error:0.24657\n",
      "[29]\tvalidation_0-error:0.24641\n",
      "[30]\tvalidation_0-error:0.24634\n",
      "[31]\tvalidation_0-error:0.24599\n",
      "[32]\tvalidation_0-error:0.24581\n",
      "[33]\tvalidation_0-error:0.24573\n",
      "[34]\tvalidation_0-error:0.24557\n",
      "[35]\tvalidation_0-error:0.24553\n",
      "[36]\tvalidation_0-error:0.24554\n",
      "[37]\tvalidation_0-error:0.24534\n",
      "[38]\tvalidation_0-error:0.24514\n",
      "[39]\tvalidation_0-error:0.24512\n",
      "[40]\tvalidation_0-error:0.24505\n",
      "[41]\tvalidation_0-error:0.24465\n",
      "[42]\tvalidation_0-error:0.24455\n",
      "[43]\tvalidation_0-error:0.24424\n",
      "[44]\tvalidation_0-error:0.24400\n",
      "[45]\tvalidation_0-error:0.24399\n",
      "[46]\tvalidation_0-error:0.24370\n",
      "[47]\tvalidation_0-error:0.24358\n",
      "[48]\tvalidation_0-error:0.24357\n",
      "[49]\tvalidation_0-error:0.24333\n",
      "[50]\tvalidation_0-error:0.24300\n",
      "[51]\tvalidation_0-error:0.24265\n",
      "[52]\tvalidation_0-error:0.24277\n",
      "[53]\tvalidation_0-error:0.24277\n",
      "[54]\tvalidation_0-error:0.24257\n",
      "[55]\tvalidation_0-error:0.24251\n",
      "[56]\tvalidation_0-error:0.24250\n",
      "[57]\tvalidation_0-error:0.24241\n",
      "[58]\tvalidation_0-error:0.24238\n",
      "[59]\tvalidation_0-error:0.24237\n",
      "[60]\tvalidation_0-error:0.24230\n",
      "[61]\tvalidation_0-error:0.24224\n",
      "[62]\tvalidation_0-error:0.24218\n",
      "[63]\tvalidation_0-error:0.24211\n",
      "[64]\tvalidation_0-error:0.24199\n",
      "[65]\tvalidation_0-error:0.24196\n",
      "[66]\tvalidation_0-error:0.24204\n",
      "[67]\tvalidation_0-error:0.24202\n",
      "[68]\tvalidation_0-error:0.24192\n",
      "[69]\tvalidation_0-error:0.24184\n",
      "[70]\tvalidation_0-error:0.24170\n"
     ]
    },
    {
     "name": "stderr",
     "output_type": "stream",
     "text": [
      "C:\\Users\\ML_RTC\\anaconda3\\lib\\site-packages\\xgboost\\core.py:105: UserWarning: ntree_limit is deprecated, use `iteration_range` or model slicing instead.\n",
      "  warnings.warn(\n"
     ]
    },
    {
     "name": "stdout",
     "output_type": "stream",
     "text": [
      "The testing accuracy 75.8303\n"
     ]
    },
    {
     "name": "stderr",
     "output_type": "stream",
     "text": [
      "C:\\Users\\ML_RTC\\anaconda3\\lib\\site-packages\\xgboost\\core.py:105: UserWarning: ntree_limit is deprecated, use `iteration_range` or model slicing instead.\n",
      "  warnings.warn(\n"
     ]
    },
    {
     "name": "stdout",
     "output_type": "stream",
     "text": [
      "The training accuracy 83.71179\n"
     ]
    },
    {
     "name": "stderr",
     "output_type": "stream",
     "text": [
      "C:\\Users\\ML_RTC\\anaconda3\\lib\\site-packages\\xgboost\\sklearn.py:1224: UserWarning: The use of label encoder in XGBClassifier is deprecated and will be removed in a future release. To remove this warning, do the following: 1) Pass option use_label_encoder=False when constructing XGBClassifier object; and 2) Encode your labels (y) as integers starting with 0, i.e. 0, 1, 2, ..., [num_class - 1].\n",
      "  warnings.warn(label_encoder_deprecation_msg, UserWarning)\n"
     ]
    },
    {
     "name": "stdout",
     "output_type": "stream",
     "text": [
      "[0]\tvalidation_0-error:0.28160\n",
      "[1]\tvalidation_0-error:0.27314\n",
      "[2]\tvalidation_0-error:0.26830\n",
      "[3]\tvalidation_0-error:0.26517\n",
      "[4]\tvalidation_0-error:0.26249\n",
      "[5]\tvalidation_0-error:0.26076\n",
      "[6]\tvalidation_0-error:0.25883\n",
      "[7]\tvalidation_0-error:0.25740\n",
      "[8]\tvalidation_0-error:0.25612\n",
      "[9]\tvalidation_0-error:0.25516\n",
      "[10]\tvalidation_0-error:0.25453\n",
      "[11]\tvalidation_0-error:0.25371\n",
      "[12]\tvalidation_0-error:0.25298\n",
      "[13]\tvalidation_0-error:0.25245\n",
      "[14]\tvalidation_0-error:0.25189\n",
      "[15]\tvalidation_0-error:0.25093\n",
      "[16]\tvalidation_0-error:0.25042\n",
      "[17]\tvalidation_0-error:0.24971\n",
      "[18]\tvalidation_0-error:0.24957\n",
      "[19]\tvalidation_0-error:0.24898\n",
      "[20]\tvalidation_0-error:0.24856\n",
      "[21]\tvalidation_0-error:0.24825\n",
      "[22]\tvalidation_0-error:0.24814\n",
      "[23]\tvalidation_0-error:0.24805\n",
      "[24]\tvalidation_0-error:0.24808\n",
      "[25]\tvalidation_0-error:0.24742\n",
      "[26]\tvalidation_0-error:0.24700\n",
      "[27]\tvalidation_0-error:0.24688\n",
      "[28]\tvalidation_0-error:0.24657\n",
      "[29]\tvalidation_0-error:0.24641\n",
      "[30]\tvalidation_0-error:0.24634\n",
      "[31]\tvalidation_0-error:0.24599\n",
      "[32]\tvalidation_0-error:0.24581\n",
      "[33]\tvalidation_0-error:0.24573\n",
      "[34]\tvalidation_0-error:0.24557\n",
      "[35]\tvalidation_0-error:0.24553\n",
      "[36]\tvalidation_0-error:0.24554\n",
      "[37]\tvalidation_0-error:0.24534\n",
      "[38]\tvalidation_0-error:0.24514\n",
      "[39]\tvalidation_0-error:0.24512\n",
      "[40]\tvalidation_0-error:0.24505\n",
      "[41]\tvalidation_0-error:0.24465\n",
      "[42]\tvalidation_0-error:0.24455\n",
      "[43]\tvalidation_0-error:0.24424\n",
      "[44]\tvalidation_0-error:0.24400\n",
      "[45]\tvalidation_0-error:0.24399\n",
      "[46]\tvalidation_0-error:0.24370\n",
      "[47]\tvalidation_0-error:0.24358\n",
      "[48]\tvalidation_0-error:0.24357\n",
      "[49]\tvalidation_0-error:0.24333\n",
      "[50]\tvalidation_0-error:0.24300\n",
      "[51]\tvalidation_0-error:0.24265\n",
      "[52]\tvalidation_0-error:0.24277\n",
      "[53]\tvalidation_0-error:0.24277\n",
      "[54]\tvalidation_0-error:0.24257\n",
      "[55]\tvalidation_0-error:0.24251\n",
      "[56]\tvalidation_0-error:0.24250\n",
      "[57]\tvalidation_0-error:0.24241\n",
      "[58]\tvalidation_0-error:0.24238\n",
      "[59]\tvalidation_0-error:0.24237\n",
      "[60]\tvalidation_0-error:0.24230\n",
      "[61]\tvalidation_0-error:0.24224\n",
      "[62]\tvalidation_0-error:0.24218\n",
      "[63]\tvalidation_0-error:0.24211\n",
      "[64]\tvalidation_0-error:0.24199\n",
      "[65]\tvalidation_0-error:0.24196\n",
      "[66]\tvalidation_0-error:0.24204\n",
      "[67]\tvalidation_0-error:0.24202\n",
      "[68]\tvalidation_0-error:0.24192\n",
      "[69]\tvalidation_0-error:0.24184\n",
      "[70]\tvalidation_0-error:0.24170\n",
      "[71]\tvalidation_0-error:0.24165\n",
      "[72]\tvalidation_0-error:0.24151\n",
      "[73]\tvalidation_0-error:0.24156\n",
      "[74]\tvalidation_0-error:0.24133\n",
      "[75]\tvalidation_0-error:0.24129\n",
      "[76]\tvalidation_0-error:0.24130\n",
      "[77]\tvalidation_0-error:0.24133\n",
      "[78]\tvalidation_0-error:0.24127\n",
      "[79]\tvalidation_0-error:0.24124\n",
      "[80]\tvalidation_0-error:0.24128\n"
     ]
    },
    {
     "name": "stderr",
     "output_type": "stream",
     "text": [
      "C:\\Users\\ML_RTC\\anaconda3\\lib\\site-packages\\xgboost\\core.py:105: UserWarning: ntree_limit is deprecated, use `iteration_range` or model slicing instead.\n",
      "  warnings.warn(\n"
     ]
    },
    {
     "name": "stdout",
     "output_type": "stream",
     "text": [
      "The testing accuracy 75.8716\n"
     ]
    },
    {
     "name": "stderr",
     "output_type": "stream",
     "text": [
      "C:\\Users\\ML_RTC\\anaconda3\\lib\\site-packages\\xgboost\\core.py:105: UserWarning: ntree_limit is deprecated, use `iteration_range` or model slicing instead.\n",
      "  warnings.warn(\n"
     ]
    },
    {
     "name": "stdout",
     "output_type": "stream",
     "text": [
      "The training accuracy 84.45728\n"
     ]
    },
    {
     "name": "stderr",
     "output_type": "stream",
     "text": [
      "C:\\Users\\ML_RTC\\anaconda3\\lib\\site-packages\\xgboost\\sklearn.py:1224: UserWarning: The use of label encoder in XGBClassifier is deprecated and will be removed in a future release. To remove this warning, do the following: 1) Pass option use_label_encoder=False when constructing XGBClassifier object; and 2) Encode your labels (y) as integers starting with 0, i.e. 0, 1, 2, ..., [num_class - 1].\n",
      "  warnings.warn(label_encoder_deprecation_msg, UserWarning)\n"
     ]
    },
    {
     "name": "stdout",
     "output_type": "stream",
     "text": [
      "[0]\tvalidation_0-error:0.28160\n",
      "[1]\tvalidation_0-error:0.27314\n",
      "[2]\tvalidation_0-error:0.26830\n",
      "[3]\tvalidation_0-error:0.26517\n",
      "[4]\tvalidation_0-error:0.26249\n",
      "[5]\tvalidation_0-error:0.26076\n",
      "[6]\tvalidation_0-error:0.25883\n",
      "[7]\tvalidation_0-error:0.25740\n",
      "[8]\tvalidation_0-error:0.25612\n",
      "[9]\tvalidation_0-error:0.25516\n",
      "[10]\tvalidation_0-error:0.25453\n",
      "[11]\tvalidation_0-error:0.25371\n",
      "[12]\tvalidation_0-error:0.25298\n",
      "[13]\tvalidation_0-error:0.25245\n",
      "[14]\tvalidation_0-error:0.25189\n",
      "[15]\tvalidation_0-error:0.25093\n",
      "[16]\tvalidation_0-error:0.25042\n",
      "[17]\tvalidation_0-error:0.24971\n",
      "[18]\tvalidation_0-error:0.24957\n",
      "[19]\tvalidation_0-error:0.24898\n",
      "[20]\tvalidation_0-error:0.24856\n",
      "[21]\tvalidation_0-error:0.24825\n",
      "[22]\tvalidation_0-error:0.24814\n",
      "[23]\tvalidation_0-error:0.24805\n",
      "[24]\tvalidation_0-error:0.24808\n",
      "[25]\tvalidation_0-error:0.24742\n",
      "[26]\tvalidation_0-error:0.24700\n",
      "[27]\tvalidation_0-error:0.24688\n",
      "[28]\tvalidation_0-error:0.24657\n",
      "[29]\tvalidation_0-error:0.24641\n",
      "[30]\tvalidation_0-error:0.24634\n",
      "[31]\tvalidation_0-error:0.24599\n",
      "[32]\tvalidation_0-error:0.24581\n",
      "[33]\tvalidation_0-error:0.24573\n",
      "[34]\tvalidation_0-error:0.24557\n",
      "[35]\tvalidation_0-error:0.24553\n",
      "[36]\tvalidation_0-error:0.24554\n",
      "[37]\tvalidation_0-error:0.24534\n",
      "[38]\tvalidation_0-error:0.24514\n",
      "[39]\tvalidation_0-error:0.24512\n",
      "[40]\tvalidation_0-error:0.24505\n",
      "[41]\tvalidation_0-error:0.24465\n",
      "[42]\tvalidation_0-error:0.24455\n",
      "[43]\tvalidation_0-error:0.24424\n",
      "[44]\tvalidation_0-error:0.24400\n",
      "[45]\tvalidation_0-error:0.24399\n",
      "[46]\tvalidation_0-error:0.24370\n",
      "[47]\tvalidation_0-error:0.24358\n",
      "[48]\tvalidation_0-error:0.24357\n",
      "[49]\tvalidation_0-error:0.24333\n",
      "[50]\tvalidation_0-error:0.24300\n",
      "[51]\tvalidation_0-error:0.24265\n",
      "[52]\tvalidation_0-error:0.24277\n",
      "[53]\tvalidation_0-error:0.24277\n",
      "[54]\tvalidation_0-error:0.24257\n",
      "[55]\tvalidation_0-error:0.24251\n",
      "[56]\tvalidation_0-error:0.24250\n",
      "[57]\tvalidation_0-error:0.24241\n",
      "[58]\tvalidation_0-error:0.24238\n",
      "[59]\tvalidation_0-error:0.24237\n",
      "[60]\tvalidation_0-error:0.24230\n",
      "[61]\tvalidation_0-error:0.24224\n",
      "[62]\tvalidation_0-error:0.24218\n",
      "[63]\tvalidation_0-error:0.24211\n",
      "[64]\tvalidation_0-error:0.24199\n",
      "[65]\tvalidation_0-error:0.24196\n",
      "[66]\tvalidation_0-error:0.24204\n",
      "[67]\tvalidation_0-error:0.24202\n",
      "[68]\tvalidation_0-error:0.24192\n",
      "[69]\tvalidation_0-error:0.24184\n",
      "[70]\tvalidation_0-error:0.24170\n",
      "[71]\tvalidation_0-error:0.24165\n",
      "[72]\tvalidation_0-error:0.24151\n",
      "[73]\tvalidation_0-error:0.24156\n",
      "[74]\tvalidation_0-error:0.24133\n",
      "[75]\tvalidation_0-error:0.24129\n",
      "[76]\tvalidation_0-error:0.24130\n",
      "[77]\tvalidation_0-error:0.24133\n",
      "[78]\tvalidation_0-error:0.24127\n",
      "[79]\tvalidation_0-error:0.24124\n",
      "[80]\tvalidation_0-error:0.24128\n",
      "[81]\tvalidation_0-error:0.24118\n",
      "[82]\tvalidation_0-error:0.24111\n",
      "[83]\tvalidation_0-error:0.24125\n",
      "[84]\tvalidation_0-error:0.24125\n",
      "[85]\tvalidation_0-error:0.24129\n",
      "[86]\tvalidation_0-error:0.24118\n",
      "[87]\tvalidation_0-error:0.24127\n",
      "[88]\tvalidation_0-error:0.24125\n",
      "[89]\tvalidation_0-error:0.24126\n",
      "[90]\tvalidation_0-error:0.24122\n"
     ]
    },
    {
     "name": "stderr",
     "output_type": "stream",
     "text": [
      "C:\\Users\\ML_RTC\\anaconda3\\lib\\site-packages\\xgboost\\core.py:105: UserWarning: ntree_limit is deprecated, use `iteration_range` or model slicing instead.\n",
      "  warnings.warn(\n"
     ]
    },
    {
     "name": "stdout",
     "output_type": "stream",
     "text": [
      "The testing accuracy 75.8777\n"
     ]
    },
    {
     "name": "stderr",
     "output_type": "stream",
     "text": [
      "C:\\Users\\ML_RTC\\anaconda3\\lib\\site-packages\\xgboost\\core.py:105: UserWarning: ntree_limit is deprecated, use `iteration_range` or model slicing instead.\n",
      "  warnings.warn(\n"
     ]
    },
    {
     "name": "stdout",
     "output_type": "stream",
     "text": [
      "The training accuracy 85.15553\n"
     ]
    },
    {
     "name": "stderr",
     "output_type": "stream",
     "text": [
      "C:\\Users\\ML_RTC\\anaconda3\\lib\\site-packages\\xgboost\\sklearn.py:1224: UserWarning: The use of label encoder in XGBClassifier is deprecated and will be removed in a future release. To remove this warning, do the following: 1) Pass option use_label_encoder=False when constructing XGBClassifier object; and 2) Encode your labels (y) as integers starting with 0, i.e. 0, 1, 2, ..., [num_class - 1].\n",
      "  warnings.warn(label_encoder_deprecation_msg, UserWarning)\n"
     ]
    },
    {
     "name": "stdout",
     "output_type": "stream",
     "text": [
      "[0]\tvalidation_0-error:0.28160\n",
      "[1]\tvalidation_0-error:0.27314\n",
      "[2]\tvalidation_0-error:0.26830\n",
      "[3]\tvalidation_0-error:0.26517\n",
      "[4]\tvalidation_0-error:0.26249\n",
      "[5]\tvalidation_0-error:0.26076\n",
      "[6]\tvalidation_0-error:0.25883\n",
      "[7]\tvalidation_0-error:0.25740\n",
      "[8]\tvalidation_0-error:0.25612\n",
      "[9]\tvalidation_0-error:0.25516\n",
      "[10]\tvalidation_0-error:0.25453\n",
      "[11]\tvalidation_0-error:0.25371\n",
      "[12]\tvalidation_0-error:0.25298\n",
      "[13]\tvalidation_0-error:0.25245\n",
      "[14]\tvalidation_0-error:0.25189\n",
      "[15]\tvalidation_0-error:0.25093\n",
      "[16]\tvalidation_0-error:0.25042\n",
      "[17]\tvalidation_0-error:0.24971\n",
      "[18]\tvalidation_0-error:0.24957\n",
      "[19]\tvalidation_0-error:0.24898\n",
      "[20]\tvalidation_0-error:0.24856\n",
      "[21]\tvalidation_0-error:0.24825\n",
      "[22]\tvalidation_0-error:0.24814\n",
      "[23]\tvalidation_0-error:0.24805\n",
      "[24]\tvalidation_0-error:0.24808\n",
      "[25]\tvalidation_0-error:0.24742\n",
      "[26]\tvalidation_0-error:0.24700\n",
      "[27]\tvalidation_0-error:0.24688\n",
      "[28]\tvalidation_0-error:0.24657\n",
      "[29]\tvalidation_0-error:0.24641\n",
      "[30]\tvalidation_0-error:0.24634\n",
      "[31]\tvalidation_0-error:0.24599\n",
      "[32]\tvalidation_0-error:0.24581\n",
      "[33]\tvalidation_0-error:0.24573\n",
      "[34]\tvalidation_0-error:0.24557\n",
      "[35]\tvalidation_0-error:0.24553\n",
      "[36]\tvalidation_0-error:0.24554\n",
      "[37]\tvalidation_0-error:0.24534\n",
      "[38]\tvalidation_0-error:0.24514\n",
      "[39]\tvalidation_0-error:0.24512\n",
      "[40]\tvalidation_0-error:0.24505\n",
      "[41]\tvalidation_0-error:0.24465\n",
      "[42]\tvalidation_0-error:0.24455\n",
      "[43]\tvalidation_0-error:0.24424\n",
      "[44]\tvalidation_0-error:0.24400\n",
      "[45]\tvalidation_0-error:0.24399\n",
      "[46]\tvalidation_0-error:0.24370\n",
      "[47]\tvalidation_0-error:0.24358\n",
      "[48]\tvalidation_0-error:0.24357\n",
      "[49]\tvalidation_0-error:0.24333\n",
      "[50]\tvalidation_0-error:0.24300\n",
      "[51]\tvalidation_0-error:0.24265\n",
      "[52]\tvalidation_0-error:0.24277\n",
      "[53]\tvalidation_0-error:0.24277\n",
      "[54]\tvalidation_0-error:0.24257\n",
      "[55]\tvalidation_0-error:0.24251\n",
      "[56]\tvalidation_0-error:0.24250\n",
      "[57]\tvalidation_0-error:0.24241\n",
      "[58]\tvalidation_0-error:0.24238\n",
      "[59]\tvalidation_0-error:0.24237\n",
      "[60]\tvalidation_0-error:0.24230\n",
      "[61]\tvalidation_0-error:0.24224\n",
      "[62]\tvalidation_0-error:0.24218\n",
      "[63]\tvalidation_0-error:0.24211\n",
      "[64]\tvalidation_0-error:0.24199\n",
      "[65]\tvalidation_0-error:0.24196\n",
      "[66]\tvalidation_0-error:0.24204\n",
      "[67]\tvalidation_0-error:0.24202\n",
      "[68]\tvalidation_0-error:0.24192\n",
      "[69]\tvalidation_0-error:0.24184\n",
      "[70]\tvalidation_0-error:0.24170\n",
      "[71]\tvalidation_0-error:0.24165\n",
      "[72]\tvalidation_0-error:0.24151\n",
      "[73]\tvalidation_0-error:0.24156\n",
      "[74]\tvalidation_0-error:0.24133\n",
      "[75]\tvalidation_0-error:0.24129\n",
      "[76]\tvalidation_0-error:0.24130\n",
      "[77]\tvalidation_0-error:0.24133\n",
      "[78]\tvalidation_0-error:0.24127\n",
      "[79]\tvalidation_0-error:0.24124\n",
      "[80]\tvalidation_0-error:0.24128\n",
      "[81]\tvalidation_0-error:0.24118\n",
      "[82]\tvalidation_0-error:0.24111\n",
      "[83]\tvalidation_0-error:0.24125\n",
      "[84]\tvalidation_0-error:0.24125\n",
      "[85]\tvalidation_0-error:0.24129\n",
      "[86]\tvalidation_0-error:0.24118\n",
      "[87]\tvalidation_0-error:0.24127\n",
      "[88]\tvalidation_0-error:0.24125\n",
      "[89]\tvalidation_0-error:0.24126\n",
      "[90]\tvalidation_0-error:0.24122\n",
      "[91]\tvalidation_0-error:0.24121\n",
      "[92]\tvalidation_0-error:0.24118\n",
      "[93]\tvalidation_0-error:0.24124\n",
      "[94]\tvalidation_0-error:0.24124\n",
      "[95]\tvalidation_0-error:0.24124\n",
      "[96]\tvalidation_0-error:0.24122\n",
      "[97]\tvalidation_0-error:0.24121\n",
      "[98]\tvalidation_0-error:0.24103\n",
      "[99]\tvalidation_0-error:0.24099\n",
      "[100]\tvalidation_0-error:0.24100\n"
     ]
    },
    {
     "name": "stderr",
     "output_type": "stream",
     "text": [
      "C:\\Users\\ML_RTC\\anaconda3\\lib\\site-packages\\xgboost\\core.py:105: UserWarning: ntree_limit is deprecated, use `iteration_range` or model slicing instead.\n",
      "  warnings.warn(\n"
     ]
    },
    {
     "name": "stdout",
     "output_type": "stream",
     "text": [
      "The testing accuracy 75.8995\n"
     ]
    },
    {
     "name": "stderr",
     "output_type": "stream",
     "text": [
      "C:\\Users\\ML_RTC\\anaconda3\\lib\\site-packages\\xgboost\\core.py:105: UserWarning: ntree_limit is deprecated, use `iteration_range` or model slicing instead.\n",
      "  warnings.warn(\n"
     ]
    },
    {
     "name": "stdout",
     "output_type": "stream",
     "text": [
      "The training accuracy 85.8091\n"
     ]
    },
    {
     "name": "stderr",
     "output_type": "stream",
     "text": [
      "C:\\Users\\ML_RTC\\anaconda3\\lib\\site-packages\\xgboost\\sklearn.py:1224: UserWarning: The use of label encoder in XGBClassifier is deprecated and will be removed in a future release. To remove this warning, do the following: 1) Pass option use_label_encoder=False when constructing XGBClassifier object; and 2) Encode your labels (y) as integers starting with 0, i.e. 0, 1, 2, ..., [num_class - 1].\n",
      "  warnings.warn(label_encoder_deprecation_msg, UserWarning)\n"
     ]
    },
    {
     "name": "stdout",
     "output_type": "stream",
     "text": [
      "[0]\tvalidation_0-error:0.28160\n",
      "[1]\tvalidation_0-error:0.27314\n",
      "[2]\tvalidation_0-error:0.26830\n",
      "[3]\tvalidation_0-error:0.26517\n",
      "[4]\tvalidation_0-error:0.26249\n",
      "[5]\tvalidation_0-error:0.26076\n",
      "[6]\tvalidation_0-error:0.25883\n",
      "[7]\tvalidation_0-error:0.25740\n",
      "[8]\tvalidation_0-error:0.25612\n",
      "[9]\tvalidation_0-error:0.25516\n",
      "[10]\tvalidation_0-error:0.25453\n",
      "[11]\tvalidation_0-error:0.25371\n",
      "[12]\tvalidation_0-error:0.25298\n",
      "[13]\tvalidation_0-error:0.25245\n",
      "[14]\tvalidation_0-error:0.25189\n",
      "[15]\tvalidation_0-error:0.25093\n",
      "[16]\tvalidation_0-error:0.25042\n",
      "[17]\tvalidation_0-error:0.24971\n",
      "[18]\tvalidation_0-error:0.24957\n",
      "[19]\tvalidation_0-error:0.24898\n",
      "[20]\tvalidation_0-error:0.24856\n",
      "[21]\tvalidation_0-error:0.24825\n",
      "[22]\tvalidation_0-error:0.24814\n",
      "[23]\tvalidation_0-error:0.24805\n",
      "[24]\tvalidation_0-error:0.24808\n",
      "[25]\tvalidation_0-error:0.24742\n",
      "[26]\tvalidation_0-error:0.24700\n",
      "[27]\tvalidation_0-error:0.24688\n",
      "[28]\tvalidation_0-error:0.24657\n",
      "[29]\tvalidation_0-error:0.24641\n",
      "[30]\tvalidation_0-error:0.24634\n",
      "[31]\tvalidation_0-error:0.24599\n",
      "[32]\tvalidation_0-error:0.24581\n",
      "[33]\tvalidation_0-error:0.24573\n",
      "[34]\tvalidation_0-error:0.24557\n",
      "[35]\tvalidation_0-error:0.24553\n",
      "[36]\tvalidation_0-error:0.24554\n",
      "[37]\tvalidation_0-error:0.24534\n",
      "[38]\tvalidation_0-error:0.24514\n",
      "[39]\tvalidation_0-error:0.24512\n",
      "[40]\tvalidation_0-error:0.24505\n",
      "[41]\tvalidation_0-error:0.24465\n",
      "[42]\tvalidation_0-error:0.24455\n",
      "[43]\tvalidation_0-error:0.24424\n",
      "[44]\tvalidation_0-error:0.24400\n",
      "[45]\tvalidation_0-error:0.24399\n",
      "[46]\tvalidation_0-error:0.24370\n",
      "[47]\tvalidation_0-error:0.24358\n",
      "[48]\tvalidation_0-error:0.24357\n",
      "[49]\tvalidation_0-error:0.24333\n",
      "[50]\tvalidation_0-error:0.24300\n",
      "[51]\tvalidation_0-error:0.24265\n",
      "[52]\tvalidation_0-error:0.24277\n",
      "[53]\tvalidation_0-error:0.24277\n",
      "[54]\tvalidation_0-error:0.24257\n",
      "[55]\tvalidation_0-error:0.24251\n",
      "[56]\tvalidation_0-error:0.24250\n",
      "[57]\tvalidation_0-error:0.24241\n",
      "[58]\tvalidation_0-error:0.24238\n",
      "[59]\tvalidation_0-error:0.24237\n",
      "[60]\tvalidation_0-error:0.24230\n",
      "[61]\tvalidation_0-error:0.24224\n",
      "[62]\tvalidation_0-error:0.24218\n",
      "[63]\tvalidation_0-error:0.24211\n",
      "[64]\tvalidation_0-error:0.24199\n",
      "[65]\tvalidation_0-error:0.24196\n",
      "[66]\tvalidation_0-error:0.24204\n",
      "[67]\tvalidation_0-error:0.24202\n",
      "[68]\tvalidation_0-error:0.24192\n",
      "[69]\tvalidation_0-error:0.24184\n",
      "[70]\tvalidation_0-error:0.24170\n",
      "[71]\tvalidation_0-error:0.24165\n",
      "[72]\tvalidation_0-error:0.24151\n",
      "[73]\tvalidation_0-error:0.24156\n",
      "[74]\tvalidation_0-error:0.24133\n",
      "[75]\tvalidation_0-error:0.24129\n",
      "[76]\tvalidation_0-error:0.24130\n",
      "[77]\tvalidation_0-error:0.24133\n",
      "[78]\tvalidation_0-error:0.24127\n",
      "[79]\tvalidation_0-error:0.24124\n",
      "[80]\tvalidation_0-error:0.24128\n",
      "[81]\tvalidation_0-error:0.24118\n",
      "[82]\tvalidation_0-error:0.24111\n",
      "[83]\tvalidation_0-error:0.24125\n",
      "[84]\tvalidation_0-error:0.24125\n",
      "[85]\tvalidation_0-error:0.24129\n",
      "[86]\tvalidation_0-error:0.24118\n",
      "[87]\tvalidation_0-error:0.24127\n",
      "[88]\tvalidation_0-error:0.24125\n",
      "[89]\tvalidation_0-error:0.24126\n",
      "[90]\tvalidation_0-error:0.24122\n",
      "[91]\tvalidation_0-error:0.24121\n",
      "[92]\tvalidation_0-error:0.24118\n",
      "[93]\tvalidation_0-error:0.24124\n",
      "[94]\tvalidation_0-error:0.24124\n",
      "[95]\tvalidation_0-error:0.24124\n",
      "[96]\tvalidation_0-error:0.24122\n",
      "[97]\tvalidation_0-error:0.24121\n",
      "[98]\tvalidation_0-error:0.24103\n",
      "[99]\tvalidation_0-error:0.24099\n",
      "[100]\tvalidation_0-error:0.24100\n",
      "[101]\tvalidation_0-error:0.24100\n",
      "[102]\tvalidation_0-error:0.24098\n",
      "[103]\tvalidation_0-error:0.24085\n",
      "[104]\tvalidation_0-error:0.24075\n",
      "[105]\tvalidation_0-error:0.24081\n",
      "[106]\tvalidation_0-error:0.24077\n",
      "[107]\tvalidation_0-error:0.24079\n",
      "[108]\tvalidation_0-error:0.24084\n",
      "[109]\tvalidation_0-error:0.24086\n",
      "[110]\tvalidation_0-error:0.24086\n"
     ]
    },
    {
     "name": "stderr",
     "output_type": "stream",
     "text": [
      "C:\\Users\\ML_RTC\\anaconda3\\lib\\site-packages\\xgboost\\core.py:105: UserWarning: ntree_limit is deprecated, use `iteration_range` or model slicing instead.\n",
      "  warnings.warn(\n"
     ]
    },
    {
     "name": "stdout",
     "output_type": "stream",
     "text": [
      "The testing accuracy 75.9138\n"
     ]
    },
    {
     "name": "stderr",
     "output_type": "stream",
     "text": [
      "C:\\Users\\ML_RTC\\anaconda3\\lib\\site-packages\\xgboost\\core.py:105: UserWarning: ntree_limit is deprecated, use `iteration_range` or model slicing instead.\n",
      "  warnings.warn(\n"
     ]
    },
    {
     "name": "stdout",
     "output_type": "stream",
     "text": [
      "The training accuracy 86.57000000000001\n"
     ]
    },
    {
     "name": "stderr",
     "output_type": "stream",
     "text": [
      "C:\\Users\\ML_RTC\\anaconda3\\lib\\site-packages\\xgboost\\sklearn.py:1224: UserWarning: The use of label encoder in XGBClassifier is deprecated and will be removed in a future release. To remove this warning, do the following: 1) Pass option use_label_encoder=False when constructing XGBClassifier object; and 2) Encode your labels (y) as integers starting with 0, i.e. 0, 1, 2, ..., [num_class - 1].\n",
      "  warnings.warn(label_encoder_deprecation_msg, UserWarning)\n"
     ]
    },
    {
     "name": "stdout",
     "output_type": "stream",
     "text": [
      "[0]\tvalidation_0-error:0.28160\n",
      "[1]\tvalidation_0-error:0.27314\n",
      "[2]\tvalidation_0-error:0.26830\n",
      "[3]\tvalidation_0-error:0.26517\n",
      "[4]\tvalidation_0-error:0.26249\n",
      "[5]\tvalidation_0-error:0.26076\n",
      "[6]\tvalidation_0-error:0.25883\n",
      "[7]\tvalidation_0-error:0.25740\n",
      "[8]\tvalidation_0-error:0.25612\n",
      "[9]\tvalidation_0-error:0.25516\n",
      "[10]\tvalidation_0-error:0.25453\n",
      "[11]\tvalidation_0-error:0.25371\n",
      "[12]\tvalidation_0-error:0.25298\n",
      "[13]\tvalidation_0-error:0.25245\n",
      "[14]\tvalidation_0-error:0.25189\n",
      "[15]\tvalidation_0-error:0.25093\n",
      "[16]\tvalidation_0-error:0.25042\n",
      "[17]\tvalidation_0-error:0.24971\n",
      "[18]\tvalidation_0-error:0.24957\n",
      "[19]\tvalidation_0-error:0.24898\n",
      "[20]\tvalidation_0-error:0.24856\n",
      "[21]\tvalidation_0-error:0.24825\n",
      "[22]\tvalidation_0-error:0.24814\n",
      "[23]\tvalidation_0-error:0.24805\n",
      "[24]\tvalidation_0-error:0.24808\n",
      "[25]\tvalidation_0-error:0.24742\n",
      "[26]\tvalidation_0-error:0.24700\n",
      "[27]\tvalidation_0-error:0.24688\n",
      "[28]\tvalidation_0-error:0.24657\n",
      "[29]\tvalidation_0-error:0.24641\n",
      "[30]\tvalidation_0-error:0.24634\n",
      "[31]\tvalidation_0-error:0.24599\n",
      "[32]\tvalidation_0-error:0.24581\n",
      "[33]\tvalidation_0-error:0.24573\n",
      "[34]\tvalidation_0-error:0.24557\n",
      "[35]\tvalidation_0-error:0.24553\n",
      "[36]\tvalidation_0-error:0.24554\n",
      "[37]\tvalidation_0-error:0.24534\n",
      "[38]\tvalidation_0-error:0.24514\n",
      "[39]\tvalidation_0-error:0.24512\n",
      "[40]\tvalidation_0-error:0.24505\n",
      "[41]\tvalidation_0-error:0.24465\n",
      "[42]\tvalidation_0-error:0.24455\n",
      "[43]\tvalidation_0-error:0.24424\n",
      "[44]\tvalidation_0-error:0.24400\n",
      "[45]\tvalidation_0-error:0.24399\n",
      "[46]\tvalidation_0-error:0.24370\n",
      "[47]\tvalidation_0-error:0.24358\n",
      "[48]\tvalidation_0-error:0.24357\n",
      "[49]\tvalidation_0-error:0.24333\n",
      "[50]\tvalidation_0-error:0.24300\n",
      "[51]\tvalidation_0-error:0.24265\n",
      "[52]\tvalidation_0-error:0.24277\n",
      "[53]\tvalidation_0-error:0.24277\n",
      "[54]\tvalidation_0-error:0.24257\n",
      "[55]\tvalidation_0-error:0.24251\n",
      "[56]\tvalidation_0-error:0.24250\n",
      "[57]\tvalidation_0-error:0.24241\n",
      "[58]\tvalidation_0-error:0.24238\n",
      "[59]\tvalidation_0-error:0.24237\n",
      "[60]\tvalidation_0-error:0.24230\n",
      "[61]\tvalidation_0-error:0.24224\n",
      "[62]\tvalidation_0-error:0.24218\n",
      "[63]\tvalidation_0-error:0.24211\n",
      "[64]\tvalidation_0-error:0.24199\n",
      "[65]\tvalidation_0-error:0.24196\n",
      "[66]\tvalidation_0-error:0.24204\n",
      "[67]\tvalidation_0-error:0.24202\n",
      "[68]\tvalidation_0-error:0.24192\n",
      "[69]\tvalidation_0-error:0.24184\n",
      "[70]\tvalidation_0-error:0.24170\n",
      "[71]\tvalidation_0-error:0.24165\n",
      "[72]\tvalidation_0-error:0.24151\n",
      "[73]\tvalidation_0-error:0.24156\n",
      "[74]\tvalidation_0-error:0.24133\n",
      "[75]\tvalidation_0-error:0.24129\n",
      "[76]\tvalidation_0-error:0.24130\n",
      "[77]\tvalidation_0-error:0.24133\n",
      "[78]\tvalidation_0-error:0.24127\n",
      "[79]\tvalidation_0-error:0.24124\n",
      "[80]\tvalidation_0-error:0.24128\n",
      "[81]\tvalidation_0-error:0.24118\n",
      "[82]\tvalidation_0-error:0.24111\n",
      "[83]\tvalidation_0-error:0.24125\n",
      "[84]\tvalidation_0-error:0.24125\n",
      "[85]\tvalidation_0-error:0.24129\n",
      "[86]\tvalidation_0-error:0.24118\n",
      "[87]\tvalidation_0-error:0.24127\n",
      "[88]\tvalidation_0-error:0.24125\n",
      "[89]\tvalidation_0-error:0.24126\n",
      "[90]\tvalidation_0-error:0.24122\n",
      "[91]\tvalidation_0-error:0.24121\n",
      "[92]\tvalidation_0-error:0.24118\n",
      "[93]\tvalidation_0-error:0.24124\n",
      "[94]\tvalidation_0-error:0.24124\n",
      "[95]\tvalidation_0-error:0.24124\n",
      "[96]\tvalidation_0-error:0.24122\n",
      "[97]\tvalidation_0-error:0.24121\n",
      "[98]\tvalidation_0-error:0.24103\n",
      "[99]\tvalidation_0-error:0.24099\n",
      "[100]\tvalidation_0-error:0.24100\n",
      "[101]\tvalidation_0-error:0.24100\n",
      "[102]\tvalidation_0-error:0.24098\n",
      "[103]\tvalidation_0-error:0.24085\n",
      "[104]\tvalidation_0-error:0.24075\n",
      "[105]\tvalidation_0-error:0.24081\n",
      "[106]\tvalidation_0-error:0.24077\n",
      "[107]\tvalidation_0-error:0.24079\n",
      "[108]\tvalidation_0-error:0.24084\n",
      "[109]\tvalidation_0-error:0.24086\n",
      "[110]\tvalidation_0-error:0.24086\n",
      "[111]\tvalidation_0-error:0.24082\n",
      "[112]\tvalidation_0-error:0.24085\n",
      "[113]\tvalidation_0-error:0.24087\n",
      "[114]\tvalidation_0-error:0.24079\n",
      "[115]\tvalidation_0-error:0.24070\n",
      "[116]\tvalidation_0-error:0.24071\n",
      "[117]\tvalidation_0-error:0.24069\n",
      "[118]\tvalidation_0-error:0.24064\n",
      "[119]\tvalidation_0-error:0.24061\n",
      "[120]\tvalidation_0-error:0.24054\n"
     ]
    },
    {
     "name": "stderr",
     "output_type": "stream",
     "text": [
      "C:\\Users\\ML_RTC\\anaconda3\\lib\\site-packages\\xgboost\\core.py:105: UserWarning: ntree_limit is deprecated, use `iteration_range` or model slicing instead.\n",
      "  warnings.warn(\n"
     ]
    },
    {
     "name": "stdout",
     "output_type": "stream",
     "text": [
      "The testing accuracy 75.94619999999999\n"
     ]
    },
    {
     "name": "stderr",
     "output_type": "stream",
     "text": [
      "C:\\Users\\ML_RTC\\anaconda3\\lib\\site-packages\\xgboost\\core.py:105: UserWarning: ntree_limit is deprecated, use `iteration_range` or model slicing instead.\n",
      "  warnings.warn(\n"
     ]
    },
    {
     "ename": "KeyboardInterrupt",
     "evalue": "",
     "output_type": "error",
     "traceback": [
      "\u001b[1;31m---------------------------------------------------------------------------\u001b[0m",
      "\u001b[1;31mKeyboardInterrupt\u001b[0m                         Traceback (most recent call last)",
      "\u001b[1;32m<ipython-input-16-93c513cff19d>\u001b[0m in \u001b[0;36m<module>\u001b[1;34m\u001b[0m\n\u001b[0;32m     28\u001b[0m     \u001b[0mprint\u001b[0m\u001b[1;33m(\u001b[0m\u001b[1;34m\"The testing accuracy\"\u001b[0m\u001b[1;33m,\u001b[0m \u001b[0maccuracy_test\u001b[0m\u001b[1;33m*\u001b[0m\u001b[1;36m100\u001b[0m\u001b[1;33m)\u001b[0m\u001b[1;33m\u001b[0m\u001b[1;33m\u001b[0m\u001b[0m\n\u001b[0;32m     29\u001b[0m \u001b[1;33m\u001b[0m\u001b[0m\n\u001b[1;32m---> 30\u001b[1;33m     \u001b[0my_train_alpha_pred\u001b[0m\u001b[1;33m=\u001b[0m\u001b[0mmodel\u001b[0m\u001b[1;33m.\u001b[0m\u001b[0mpredict\u001b[0m\u001b[1;33m(\u001b[0m\u001b[0mx_train_alpha\u001b[0m\u001b[1;33m,\u001b[0m\u001b[0mntree_limit\u001b[0m\u001b[1;33m=\u001b[0m\u001b[0mmodel\u001b[0m\u001b[1;33m.\u001b[0m\u001b[0mbest_ntree_limit\u001b[0m\u001b[1;33m)\u001b[0m\u001b[1;33m\u001b[0m\u001b[1;33m\u001b[0m\u001b[0m\n\u001b[0m\u001b[0;32m     31\u001b[0m     \u001b[0maccuracy_train\u001b[0m \u001b[1;33m=\u001b[0m \u001b[0maccuracy_score\u001b[0m\u001b[1;33m(\u001b[0m\u001b[0my_train_alpha\u001b[0m\u001b[1;33m,\u001b[0m \u001b[0my_train_alpha_pred\u001b[0m\u001b[1;33m)\u001b[0m\u001b[1;33m\u001b[0m\u001b[1;33m\u001b[0m\u001b[0m\n\u001b[0;32m     32\u001b[0m     \u001b[0mprint\u001b[0m\u001b[1;33m(\u001b[0m\u001b[1;34m\"The training accuracy\"\u001b[0m\u001b[1;33m,\u001b[0m \u001b[0maccuracy_train\u001b[0m\u001b[1;33m*\u001b[0m\u001b[1;36m100\u001b[0m\u001b[1;33m)\u001b[0m\u001b[1;33m\u001b[0m\u001b[1;33m\u001b[0m\u001b[0m\n",
      "\u001b[1;32m~\\anaconda3\\lib\\site-packages\\xgboost\\sklearn.py\u001b[0m in \u001b[0;36mpredict\u001b[1;34m(self, X, output_margin, ntree_limit, validate_features, base_margin, iteration_range)\u001b[0m\n\u001b[0;32m   1282\u001b[0m         \u001b[0miteration_range\u001b[0m\u001b[1;33m:\u001b[0m \u001b[0mOptional\u001b[0m\u001b[1;33m[\u001b[0m\u001b[0mTuple\u001b[0m\u001b[1;33m[\u001b[0m\u001b[0mint\u001b[0m\u001b[1;33m,\u001b[0m \u001b[0mint\u001b[0m\u001b[1;33m]\u001b[0m\u001b[1;33m]\u001b[0m \u001b[1;33m=\u001b[0m \u001b[1;32mNone\u001b[0m\u001b[1;33m,\u001b[0m\u001b[1;33m\u001b[0m\u001b[1;33m\u001b[0m\u001b[0m\n\u001b[0;32m   1283\u001b[0m     ) -> np.ndarray:\n\u001b[1;32m-> 1284\u001b[1;33m         class_probs = super().predict(\n\u001b[0m\u001b[0;32m   1285\u001b[0m             \u001b[0mX\u001b[0m\u001b[1;33m=\u001b[0m\u001b[0mX\u001b[0m\u001b[1;33m,\u001b[0m\u001b[1;33m\u001b[0m\u001b[1;33m\u001b[0m\u001b[0m\n\u001b[0;32m   1286\u001b[0m             \u001b[0moutput_margin\u001b[0m\u001b[1;33m=\u001b[0m\u001b[0moutput_margin\u001b[0m\u001b[1;33m,\u001b[0m\u001b[1;33m\u001b[0m\u001b[1;33m\u001b[0m\u001b[0m\n",
      "\u001b[1;32m~\\anaconda3\\lib\\site-packages\\xgboost\\sklearn.py\u001b[0m in \u001b[0;36mpredict\u001b[1;34m(self, X, output_margin, ntree_limit, validate_features, base_margin, iteration_range)\u001b[0m\n\u001b[0;32m    879\u001b[0m         \u001b[1;32mif\u001b[0m \u001b[0mself\u001b[0m\u001b[1;33m.\u001b[0m\u001b[0m_can_use_inplace_predict\u001b[0m\u001b[1;33m(\u001b[0m\u001b[1;33m)\u001b[0m\u001b[1;33m:\u001b[0m\u001b[1;33m\u001b[0m\u001b[1;33m\u001b[0m\u001b[0m\n\u001b[0;32m    880\u001b[0m             \u001b[1;32mtry\u001b[0m\u001b[1;33m:\u001b[0m\u001b[1;33m\u001b[0m\u001b[1;33m\u001b[0m\u001b[0m\n\u001b[1;32m--> 881\u001b[1;33m                 predts = self.get_booster().inplace_predict(\n\u001b[0m\u001b[0;32m    882\u001b[0m                     \u001b[0mdata\u001b[0m\u001b[1;33m=\u001b[0m\u001b[0mX\u001b[0m\u001b[1;33m,\u001b[0m\u001b[1;33m\u001b[0m\u001b[1;33m\u001b[0m\u001b[0m\n\u001b[0;32m    883\u001b[0m                     \u001b[0miteration_range\u001b[0m\u001b[1;33m=\u001b[0m\u001b[0miteration_range\u001b[0m\u001b[1;33m,\u001b[0m\u001b[1;33m\u001b[0m\u001b[1;33m\u001b[0m\u001b[0m\n",
      "\u001b[1;32m~\\anaconda3\\lib\\site-packages\\xgboost\\core.py\u001b[0m in \u001b[0;36minplace_predict\u001b[1;34m(self, data, iteration_range, predict_type, missing, validate_features, base_margin, strict_shape)\u001b[0m\n\u001b[0;32m   2033\u001b[0m             \u001b[0mdata\u001b[0m\u001b[1;33m,\u001b[0m \u001b[0m_\u001b[0m \u001b[1;33m=\u001b[0m \u001b[0m_ensure_np_dtype\u001b[0m\u001b[1;33m(\u001b[0m\u001b[0mdata\u001b[0m\u001b[1;33m,\u001b[0m \u001b[0mdata\u001b[0m\u001b[1;33m.\u001b[0m\u001b[0mdtype\u001b[0m\u001b[1;33m)\u001b[0m\u001b[1;33m\u001b[0m\u001b[1;33m\u001b[0m\u001b[0m\n\u001b[0;32m   2034\u001b[0m             _check_call(\n\u001b[1;32m-> 2035\u001b[1;33m                 _LIB.XGBoosterPredictFromDense(\n\u001b[0m\u001b[0;32m   2036\u001b[0m                     \u001b[0mself\u001b[0m\u001b[1;33m.\u001b[0m\u001b[0mhandle\u001b[0m\u001b[1;33m,\u001b[0m\u001b[1;33m\u001b[0m\u001b[1;33m\u001b[0m\u001b[0m\n\u001b[0;32m   2037\u001b[0m                     \u001b[0m_array_interface\u001b[0m\u001b[1;33m(\u001b[0m\u001b[0mdata\u001b[0m\u001b[1;33m)\u001b[0m\u001b[1;33m,\u001b[0m\u001b[1;33m\u001b[0m\u001b[1;33m\u001b[0m\u001b[0m\n",
      "\u001b[1;31mKeyboardInterrupt\u001b[0m: "
     ]
    }
   ],
   "source": [
    "# changing n_estimators only\n",
    "# Inference 1: the more the value, the better the accuracy\n",
    "    # (need to plot it with matplotlib later for more details and will include in doc.)... \n",
    "    # takes equal time (around 3s for every step) and\n",
    "    # time taken increases linearly with every step numbers (n_estimators).\n",
    "# Inference 2: For every value of n_estimators, (i.e. for each iteration of the for loop)\n",
    "    # the value of accuracy at the \"n\"th step remains constant\n",
    "    # so had there been a way to save the progress it would have been helpful\n",
    "d = {}\n",
    "for i in range(50, 205, 10):\n",
    "    model = XGBClassifier(tree_method='gpu_hist',\n",
    "                      booster = 'gbtree',\n",
    "                      max_depth = 14,\n",
    "                      n_estimators = i+1,\n",
    "                      learning_rate = 0.4\n",
    "                     ) # booster = gbtree, dart\n",
    "\n",
    "    eval_set = [(x_test_alpha, y_test_alpha)]\n",
    "\n",
    "    a = model.fit(x_train_alpha,\n",
    "              y_train_alpha,\n",
    "              eval_metric=\"error\",\n",
    "              eval_set=eval_set,\n",
    "              verbose=True)\n",
    "    \n",
    "    y_test_alpha_pred = model.predict(x_test_alpha,ntree_limit=model.best_ntree_limit)\n",
    "    accuracy_test = accuracy_score(y_test_alpha, y_test_alpha_pred)\n",
    "    print(\"The testing accuracy\", accuracy_test*100)\n",
    "    \n",
    "    y_train_alpha_pred=model.predict(x_train_alpha,ntree_limit=model.best_ntree_limit)\n",
    "    accuracy_train = accuracy_score(y_train_alpha, y_train_alpha_pred)\n",
    "    print(\"The training accuracy\", accuracy_train*100)\n",
    "    \n",
    "    d[i] = {\"test\": accuracy_test, \"train\": accuracy_train}"
   ]
  },
  {
   "cell_type": "code",
   "execution_count": 17,
   "id": "01c9afd2",
   "metadata": {},
   "outputs": [
    {
     "name": "stdout",
     "output_type": "stream",
     "text": [
      "{50: {'test': 0.755787, 'train': 0.8180156},\n",
      " 60: {'test': 0.757704, 'train': 0.8299261},\n",
      " 70: {'test': 0.758303, 'train': 0.8371179},\n",
      " 80: {'test': 0.758716, 'train': 0.8445728},\n",
      " 90: {'test': 0.758777, 'train': 0.8515553},\n",
      " 100: {'test': 0.758995, 'train': 0.858091},\n",
      " 110: {'test': 0.759138, 'train': 0.8657}}\n"
     ]
    }
   ],
   "source": [
    "pprint(d)"
   ]
  },
  {
   "cell_type": "code",
   "execution_count": null,
   "id": "0582a283",
   "metadata": {},
   "outputs": [],
   "source": [
    "d2 = {}\n",
    "for i in range(15, 20):\n",
    "    print(f\"max depth = {i}\")\n",
    "    t0 = time()\n",
    "    model = XGBClassifier(tree_method='gpu_hist',\n",
    "                      booster = 'gbtree',\n",
    "                      max_depth = i,\n",
    "                      n_estimators = 50,\n",
    "                      learning_rate = 0.4\n",
    "                     ) # booster = gbtree, dart\n",
    "\n",
    "    eval_set = [(x_test_alpha, y_test_alpha)]\n",
    "\n",
    "    a = model.fit(x_train_alpha,\n",
    "              y_train_alpha,\n",
    "              eval_metric=\"error\",\n",
    "              eval_set=eval_set,\n",
    "              verbose=True)\n",
    "    \n",
    "    y_test_alpha_pred = model.predict(x_test_alpha,ntree_limit=model.best_ntree_limit)\n",
    "    accuracy_test = accuracy_score(y_test_alpha, y_test_alpha_pred)\n",
    "    print(\"The testing accuracy\", accuracy_test*100)\n",
    "    \n",
    "    y_train_alpha_pred=model.predict(x_train_alpha,ntree_limit=model.best_ntree_limit)\n",
    "    accuracy_train = accuracy_score(y_train_alpha, y_train_alpha_pred)\n",
    "    print(\"The training accuracy\", accuracy_train*100)\n",
    "    \n",
    "    taken = time()-t0\n",
    "    d2[i] = {\"test\": accuracy_test, \"train\": accuracy_train, \"taken\": taken}"
   ]
  },
  {
   "cell_type": "code",
   "execution_count": 13,
   "id": "95b6a4b5",
   "metadata": {},
   "outputs": [
    {
     "name": "stdout",
     "output_type": "stream",
     "text": [
      "{10: {'taken': 36.36368489265442, 'test': 0.751825, 'train': 0.7608359},\n",
      " 11: {'taken': 36.673232078552246, 'test': 0.753068, 'train': 0.7686388},\n",
      " 12: {'taken': 46.62508583068848, 'test': 0.754978, 'train': 0.7810104},\n",
      " 13: {'taken': 64.10936331748962, 'test': 0.756251, 'train': 0.7967713},\n",
      " 14: {'taken': 90.26022219657898, 'test': 0.756528, 'train': 0.8176108}}\n"
     ]
    }
   ],
   "source": [
    "pprint(d2)"
   ]
  },
  {
   "cell_type": "code",
   "execution_count": 12,
   "id": "f69a63f7",
   "metadata": {},
   "outputs": [],
   "source": [
    "ll = {}"
   ]
  },
  {
   "cell_type": "code",
   "execution_count": 35,
   "id": "3c850d60",
   "metadata": {},
   "outputs": [],
   "source": [
    "ll2 = {}"
   ]
  },
  {
   "cell_type": "code",
   "execution_count": 47,
   "id": "6df7a29a",
   "metadata": {},
   "outputs": [
    {
     "name": "stdout",
     "output_type": "stream",
     "text": [
      "learning rate = 0.8\n"
     ]
    },
    {
     "name": "stderr",
     "output_type": "stream",
     "text": [
      "C:\\Users\\ML_RTC\\anaconda3\\lib\\site-packages\\xgboost\\sklearn.py:1224: UserWarning: The use of label encoder in XGBClassifier is deprecated and will be removed in a future release. To remove this warning, do the following: 1) Pass option use_label_encoder=False when constructing XGBClassifier object; and 2) Encode your labels (y) as integers starting with 0, i.e. 0, 1, 2, ..., [num_class - 1].\n",
      "  warnings.warn(label_encoder_deprecation_msg, UserWarning)\n"
     ]
    },
    {
     "name": "stdout",
     "output_type": "stream",
     "text": [
      "[0]\tvalidation_0-error:0.33589\n",
      "[1]\tvalidation_0-error:0.31390\n",
      "[2]\tvalidation_0-error:0.30712\n",
      "[3]\tvalidation_0-error:0.29759\n",
      "[4]\tvalidation_0-error:0.29458\n",
      "[5]\tvalidation_0-error:0.29171\n",
      "[6]\tvalidation_0-error:0.28900\n",
      "[7]\tvalidation_0-error:0.28714\n",
      "[8]\tvalidation_0-error:0.28581\n",
      "[9]\tvalidation_0-error:0.28434\n",
      "The testing accuracy 71.5659\n"
     ]
    },
    {
     "name": "stderr",
     "output_type": "stream",
     "text": [
      "C:\\Users\\ML_RTC\\anaconda3\\lib\\site-packages\\xgboost\\core.py:105: UserWarning: ntree_limit is deprecated, use `iteration_range` or model slicing instead.\n",
      "  warnings.warn(\n"
     ]
    },
    {
     "name": "stdout",
     "output_type": "stream",
     "text": [
      "The training accuracy 71.53828\n",
      "7.126391410827637\n",
      "learning rate = 0.81\n"
     ]
    },
    {
     "name": "stderr",
     "output_type": "stream",
     "text": [
      "C:\\Users\\ML_RTC\\anaconda3\\lib\\site-packages\\xgboost\\sklearn.py:1224: UserWarning: The use of label encoder in XGBClassifier is deprecated and will be removed in a future release. To remove this warning, do the following: 1) Pass option use_label_encoder=False when constructing XGBClassifier object; and 2) Encode your labels (y) as integers starting with 0, i.e. 0, 1, 2, ..., [num_class - 1].\n",
      "  warnings.warn(label_encoder_deprecation_msg, UserWarning)\n"
     ]
    },
    {
     "name": "stdout",
     "output_type": "stream",
     "text": [
      "[0]\tvalidation_0-error:0.33589\n",
      "[1]\tvalidation_0-error:0.31449\n",
      "[2]\tvalidation_0-error:0.30796\n",
      "[3]\tvalidation_0-error:0.30078\n",
      "[4]\tvalidation_0-error:0.29482\n",
      "[5]\tvalidation_0-error:0.29163\n",
      "[6]\tvalidation_0-error:0.29044\n",
      "[7]\tvalidation_0-error:0.28854\n",
      "[8]\tvalidation_0-error:0.28741\n",
      "[9]\tvalidation_0-error:0.28598\n"
     ]
    },
    {
     "name": "stderr",
     "output_type": "stream",
     "text": [
      "C:\\Users\\ML_RTC\\anaconda3\\lib\\site-packages\\xgboost\\core.py:105: UserWarning: ntree_limit is deprecated, use `iteration_range` or model slicing instead.\n",
      "  warnings.warn(\n"
     ]
    },
    {
     "name": "stdout",
     "output_type": "stream",
     "text": [
      "The testing accuracy 71.4019\n"
     ]
    },
    {
     "name": "stderr",
     "output_type": "stream",
     "text": [
      "C:\\Users\\ML_RTC\\anaconda3\\lib\\site-packages\\xgboost\\core.py:105: UserWarning: ntree_limit is deprecated, use `iteration_range` or model slicing instead.\n",
      "  warnings.warn(\n"
     ]
    },
    {
     "name": "stdout",
     "output_type": "stream",
     "text": [
      "The training accuracy 71.43836\n",
      "7.015458822250366\n",
      "learning rate = 0.8200000000000001\n"
     ]
    },
    {
     "name": "stderr",
     "output_type": "stream",
     "text": [
      "C:\\Users\\ML_RTC\\anaconda3\\lib\\site-packages\\xgboost\\sklearn.py:1224: UserWarning: The use of label encoder in XGBClassifier is deprecated and will be removed in a future release. To remove this warning, do the following: 1) Pass option use_label_encoder=False when constructing XGBClassifier object; and 2) Encode your labels (y) as integers starting with 0, i.e. 0, 1, 2, ..., [num_class - 1].\n",
      "  warnings.warn(label_encoder_deprecation_msg, UserWarning)\n"
     ]
    },
    {
     "name": "stdout",
     "output_type": "stream",
     "text": [
      "[0]\tvalidation_0-error:0.33589\n",
      "[1]\tvalidation_0-error:0.31747\n",
      "[2]\tvalidation_0-error:0.30724\n",
      "[3]\tvalidation_0-error:0.30274\n",
      "[4]\tvalidation_0-error:0.29733\n",
      "[5]\tvalidation_0-error:0.29446\n",
      "[6]\tvalidation_0-error:0.29224\n",
      "[7]\tvalidation_0-error:0.29022\n",
      "[8]\tvalidation_0-error:0.28845\n",
      "[9]\tvalidation_0-error:0.28607\n"
     ]
    },
    {
     "name": "stderr",
     "output_type": "stream",
     "text": [
      "C:\\Users\\ML_RTC\\anaconda3\\lib\\site-packages\\xgboost\\core.py:105: UserWarning: ntree_limit is deprecated, use `iteration_range` or model slicing instead.\n",
      "  warnings.warn(\n"
     ]
    },
    {
     "name": "stdout",
     "output_type": "stream",
     "text": [
      "The testing accuracy 71.3934\n"
     ]
    },
    {
     "name": "stderr",
     "output_type": "stream",
     "text": [
      "C:\\Users\\ML_RTC\\anaconda3\\lib\\site-packages\\xgboost\\core.py:105: UserWarning: ntree_limit is deprecated, use `iteration_range` or model slicing instead.\n",
      "  warnings.warn(\n"
     ]
    },
    {
     "name": "stdout",
     "output_type": "stream",
     "text": [
      "The training accuracy 71.38923\n",
      "7.672198534011841\n",
      "learning rate = 0.8300000000000001\n"
     ]
    },
    {
     "name": "stderr",
     "output_type": "stream",
     "text": [
      "C:\\Users\\ML_RTC\\anaconda3\\lib\\site-packages\\xgboost\\sklearn.py:1224: UserWarning: The use of label encoder in XGBClassifier is deprecated and will be removed in a future release. To remove this warning, do the following: 1) Pass option use_label_encoder=False when constructing XGBClassifier object; and 2) Encode your labels (y) as integers starting with 0, i.e. 0, 1, 2, ..., [num_class - 1].\n",
      "  warnings.warn(label_encoder_deprecation_msg, UserWarning)\n"
     ]
    },
    {
     "name": "stdout",
     "output_type": "stream",
     "text": [
      "[0]\tvalidation_0-error:0.33589\n",
      "[1]\tvalidation_0-error:0.31745\n",
      "[2]\tvalidation_0-error:0.30625\n",
      "[3]\tvalidation_0-error:0.30152\n",
      "[4]\tvalidation_0-error:0.29757\n",
      "[5]\tvalidation_0-error:0.29440\n",
      "[6]\tvalidation_0-error:0.29097\n",
      "[7]\tvalidation_0-error:0.28861\n",
      "[8]\tvalidation_0-error:0.28732\n",
      "[9]\tvalidation_0-error:0.28625\n"
     ]
    },
    {
     "name": "stderr",
     "output_type": "stream",
     "text": [
      "C:\\Users\\ML_RTC\\anaconda3\\lib\\site-packages\\xgboost\\core.py:105: UserWarning: ntree_limit is deprecated, use `iteration_range` or model slicing instead.\n",
      "  warnings.warn(\n"
     ]
    },
    {
     "name": "stdout",
     "output_type": "stream",
     "text": [
      "The testing accuracy 71.3755\n"
     ]
    },
    {
     "name": "stderr",
     "output_type": "stream",
     "text": [
      "C:\\Users\\ML_RTC\\anaconda3\\lib\\site-packages\\xgboost\\core.py:105: UserWarning: ntree_limit is deprecated, use `iteration_range` or model slicing instead.\n",
      "  warnings.warn(\n"
     ]
    },
    {
     "name": "stdout",
     "output_type": "stream",
     "text": [
      "The training accuracy 71.42817000000001\n",
      "8.000215291976929\n",
      "learning rate = 0.8400000000000001\n"
     ]
    },
    {
     "name": "stderr",
     "output_type": "stream",
     "text": [
      "C:\\Users\\ML_RTC\\anaconda3\\lib\\site-packages\\xgboost\\sklearn.py:1224: UserWarning: The use of label encoder in XGBClassifier is deprecated and will be removed in a future release. To remove this warning, do the following: 1) Pass option use_label_encoder=False when constructing XGBClassifier object; and 2) Encode your labels (y) as integers starting with 0, i.e. 0, 1, 2, ..., [num_class - 1].\n",
      "  warnings.warn(label_encoder_deprecation_msg, UserWarning)\n"
     ]
    },
    {
     "name": "stdout",
     "output_type": "stream",
     "text": [
      "[0]\tvalidation_0-error:0.33589\n",
      "[1]\tvalidation_0-error:0.31745\n",
      "[2]\tvalidation_0-error:0.30591\n",
      "[3]\tvalidation_0-error:0.30147\n",
      "[4]\tvalidation_0-error:0.29761\n",
      "[5]\tvalidation_0-error:0.29438\n",
      "[6]\tvalidation_0-error:0.29070\n",
      "[7]\tvalidation_0-error:0.28947\n",
      "[8]\tvalidation_0-error:0.28767\n",
      "[9]\tvalidation_0-error:0.28695\n"
     ]
    },
    {
     "name": "stderr",
     "output_type": "stream",
     "text": [
      "C:\\Users\\ML_RTC\\anaconda3\\lib\\site-packages\\xgboost\\core.py:105: UserWarning: ntree_limit is deprecated, use `iteration_range` or model slicing instead.\n",
      "  warnings.warn(\n"
     ]
    },
    {
     "name": "stdout",
     "output_type": "stream",
     "text": [
      "The testing accuracy 71.3052\n"
     ]
    },
    {
     "name": "stderr",
     "output_type": "stream",
     "text": [
      "C:\\Users\\ML_RTC\\anaconda3\\lib\\site-packages\\xgboost\\core.py:105: UserWarning: ntree_limit is deprecated, use `iteration_range` or model slicing instead.\n",
      "  warnings.warn(\n"
     ]
    },
    {
     "name": "stdout",
     "output_type": "stream",
     "text": [
      "The training accuracy 71.32776\n",
      "8.109199047088623\n",
      "learning rate = 0.8500000000000001\n"
     ]
    },
    {
     "name": "stderr",
     "output_type": "stream",
     "text": [
      "C:\\Users\\ML_RTC\\anaconda3\\lib\\site-packages\\xgboost\\sklearn.py:1224: UserWarning: The use of label encoder in XGBClassifier is deprecated and will be removed in a future release. To remove this warning, do the following: 1) Pass option use_label_encoder=False when constructing XGBClassifier object; and 2) Encode your labels (y) as integers starting with 0, i.e. 0, 1, 2, ..., [num_class - 1].\n",
      "  warnings.warn(label_encoder_deprecation_msg, UserWarning)\n"
     ]
    },
    {
     "name": "stdout",
     "output_type": "stream",
     "text": [
      "[0]\tvalidation_0-error:0.33589\n",
      "[1]\tvalidation_0-error:0.31805\n",
      "[2]\tvalidation_0-error:0.30713\n",
      "[3]\tvalidation_0-error:0.30158\n",
      "[4]\tvalidation_0-error:0.29732\n",
      "[5]\tvalidation_0-error:0.29404\n",
      "[6]\tvalidation_0-error:0.29021\n",
      "[7]\tvalidation_0-error:0.28895\n",
      "[8]\tvalidation_0-error:0.28784\n",
      "[9]\tvalidation_0-error:0.28712\n"
     ]
    },
    {
     "name": "stderr",
     "output_type": "stream",
     "text": [
      "C:\\Users\\ML_RTC\\anaconda3\\lib\\site-packages\\xgboost\\core.py:105: UserWarning: ntree_limit is deprecated, use `iteration_range` or model slicing instead.\n",
      "  warnings.warn(\n"
     ]
    },
    {
     "name": "stdout",
     "output_type": "stream",
     "text": [
      "The testing accuracy 71.2883\n"
     ]
    },
    {
     "name": "stderr",
     "output_type": "stream",
     "text": [
      "C:\\Users\\ML_RTC\\anaconda3\\lib\\site-packages\\xgboost\\core.py:105: UserWarning: ntree_limit is deprecated, use `iteration_range` or model slicing instead.\n",
      "  warnings.warn(\n"
     ]
    },
    {
     "name": "stdout",
     "output_type": "stream",
     "text": [
      "The training accuracy 71.31979000000001\n",
      "7.593679904937744\n",
      "learning rate = 0.8600000000000001\n"
     ]
    },
    {
     "name": "stderr",
     "output_type": "stream",
     "text": [
      "C:\\Users\\ML_RTC\\anaconda3\\lib\\site-packages\\xgboost\\sklearn.py:1224: UserWarning: The use of label encoder in XGBClassifier is deprecated and will be removed in a future release. To remove this warning, do the following: 1) Pass option use_label_encoder=False when constructing XGBClassifier object; and 2) Encode your labels (y) as integers starting with 0, i.e. 0, 1, 2, ..., [num_class - 1].\n",
      "  warnings.warn(label_encoder_deprecation_msg, UserWarning)\n"
     ]
    },
    {
     "name": "stdout",
     "output_type": "stream",
     "text": [
      "[0]\tvalidation_0-error:0.33589\n",
      "[1]\tvalidation_0-error:0.31809\n",
      "[2]\tvalidation_0-error:0.30677\n",
      "[3]\tvalidation_0-error:0.29986\n",
      "[4]\tvalidation_0-error:0.29667\n",
      "[5]\tvalidation_0-error:0.29349\n",
      "[6]\tvalidation_0-error:0.29195\n",
      "[7]\tvalidation_0-error:0.29004\n",
      "[8]\tvalidation_0-error:0.28780\n",
      "[9]\tvalidation_0-error:0.28677\n"
     ]
    },
    {
     "name": "stderr",
     "output_type": "stream",
     "text": [
      "C:\\Users\\ML_RTC\\anaconda3\\lib\\site-packages\\xgboost\\core.py:105: UserWarning: ntree_limit is deprecated, use `iteration_range` or model slicing instead.\n",
      "  warnings.warn(\n"
     ]
    },
    {
     "name": "stdout",
     "output_type": "stream",
     "text": [
      "The testing accuracy 71.32270000000001\n"
     ]
    },
    {
     "name": "stderr",
     "output_type": "stream",
     "text": [
      "C:\\Users\\ML_RTC\\anaconda3\\lib\\site-packages\\xgboost\\core.py:105: UserWarning: ntree_limit is deprecated, use `iteration_range` or model slicing instead.\n",
      "  warnings.warn(\n"
     ]
    },
    {
     "name": "stdout",
     "output_type": "stream",
     "text": [
      "The training accuracy 71.35924\n",
      "7.062563419342041\n",
      "learning rate = 0.8700000000000001\n"
     ]
    },
    {
     "name": "stderr",
     "output_type": "stream",
     "text": [
      "C:\\Users\\ML_RTC\\anaconda3\\lib\\site-packages\\xgboost\\sklearn.py:1224: UserWarning: The use of label encoder in XGBClassifier is deprecated and will be removed in a future release. To remove this warning, do the following: 1) Pass option use_label_encoder=False when constructing XGBClassifier object; and 2) Encode your labels (y) as integers starting with 0, i.e. 0, 1, 2, ..., [num_class - 1].\n",
      "  warnings.warn(label_encoder_deprecation_msg, UserWarning)\n"
     ]
    },
    {
     "name": "stdout",
     "output_type": "stream",
     "text": [
      "[0]\tvalidation_0-error:0.33589\n",
      "[1]\tvalidation_0-error:0.31810\n",
      "[2]\tvalidation_0-error:0.30637\n",
      "[3]\tvalidation_0-error:0.30123\n",
      "[4]\tvalidation_0-error:0.29569\n",
      "[5]\tvalidation_0-error:0.29305\n",
      "[6]\tvalidation_0-error:0.29152\n",
      "[7]\tvalidation_0-error:0.28951\n",
      "[8]\tvalidation_0-error:0.28774\n",
      "[9]\tvalidation_0-error:0.28557\n"
     ]
    },
    {
     "name": "stderr",
     "output_type": "stream",
     "text": [
      "C:\\Users\\ML_RTC\\anaconda3\\lib\\site-packages\\xgboost\\core.py:105: UserWarning: ntree_limit is deprecated, use `iteration_range` or model slicing instead.\n",
      "  warnings.warn(\n"
     ]
    },
    {
     "name": "stdout",
     "output_type": "stream",
     "text": [
      "The testing accuracy 71.4429\n"
     ]
    },
    {
     "name": "stderr",
     "output_type": "stream",
     "text": [
      "C:\\Users\\ML_RTC\\anaconda3\\lib\\site-packages\\xgboost\\core.py:105: UserWarning: ntree_limit is deprecated, use `iteration_range` or model slicing instead.\n",
      "  warnings.warn(\n"
     ]
    },
    {
     "name": "stdout",
     "output_type": "stream",
     "text": [
      "The training accuracy 71.45026\n",
      "7.814123630523682\n",
      "learning rate = 0.8800000000000001\n"
     ]
    },
    {
     "name": "stderr",
     "output_type": "stream",
     "text": [
      "C:\\Users\\ML_RTC\\anaconda3\\lib\\site-packages\\xgboost\\sklearn.py:1224: UserWarning: The use of label encoder in XGBClassifier is deprecated and will be removed in a future release. To remove this warning, do the following: 1) Pass option use_label_encoder=False when constructing XGBClassifier object; and 2) Encode your labels (y) as integers starting with 0, i.e. 0, 1, 2, ..., [num_class - 1].\n",
      "  warnings.warn(label_encoder_deprecation_msg, UserWarning)\n"
     ]
    },
    {
     "name": "stdout",
     "output_type": "stream",
     "text": [
      "[0]\tvalidation_0-error:0.33589\n",
      "[1]\tvalidation_0-error:0.31696\n",
      "[2]\tvalidation_0-error:0.30694\n",
      "[3]\tvalidation_0-error:0.30044\n",
      "[4]\tvalidation_0-error:0.29711\n",
      "[5]\tvalidation_0-error:0.29307\n",
      "[6]\tvalidation_0-error:0.29093\n",
      "[7]\tvalidation_0-error:0.28903\n",
      "[8]\tvalidation_0-error:0.28650\n",
      "[9]\tvalidation_0-error:0.28507\n"
     ]
    },
    {
     "name": "stderr",
     "output_type": "stream",
     "text": [
      "C:\\Users\\ML_RTC\\anaconda3\\lib\\site-packages\\xgboost\\core.py:105: UserWarning: ntree_limit is deprecated, use `iteration_range` or model slicing instead.\n",
      "  warnings.warn(\n"
     ]
    },
    {
     "name": "stdout",
     "output_type": "stream",
     "text": [
      "The testing accuracy 71.4934\n"
     ]
    },
    {
     "name": "stderr",
     "output_type": "stream",
     "text": [
      "C:\\Users\\ML_RTC\\anaconda3\\lib\\site-packages\\xgboost\\core.py:105: UserWarning: ntree_limit is deprecated, use `iteration_range` or model slicing instead.\n",
      "  warnings.warn(\n"
     ]
    },
    {
     "name": "stdout",
     "output_type": "stream",
     "text": [
      "The training accuracy 71.52418\n",
      "7.796854019165039\n",
      "learning rate = 0.8900000000000001\n"
     ]
    },
    {
     "name": "stderr",
     "output_type": "stream",
     "text": [
      "C:\\Users\\ML_RTC\\anaconda3\\lib\\site-packages\\xgboost\\sklearn.py:1224: UserWarning: The use of label encoder in XGBClassifier is deprecated and will be removed in a future release. To remove this warning, do the following: 1) Pass option use_label_encoder=False when constructing XGBClassifier object; and 2) Encode your labels (y) as integers starting with 0, i.e. 0, 1, 2, ..., [num_class - 1].\n",
      "  warnings.warn(label_encoder_deprecation_msg, UserWarning)\n"
     ]
    },
    {
     "name": "stdout",
     "output_type": "stream",
     "text": [
      "[0]\tvalidation_0-error:0.33589\n",
      "[1]\tvalidation_0-error:0.31671\n",
      "[2]\tvalidation_0-error:0.30611\n",
      "[3]\tvalidation_0-error:0.30095\n",
      "[4]\tvalidation_0-error:0.29749\n",
      "[5]\tvalidation_0-error:0.29304\n",
      "[6]\tvalidation_0-error:0.29155\n",
      "[7]\tvalidation_0-error:0.28980\n",
      "[8]\tvalidation_0-error:0.28825\n",
      "[9]\tvalidation_0-error:0.28661\n"
     ]
    },
    {
     "name": "stderr",
     "output_type": "stream",
     "text": [
      "C:\\Users\\ML_RTC\\anaconda3\\lib\\site-packages\\xgboost\\core.py:105: UserWarning: ntree_limit is deprecated, use `iteration_range` or model slicing instead.\n",
      "  warnings.warn(\n"
     ]
    },
    {
     "name": "stdout",
     "output_type": "stream",
     "text": [
      "The testing accuracy 71.3387\n"
     ]
    },
    {
     "name": "stderr",
     "output_type": "stream",
     "text": [
      "C:\\Users\\ML_RTC\\anaconda3\\lib\\site-packages\\xgboost\\core.py:105: UserWarning: ntree_limit is deprecated, use `iteration_range` or model slicing instead.\n",
      "  warnings.warn(\n"
     ]
    },
    {
     "name": "stdout",
     "output_type": "stream",
     "text": [
      "The training accuracy 71.35275\n",
      "7.093327760696411\n",
      "learning rate = 0.9000000000000001\n"
     ]
    },
    {
     "name": "stderr",
     "output_type": "stream",
     "text": [
      "C:\\Users\\ML_RTC\\anaconda3\\lib\\site-packages\\xgboost\\sklearn.py:1224: UserWarning: The use of label encoder in XGBClassifier is deprecated and will be removed in a future release. To remove this warning, do the following: 1) Pass option use_label_encoder=False when constructing XGBClassifier object; and 2) Encode your labels (y) as integers starting with 0, i.e. 0, 1, 2, ..., [num_class - 1].\n",
      "  warnings.warn(label_encoder_deprecation_msg, UserWarning)\n"
     ]
    },
    {
     "name": "stdout",
     "output_type": "stream",
     "text": [
      "[0]\tvalidation_0-error:0.33589\n",
      "[1]\tvalidation_0-error:0.31644\n",
      "[2]\tvalidation_0-error:0.30640\n",
      "[3]\tvalidation_0-error:0.30172\n",
      "[4]\tvalidation_0-error:0.29694\n",
      "[5]\tvalidation_0-error:0.29296\n",
      "[6]\tvalidation_0-error:0.29045\n",
      "[7]\tvalidation_0-error:0.28951\n",
      "[8]\tvalidation_0-error:0.28694\n",
      "[9]\tvalidation_0-error:0.28433\n"
     ]
    },
    {
     "name": "stderr",
     "output_type": "stream",
     "text": [
      "C:\\Users\\ML_RTC\\anaconda3\\lib\\site-packages\\xgboost\\core.py:105: UserWarning: ntree_limit is deprecated, use `iteration_range` or model slicing instead.\n",
      "  warnings.warn(\n"
     ]
    },
    {
     "name": "stdout",
     "output_type": "stream",
     "text": [
      "The testing accuracy 71.56660000000001\n"
     ]
    },
    {
     "name": "stderr",
     "output_type": "stream",
     "text": [
      "C:\\Users\\ML_RTC\\anaconda3\\lib\\site-packages\\xgboost\\core.py:105: UserWarning: ntree_limit is deprecated, use `iteration_range` or model slicing instead.\n",
      "  warnings.warn(\n"
     ]
    },
    {
     "name": "stdout",
     "output_type": "stream",
     "text": [
      "The training accuracy 71.552\n",
      "8.281227111816406\n",
      "learning rate = 0.9100000000000001\n"
     ]
    },
    {
     "name": "stderr",
     "output_type": "stream",
     "text": [
      "C:\\Users\\ML_RTC\\anaconda3\\lib\\site-packages\\xgboost\\sklearn.py:1224: UserWarning: The use of label encoder in XGBClassifier is deprecated and will be removed in a future release. To remove this warning, do the following: 1) Pass option use_label_encoder=False when constructing XGBClassifier object; and 2) Encode your labels (y) as integers starting with 0, i.e. 0, 1, 2, ..., [num_class - 1].\n",
      "  warnings.warn(label_encoder_deprecation_msg, UserWarning)\n"
     ]
    },
    {
     "name": "stdout",
     "output_type": "stream",
     "text": [
      "[0]\tvalidation_0-error:0.33589\n",
      "[1]\tvalidation_0-error:0.31584\n",
      "[2]\tvalidation_0-error:0.30642\n",
      "[3]\tvalidation_0-error:0.30171\n",
      "[4]\tvalidation_0-error:0.29704\n",
      "[5]\tvalidation_0-error:0.29377\n",
      "[6]\tvalidation_0-error:0.29211\n",
      "[7]\tvalidation_0-error:0.29090\n",
      "[8]\tvalidation_0-error:0.29022\n",
      "[9]\tvalidation_0-error:0.28734\n"
     ]
    },
    {
     "name": "stderr",
     "output_type": "stream",
     "text": [
      "C:\\Users\\ML_RTC\\anaconda3\\lib\\site-packages\\xgboost\\core.py:105: UserWarning: ntree_limit is deprecated, use `iteration_range` or model slicing instead.\n",
      "  warnings.warn(\n"
     ]
    },
    {
     "name": "stdout",
     "output_type": "stream",
     "text": [
      "The testing accuracy 71.2658\n"
     ]
    },
    {
     "name": "stderr",
     "output_type": "stream",
     "text": [
      "C:\\Users\\ML_RTC\\anaconda3\\lib\\site-packages\\xgboost\\core.py:105: UserWarning: ntree_limit is deprecated, use `iteration_range` or model slicing instead.\n",
      "  warnings.warn(\n"
     ]
    },
    {
     "name": "stdout",
     "output_type": "stream",
     "text": [
      "The training accuracy 71.28972999999999\n",
      "6.906344413757324\n",
      "learning rate = 0.9200000000000002\n"
     ]
    },
    {
     "name": "stderr",
     "output_type": "stream",
     "text": [
      "C:\\Users\\ML_RTC\\anaconda3\\lib\\site-packages\\xgboost\\sklearn.py:1224: UserWarning: The use of label encoder in XGBClassifier is deprecated and will be removed in a future release. To remove this warning, do the following: 1) Pass option use_label_encoder=False when constructing XGBClassifier object; and 2) Encode your labels (y) as integers starting with 0, i.e. 0, 1, 2, ..., [num_class - 1].\n",
      "  warnings.warn(label_encoder_deprecation_msg, UserWarning)\n"
     ]
    },
    {
     "name": "stdout",
     "output_type": "stream",
     "text": [
      "[0]\tvalidation_0-error:0.33589\n",
      "[1]\tvalidation_0-error:0.31588\n",
      "[2]\tvalidation_0-error:0.30674\n",
      "[3]\tvalidation_0-error:0.30184\n",
      "[4]\tvalidation_0-error:0.29727\n",
      "[5]\tvalidation_0-error:0.29384\n",
      "[6]\tvalidation_0-error:0.29254\n",
      "[7]\tvalidation_0-error:0.29169\n",
      "[8]\tvalidation_0-error:0.28853\n",
      "[9]\tvalidation_0-error:0.28683\n"
     ]
    },
    {
     "name": "stderr",
     "output_type": "stream",
     "text": [
      "C:\\Users\\ML_RTC\\anaconda3\\lib\\site-packages\\xgboost\\core.py:105: UserWarning: ntree_limit is deprecated, use `iteration_range` or model slicing instead.\n",
      "  warnings.warn(\n"
     ]
    },
    {
     "name": "stdout",
     "output_type": "stream",
     "text": [
      "The testing accuracy 71.3171\n"
     ]
    },
    {
     "name": "stderr",
     "output_type": "stream",
     "text": [
      "C:\\Users\\ML_RTC\\anaconda3\\lib\\site-packages\\xgboost\\core.py:105: UserWarning: ntree_limit is deprecated, use `iteration_range` or model slicing instead.\n",
      "  warnings.warn(\n"
     ]
    },
    {
     "name": "stdout",
     "output_type": "stream",
     "text": [
      "The training accuracy 71.36462\n",
      "6.999918699264526\n",
      "learning rate = 0.9300000000000002\n"
     ]
    },
    {
     "name": "stderr",
     "output_type": "stream",
     "text": [
      "C:\\Users\\ML_RTC\\anaconda3\\lib\\site-packages\\xgboost\\sklearn.py:1224: UserWarning: The use of label encoder in XGBClassifier is deprecated and will be removed in a future release. To remove this warning, do the following: 1) Pass option use_label_encoder=False when constructing XGBClassifier object; and 2) Encode your labels (y) as integers starting with 0, i.e. 0, 1, 2, ..., [num_class - 1].\n",
      "  warnings.warn(label_encoder_deprecation_msg, UserWarning)\n"
     ]
    },
    {
     "name": "stdout",
     "output_type": "stream",
     "text": [
      "[0]\tvalidation_0-error:0.33589\n",
      "[1]\tvalidation_0-error:0.31584\n",
      "[2]\tvalidation_0-error:0.30670\n",
      "[3]\tvalidation_0-error:0.30183\n",
      "[4]\tvalidation_0-error:0.29736\n",
      "[5]\tvalidation_0-error:0.29397\n",
      "[6]\tvalidation_0-error:0.29273\n",
      "[7]\tvalidation_0-error:0.29190\n",
      "[8]\tvalidation_0-error:0.28862\n",
      "[9]\tvalidation_0-error:0.28703\n"
     ]
    },
    {
     "name": "stderr",
     "output_type": "stream",
     "text": [
      "C:\\Users\\ML_RTC\\anaconda3\\lib\\site-packages\\xgboost\\core.py:105: UserWarning: ntree_limit is deprecated, use `iteration_range` or model slicing instead.\n",
      "  warnings.warn(\n"
     ]
    },
    {
     "name": "stdout",
     "output_type": "stream",
     "text": [
      "The testing accuracy 71.2971\n"
     ]
    },
    {
     "name": "stderr",
     "output_type": "stream",
     "text": [
      "C:\\Users\\ML_RTC\\anaconda3\\lib\\site-packages\\xgboost\\core.py:105: UserWarning: ntree_limit is deprecated, use `iteration_range` or model slicing instead.\n",
      "  warnings.warn(\n"
     ]
    },
    {
     "name": "stdout",
     "output_type": "stream",
     "text": [
      "The training accuracy 71.37044\n",
      "7.046724081039429\n",
      "learning rate = 0.9400000000000002\n"
     ]
    },
    {
     "name": "stderr",
     "output_type": "stream",
     "text": [
      "C:\\Users\\ML_RTC\\anaconda3\\lib\\site-packages\\xgboost\\sklearn.py:1224: UserWarning: The use of label encoder in XGBClassifier is deprecated and will be removed in a future release. To remove this warning, do the following: 1) Pass option use_label_encoder=False when constructing XGBClassifier object; and 2) Encode your labels (y) as integers starting with 0, i.e. 0, 1, 2, ..., [num_class - 1].\n",
      "  warnings.warn(label_encoder_deprecation_msg, UserWarning)\n"
     ]
    },
    {
     "name": "stdout",
     "output_type": "stream",
     "text": [
      "[0]\tvalidation_0-error:0.33589\n",
      "[1]\tvalidation_0-error:0.31562\n",
      "[2]\tvalidation_0-error:0.30691\n",
      "[3]\tvalidation_0-error:0.30058\n",
      "[4]\tvalidation_0-error:0.29748\n",
      "[5]\tvalidation_0-error:0.29444\n",
      "[6]\tvalidation_0-error:0.29268\n",
      "[7]\tvalidation_0-error:0.28964\n",
      "[8]\tvalidation_0-error:0.28760\n",
      "[9]\tvalidation_0-error:0.28702\n"
     ]
    },
    {
     "name": "stderr",
     "output_type": "stream",
     "text": [
      "C:\\Users\\ML_RTC\\anaconda3\\lib\\site-packages\\xgboost\\core.py:105: UserWarning: ntree_limit is deprecated, use `iteration_range` or model slicing instead.\n",
      "  warnings.warn(\n"
     ]
    },
    {
     "name": "stdout",
     "output_type": "stream",
     "text": [
      "The testing accuracy 71.2978\n"
     ]
    },
    {
     "name": "stderr",
     "output_type": "stream",
     "text": [
      "C:\\Users\\ML_RTC\\anaconda3\\lib\\site-packages\\xgboost\\core.py:105: UserWarning: ntree_limit is deprecated, use `iteration_range` or model slicing instead.\n",
      "  warnings.warn(\n"
     ]
    },
    {
     "name": "stdout",
     "output_type": "stream",
     "text": [
      "The training accuracy 71.33382\n",
      "7.828173875808716\n"
     ]
    }
   ],
   "source": [
    "i=0.\n",
    "for i in np.arange(0.8, 0.95, 0.01):\n",
    "    print(f\"learning rate = {i}\")\n",
    "    model = XGBClassifier(tree_method='gpu_hist',\n",
    "                          booster = 'gbtree',\n",
    "                          max_depth = 5, # 19\n",
    "                          n_estimators = 10, # 50\n",
    "                          learning_rate = i\n",
    "                         ) # booster = gbtree, dart\n",
    "\n",
    "    eval_set = [(x_test_alpha, y_test_alpha)]\n",
    "\n",
    "    t0 = time()\n",
    "    a = model.fit(x_train_alpha,\n",
    "              y_train_alpha,\n",
    "              eval_metric=\"error\",\n",
    "              eval_set=eval_set,\n",
    "              verbose=True)\n",
    "    taken = time()-t0\n",
    "\n",
    "    y_test_alpha_pred = model.predict(x_test_alpha,ntree_limit=model.best_ntree_limit)\n",
    "    accuracy_test = accuracy_score(y_test_alpha, y_test_alpha_pred)\n",
    "    print(\"The testing accuracy\", accuracy_test*100)\n",
    "\n",
    "    y_train_alpha_pred=model.predict(x_train_alpha,ntree_limit=model.best_ntree_limit)\n",
    "    accuracy_train = accuracy_score(y_train_alpha, y_train_alpha_pred)\n",
    "    print(\"The training accuracy\", accuracy_train*100)\n",
    "\n",
    "\n",
    "    print(taken)\n",
    "    ll2[i] = {\"test\": accuracy_test, \"train\": accuracy_train, \"taken\": taken}"
   ]
  },
  {
   "cell_type": "code",
   "execution_count": 48,
   "id": "dfeb76a2",
   "metadata": {},
   "outputs": [
    {
     "name": "stdout",
     "output_type": "stream",
     "text": [
      "{0.7: {'taken': 7.217034101486206, 'test': 0.714913, 'train': 0.7149148},\n",
      " 0.8: {'taken': 7.126391410827637, 'test': 0.715659, 'train': 0.7153828},\n",
      " 0.81: {'taken': 7.015458822250366, 'test': 0.714019, 'train': 0.7143836},\n",
      " 0.8200000000000001: {'taken': 7.672198534011841,\n",
      "                      'test': 0.713934,\n",
      "                      'train': 0.7138923},\n",
      " 0.8300000000000001: {'taken': 8.000215291976929,\n",
      "                      'test': 0.713755,\n",
      "                      'train': 0.7142817},\n",
      " 0.8400000000000001: {'taken': 8.109199047088623,\n",
      "                      'test': 0.713052,\n",
      "                      'train': 0.7132776},\n",
      " 0.8500000000000001: {'taken': 7.593679904937744,\n",
      "                      'test': 0.712883,\n",
      "                      'train': 0.7131979},\n",
      " 0.8600000000000001: {'taken': 7.062563419342041,\n",
      "                      'test': 0.713227,\n",
      "                      'train': 0.7135924},\n",
      " 0.8700000000000001: {'taken': 7.814123630523682,\n",
      "                      'test': 0.714429,\n",
      "                      'train': 0.7145026},\n",
      " 0.8800000000000001: {'taken': 7.796854019165039,\n",
      "                      'test': 0.714934,\n",
      "                      'train': 0.7152418},\n",
      " 0.8900000000000001: {'taken': 7.093327760696411,\n",
      "                      'test': 0.713387,\n",
      "                      'train': 0.7135275},\n",
      " 0.9: {'taken': 7.915523529052734, 'test': 0.715666, 'train': 0.71552},\n",
      " 0.9000000000000001: {'taken': 8.281227111816406,\n",
      "                      'test': 0.715666,\n",
      "                      'train': 0.71552},\n",
      " 0.9100000000000001: {'taken': 6.906344413757324,\n",
      "                      'test': 0.712658,\n",
      "                      'train': 0.7128973},\n",
      " 0.9200000000000002: {'taken': 6.999918699264526,\n",
      "                      'test': 0.713171,\n",
      "                      'train': 0.7136462},\n",
      " 0.9300000000000002: {'taken': 7.046724081039429,\n",
      "                      'test': 0.712971,\n",
      "                      'train': 0.7137044},\n",
      " 0.9400000000000002: {'taken': 7.828173875808716,\n",
      "                      'test': 0.712978,\n",
      "                      'train': 0.7133382},\n",
      " 0.95: {'taken': 7.809328556060791, 'test': 0.713066, 'train': 0.7129311}}\n"
     ]
    }
   ],
   "source": [
    "pprint(ll2)"
   ]
  },
  {
   "cell_type": "code",
   "execution_count": 37,
   "id": "2a47d7ed",
   "metadata": {},
   "outputs": [
    {
     "name": "stdout",
     "output_type": "stream",
     "text": [
      "{0.01: {'taken': 7.312809228897095, 'test': 0.667626, 'train': 0.6679434},\n",
      " 0.02: {'taken': 7.182486534118652, 'test': 0.670771, 'train': 0.6709408},\n",
      " 0.05: {'taken': 7.081484317779541, 'test': 0.678753, 'train': 0.6787962},\n",
      " 0.1: {'taken': 7.2065393924713135, 'test': 0.688295, 'train': 0.6883355},\n",
      " 0.2: {'taken': 7.124792814254761, 'test': 0.703557, 'train': 0.7035396},\n",
      " 0.5: {'taken': 7.069786548614502, 'test': 0.713414, 'train': 0.7128506},\n",
      " 0.9: {'taken': 7.903645277023315, 'test': 0.715666, 'train': 0.71552},\n",
      " 1.1: {'taken': 7.100404262542725, 'test': 0.711696, 'train': 0.7118216},\n",
      " 1.5: {'taken': 7.040217161178589, 'test': 0.704638, 'train': 0.7049334}}\n"
     ]
    }
   ],
   "source": [
    "pprint(ll)"
   ]
  },
  {
   "cell_type": "code",
   "execution_count": 18,
   "id": "ec82b4a7",
   "metadata": {
    "scrolled": false
   },
   "outputs": [
    {
     "name": "stderr",
     "output_type": "stream",
     "text": [
      "C:\\Users\\ML_RTC\\anaconda3\\lib\\site-packages\\xgboost\\sklearn.py:1224: UserWarning: The use of label encoder in XGBClassifier is deprecated and will be removed in a future release. To remove this warning, do the following: 1) Pass option use_label_encoder=False when constructing XGBClassifier object; and 2) Encode your labels (y) as integers starting with 0, i.e. 0, 1, 2, ..., [num_class - 1].\n",
      "  warnings.warn(label_encoder_deprecation_msg, UserWarning)\n"
     ]
    },
    {
     "name": "stdout",
     "output_type": "stream",
     "text": [
      "[0]\tvalidation_0-error:0.28160\n",
      "[1]\tvalidation_0-error:0.27314\n",
      "[2]\tvalidation_0-error:0.26830\n",
      "[3]\tvalidation_0-error:0.26517\n",
      "[4]\tvalidation_0-error:0.26249\n",
      "[5]\tvalidation_0-error:0.26076\n",
      "[6]\tvalidation_0-error:0.25883\n",
      "[7]\tvalidation_0-error:0.25740\n",
      "[8]\tvalidation_0-error:0.25612\n",
      "[9]\tvalidation_0-error:0.25516\n",
      "[10]\tvalidation_0-error:0.25453\n",
      "[11]\tvalidation_0-error:0.25371\n",
      "[12]\tvalidation_0-error:0.25298\n",
      "[13]\tvalidation_0-error:0.25245\n",
      "[14]\tvalidation_0-error:0.25189\n",
      "[15]\tvalidation_0-error:0.25093\n",
      "[16]\tvalidation_0-error:0.25042\n",
      "[17]\tvalidation_0-error:0.24971\n",
      "[18]\tvalidation_0-error:0.24957\n",
      "[19]\tvalidation_0-error:0.24898\n",
      "[20]\tvalidation_0-error:0.24856\n",
      "[21]\tvalidation_0-error:0.24825\n",
      "[22]\tvalidation_0-error:0.24814\n",
      "[23]\tvalidation_0-error:0.24805\n",
      "[24]\tvalidation_0-error:0.24808\n",
      "[25]\tvalidation_0-error:0.24742\n",
      "[26]\tvalidation_0-error:0.24700\n",
      "[27]\tvalidation_0-error:0.24688\n",
      "[28]\tvalidation_0-error:0.24657\n",
      "[29]\tvalidation_0-error:0.24641\n",
      "[30]\tvalidation_0-error:0.24634\n",
      "[31]\tvalidation_0-error:0.24599\n",
      "[32]\tvalidation_0-error:0.24581\n",
      "[33]\tvalidation_0-error:0.24573\n",
      "[34]\tvalidation_0-error:0.24557\n",
      "[35]\tvalidation_0-error:0.24553\n",
      "[36]\tvalidation_0-error:0.24554\n",
      "[37]\tvalidation_0-error:0.24534\n",
      "[38]\tvalidation_0-error:0.24514\n",
      "[39]\tvalidation_0-error:0.24512\n",
      "[40]\tvalidation_0-error:0.24505\n",
      "[41]\tvalidation_0-error:0.24465\n",
      "[42]\tvalidation_0-error:0.24455\n",
      "[43]\tvalidation_0-error:0.24424\n",
      "[44]\tvalidation_0-error:0.24400\n",
      "[45]\tvalidation_0-error:0.24399\n",
      "[46]\tvalidation_0-error:0.24370\n",
      "[47]\tvalidation_0-error:0.24358\n",
      "[48]\tvalidation_0-error:0.24357\n",
      "[49]\tvalidation_0-error:0.24333\n",
      "[50]\tvalidation_0-error:0.24300\n",
      "[51]\tvalidation_0-error:0.24265\n",
      "[52]\tvalidation_0-error:0.24277\n",
      "[53]\tvalidation_0-error:0.24277\n",
      "[54]\tvalidation_0-error:0.24257\n",
      "[55]\tvalidation_0-error:0.24251\n",
      "[56]\tvalidation_0-error:0.24250\n",
      "[57]\tvalidation_0-error:0.24241\n",
      "[58]\tvalidation_0-error:0.24238\n",
      "[59]\tvalidation_0-error:0.24237\n",
      "[60]\tvalidation_0-error:0.24230\n",
      "[61]\tvalidation_0-error:0.24224\n",
      "[62]\tvalidation_0-error:0.24218\n",
      "[63]\tvalidation_0-error:0.24211\n",
      "[64]\tvalidation_0-error:0.24199\n",
      "[65]\tvalidation_0-error:0.24196\n",
      "[66]\tvalidation_0-error:0.24204\n",
      "[67]\tvalidation_0-error:0.24202\n",
      "[68]\tvalidation_0-error:0.24192\n",
      "[69]\tvalidation_0-error:0.24184\n",
      "[70]\tvalidation_0-error:0.24170\n",
      "[71]\tvalidation_0-error:0.24165\n",
      "[72]\tvalidation_0-error:0.24151\n",
      "[73]\tvalidation_0-error:0.24156\n",
      "[74]\tvalidation_0-error:0.24133\n",
      "[75]\tvalidation_0-error:0.24129\n",
      "[76]\tvalidation_0-error:0.24130\n",
      "[77]\tvalidation_0-error:0.24133\n",
      "[78]\tvalidation_0-error:0.24127\n",
      "[79]\tvalidation_0-error:0.24124\n",
      "[80]\tvalidation_0-error:0.24128\n",
      "[81]\tvalidation_0-error:0.24118\n",
      "[82]\tvalidation_0-error:0.24111\n",
      "[83]\tvalidation_0-error:0.24125\n",
      "[84]\tvalidation_0-error:0.24125\n",
      "[85]\tvalidation_0-error:0.24129\n",
      "[86]\tvalidation_0-error:0.24118\n",
      "[87]\tvalidation_0-error:0.24127\n",
      "[88]\tvalidation_0-error:0.24125\n",
      "[89]\tvalidation_0-error:0.24126\n",
      "[90]\tvalidation_0-error:0.24122\n",
      "[91]\tvalidation_0-error:0.24121\n",
      "[92]\tvalidation_0-error:0.24118\n",
      "[93]\tvalidation_0-error:0.24124\n",
      "[94]\tvalidation_0-error:0.24124\n",
      "[95]\tvalidation_0-error:0.24124\n",
      "[96]\tvalidation_0-error:0.24122\n",
      "[97]\tvalidation_0-error:0.24121\n",
      "[98]\tvalidation_0-error:0.24103\n",
      "[99]\tvalidation_0-error:0.24099\n",
      "[100]\tvalidation_0-error:0.24100\n",
      "[101]\tvalidation_0-error:0.24100\n",
      "[102]\tvalidation_0-error:0.24098\n",
      "[103]\tvalidation_0-error:0.24085\n",
      "[104]\tvalidation_0-error:0.24075\n",
      "[105]\tvalidation_0-error:0.24081\n",
      "[106]\tvalidation_0-error:0.24077\n",
      "[107]\tvalidation_0-error:0.24079\n",
      "[108]\tvalidation_0-error:0.24084\n",
      "[109]\tvalidation_0-error:0.24086\n",
      "[110]\tvalidation_0-error:0.24086\n",
      "[111]\tvalidation_0-error:0.24082\n",
      "[112]\tvalidation_0-error:0.24085\n",
      "[113]\tvalidation_0-error:0.24087\n",
      "[114]\tvalidation_0-error:0.24079\n",
      "[115]\tvalidation_0-error:0.24070\n",
      "[116]\tvalidation_0-error:0.24071\n",
      "[117]\tvalidation_0-error:0.24069\n",
      "[118]\tvalidation_0-error:0.24064\n",
      "[119]\tvalidation_0-error:0.24061\n",
      "[120]\tvalidation_0-error:0.24054\n",
      "[121]\tvalidation_0-error:0.24055\n",
      "[122]\tvalidation_0-error:0.24053\n",
      "[123]\tvalidation_0-error:0.24058\n",
      "[124]\tvalidation_0-error:0.24042\n",
      "[125]\tvalidation_0-error:0.24061\n",
      "[126]\tvalidation_0-error:0.24060\n",
      "[127]\tvalidation_0-error:0.24053\n",
      "[128]\tvalidation_0-error:0.24062\n",
      "[129]\tvalidation_0-error:0.24062\n",
      "[130]\tvalidation_0-error:0.24061\n",
      "[131]\tvalidation_0-error:0.24054\n",
      "[132]\tvalidation_0-error:0.24058\n",
      "[133]\tvalidation_0-error:0.24054\n",
      "[134]\tvalidation_0-error:0.24045\n",
      "[135]\tvalidation_0-error:0.24032\n",
      "[136]\tvalidation_0-error:0.24025\n",
      "[137]\tvalidation_0-error:0.24013\n",
      "[138]\tvalidation_0-error:0.24019\n",
      "[139]\tvalidation_0-error:0.24018\n",
      "[140]\tvalidation_0-error:0.24022\n",
      "[141]\tvalidation_0-error:0.24026\n",
      "[142]\tvalidation_0-error:0.24030\n",
      "[143]\tvalidation_0-error:0.24030\n",
      "[144]\tvalidation_0-error:0.24025\n",
      "[145]\tvalidation_0-error:0.24031\n",
      "[146]\tvalidation_0-error:0.24023\n",
      "[147]\tvalidation_0-error:0.24026\n",
      "[148]\tvalidation_0-error:0.24029\n",
      "[149]\tvalidation_0-error:0.24024\n",
      "[150]\tvalidation_0-error:0.24032\n",
      "[151]\tvalidation_0-error:0.24028\n",
      "[152]\tvalidation_0-error:0.24024\n",
      "[153]\tvalidation_0-error:0.24017\n",
      "[154]\tvalidation_0-error:0.24020\n",
      "[155]\tvalidation_0-error:0.24023\n",
      "[156]\tvalidation_0-error:0.24022\n",
      "[157]\tvalidation_0-error:0.24016\n",
      "[158]\tvalidation_0-error:0.24010\n",
      "[159]\tvalidation_0-error:0.24008\n",
      "[160]\tvalidation_0-error:0.24018\n",
      "[161]\tvalidation_0-error:0.24014\n",
      "[162]\tvalidation_0-error:0.24009\n",
      "[163]\tvalidation_0-error:0.24007\n",
      "[164]\tvalidation_0-error:0.24000\n",
      "[165]\tvalidation_0-error:0.24000\n",
      "[166]\tvalidation_0-error:0.24000\n",
      "[167]\tvalidation_0-error:0.24003\n",
      "[168]\tvalidation_0-error:0.24006\n",
      "[169]\tvalidation_0-error:0.23989\n",
      "[170]\tvalidation_0-error:0.23992\n",
      "[171]\tvalidation_0-error:0.23974\n",
      "[172]\tvalidation_0-error:0.23970\n",
      "[173]\tvalidation_0-error:0.23968\n",
      "[174]\tvalidation_0-error:0.23971\n",
      "[175]\tvalidation_0-error:0.23986\n",
      "[176]\tvalidation_0-error:0.23973\n",
      "[177]\tvalidation_0-error:0.23973\n",
      "[178]\tvalidation_0-error:0.23986\n",
      "[179]\tvalidation_0-error:0.23986\n",
      "[180]\tvalidation_0-error:0.23983\n",
      "[181]\tvalidation_0-error:0.23988\n",
      "[182]\tvalidation_0-error:0.23984\n",
      "[183]\tvalidation_0-error:0.23974\n",
      "[184]\tvalidation_0-error:0.23968\n",
      "[185]\tvalidation_0-error:0.23974\n",
      "[186]\tvalidation_0-error:0.23972\n",
      "[187]\tvalidation_0-error:0.23972\n",
      "[188]\tvalidation_0-error:0.23970\n",
      "[189]\tvalidation_0-error:0.23966\n",
      "[190]\tvalidation_0-error:0.23967\n",
      "[191]\tvalidation_0-error:0.23972\n",
      "[192]\tvalidation_0-error:0.23969\n",
      "[193]\tvalidation_0-error:0.23959\n",
      "[194]\tvalidation_0-error:0.23960\n",
      "[195]\tvalidation_0-error:0.23952\n",
      "[196]\tvalidation_0-error:0.23959\n",
      "[197]\tvalidation_0-error:0.23969\n",
      "[198]\tvalidation_0-error:0.23967\n",
      "[199]\tvalidation_0-error:0.23964\n",
      "[200]\tvalidation_0-error:0.23962\n",
      "[201]\tvalidation_0-error:0.23957\n",
      "[202]\tvalidation_0-error:0.23953\n",
      "[203]\tvalidation_0-error:0.23956\n",
      "[204]\tvalidation_0-error:0.23953\n",
      "[205]\tvalidation_0-error:0.23946\n",
      "[206]\tvalidation_0-error:0.23943\n",
      "[207]\tvalidation_0-error:0.23942\n",
      "[208]\tvalidation_0-error:0.23940\n",
      "[209]\tvalidation_0-error:0.23952\n",
      "[210]\tvalidation_0-error:0.23956\n",
      "[211]\tvalidation_0-error:0.23947\n",
      "[212]\tvalidation_0-error:0.23950\n",
      "[213]\tvalidation_0-error:0.23947\n",
      "[214]\tvalidation_0-error:0.23955\n",
      "[215]\tvalidation_0-error:0.23951\n",
      "[216]\tvalidation_0-error:0.23946\n",
      "[217]\tvalidation_0-error:0.23944\n",
      "[218]\tvalidation_0-error:0.23943\n",
      "[219]\tvalidation_0-error:0.23952\n",
      "[220]\tvalidation_0-error:0.23956\n",
      "[221]\tvalidation_0-error:0.23964\n",
      "[222]\tvalidation_0-error:0.23966\n",
      "[223]\tvalidation_0-error:0.23961\n",
      "[224]\tvalidation_0-error:0.23956\n",
      "[225]\tvalidation_0-error:0.23958\n",
      "[226]\tvalidation_0-error:0.23956\n",
      "[227]\tvalidation_0-error:0.23957\n",
      "[228]\tvalidation_0-error:0.23956\n",
      "[229]\tvalidation_0-error:0.23961\n",
      "[230]\tvalidation_0-error:0.23947\n",
      "[231]\tvalidation_0-error:0.23952\n",
      "[232]\tvalidation_0-error:0.23961\n",
      "[233]\tvalidation_0-error:0.23958\n",
      "[234]\tvalidation_0-error:0.23958\n",
      "[235]\tvalidation_0-error:0.23969\n",
      "[236]\tvalidation_0-error:0.23978\n",
      "[237]\tvalidation_0-error:0.23975\n",
      "[238]\tvalidation_0-error:0.23985\n",
      "[239]\tvalidation_0-error:0.23992\n",
      "[240]\tvalidation_0-error:0.23982\n",
      "[241]\tvalidation_0-error:0.23978\n",
      "[242]\tvalidation_0-error:0.23997\n",
      "[243]\tvalidation_0-error:0.23983\n",
      "[244]\tvalidation_0-error:0.23975\n",
      "[245]\tvalidation_0-error:0.23973\n",
      "[246]\tvalidation_0-error:0.23974\n",
      "[247]\tvalidation_0-error:0.23970\n",
      "[248]\tvalidation_0-error:0.23967\n",
      "[249]\tvalidation_0-error:0.23970\n",
      "[250]\tvalidation_0-error:0.23971\n",
      "[251]\tvalidation_0-error:0.23974\n"
     ]
    },
    {
     "name": "stdout",
     "output_type": "stream",
     "text": [
      "[252]\tvalidation_0-error:0.23968\n",
      "[253]\tvalidation_0-error:0.23971\n",
      "[254]\tvalidation_0-error:0.23974\n",
      "[255]\tvalidation_0-error:0.23965\n",
      "[256]\tvalidation_0-error:0.23963\n",
      "[257]\tvalidation_0-error:0.23958\n",
      "[258]\tvalidation_0-error:0.23954\n",
      "[259]\tvalidation_0-error:0.23960\n",
      "[260]\tvalidation_0-error:0.23951\n",
      "[261]\tvalidation_0-error:0.23945\n",
      "[262]\tvalidation_0-error:0.23944\n",
      "[263]\tvalidation_0-error:0.23942\n",
      "[264]\tvalidation_0-error:0.23950\n",
      "[265]\tvalidation_0-error:0.23945\n",
      "[266]\tvalidation_0-error:0.23953\n",
      "[267]\tvalidation_0-error:0.23946\n",
      "[268]\tvalidation_0-error:0.23945\n",
      "[269]\tvalidation_0-error:0.23947\n",
      "[270]\tvalidation_0-error:0.23944\n",
      "[271]\tvalidation_0-error:0.23944\n",
      "[272]\tvalidation_0-error:0.23942\n",
      "[273]\tvalidation_0-error:0.23934\n",
      "[274]\tvalidation_0-error:0.23941\n",
      "[275]\tvalidation_0-error:0.23936\n",
      "[276]\tvalidation_0-error:0.23940\n",
      "[277]\tvalidation_0-error:0.23949\n",
      "[278]\tvalidation_0-error:0.23939\n",
      "[279]\tvalidation_0-error:0.23946\n",
      "[280]\tvalidation_0-error:0.23937\n",
      "[281]\tvalidation_0-error:0.23940\n",
      "[282]\tvalidation_0-error:0.23941\n",
      "[283]\tvalidation_0-error:0.23944\n",
      "[284]\tvalidation_0-error:0.23942\n",
      "[285]\tvalidation_0-error:0.23943\n",
      "[286]\tvalidation_0-error:0.23944\n",
      "[287]\tvalidation_0-error:0.23951\n",
      "[288]\tvalidation_0-error:0.23940\n",
      "[289]\tvalidation_0-error:0.23947\n",
      "[290]\tvalidation_0-error:0.23942\n",
      "[291]\tvalidation_0-error:0.23937\n",
      "[292]\tvalidation_0-error:0.23939\n",
      "[293]\tvalidation_0-error:0.23931\n",
      "[294]\tvalidation_0-error:0.23933\n",
      "[295]\tvalidation_0-error:0.23917\n",
      "[296]\tvalidation_0-error:0.23920\n",
      "[297]\tvalidation_0-error:0.23910\n",
      "[298]\tvalidation_0-error:0.23911\n",
      "[299]\tvalidation_0-error:0.23900\n",
      "The testing accuracy 76.1002\n"
     ]
    },
    {
     "name": "stderr",
     "output_type": "stream",
     "text": [
      "C:\\Users\\ML_RTC\\anaconda3\\lib\\site-packages\\xgboost\\core.py:105: UserWarning: ntree_limit is deprecated, use `iteration_range` or model slicing instead.\n",
      "  warnings.warn(\n"
     ]
    },
    {
     "name": "stdout",
     "output_type": "stream",
     "text": [
      "The training accuracy 94.52282\n",
      "369.16213393211365\n",
      "{'test': 0.761002, 'train': 0.9452282, 'taken': 369.16213393211365}\n"
     ]
    }
   ],
   "source": [
    "model = XGBClassifier(tree_method='gpu_hist',\n",
    "                      booster = 'gbtree',\n",
    "                      max_depth = 14,\n",
    "                      n_estimators = 300,\n",
    "                      learning_rate = 0.4\n",
    "                     ) # booster = gbtree, dart\n",
    "\n",
    "eval_set = [(x_test_alpha, y_test_alpha)]\n",
    "\n",
    "t0 = time()\n",
    "a = model.fit(x_train_alpha,\n",
    "          y_train_alpha,\n",
    "          eval_metric=\"error\",\n",
    "          eval_set=eval_set,\n",
    "          verbose=True)\n",
    "taken = time()-t0\n",
    "\n",
    "y_test_alpha_pred = model.predict(x_test_alpha,ntree_limit=model.best_ntree_limit)\n",
    "accuracy_test = accuracy_score(y_test_alpha, y_test_alpha_pred)\n",
    "print(\"The testing accuracy\", accuracy_test*100)\n",
    "\n",
    "y_train_alpha_pred=model.predict(x_train_alpha,ntree_limit=model.best_ntree_limit)\n",
    "accuracy_train = accuracy_score(y_train_alpha, y_train_alpha_pred)\n",
    "print(\"The training accuracy\", accuracy_train*100)\n",
    "\n",
    "\n",
    "print(taken)\n",
    "print({\"test\": accuracy_test, \"train\": accuracy_train, \"taken\": taken})"
   ]
  },
  {
   "cell_type": "code",
   "execution_count": null,
   "id": "164312cf",
   "metadata": {},
   "outputs": [],
   "source": [
    "y_test_alpha_pred = model.predict(x_test_alpha,ntree_limit=model.best_ntree_limit)\n",
    "accuracy = accuracy_score(y_test_alpha, y_test_alpha_pred)\n",
    "print(\"The testing accuracy\", accuracy*100)"
   ]
  },
  {
   "cell_type": "code",
   "execution_count": null,
   "id": "2822d9b3",
   "metadata": {},
   "outputs": [],
   "source": [
    "y_train_alpha_pred=model.predict(x_train_alpha,ntree_limit=model.best_ntree_limit)\n",
    "accuracy = accuracy_score(y_train_alpha, y_train_alpha_pred)\n",
    "print(\"The training accuracy\", accuracy*100)"
   ]
  },
  {
   "cell_type": "code",
   "execution_count": null,
   "id": "c9bac161",
   "metadata": {},
   "outputs": [],
   "source": [
    "fpr, tpr, thresholds = roc_curve(y_test_alpha, y_test_alpha_pred)"
   ]
  },
  {
   "cell_type": "code",
   "execution_count": null,
   "id": "28e47562",
   "metadata": {},
   "outputs": [],
   "source": [
    "metrics.auc(fpr, tpr)"
   ]
  },
  {
   "cell_type": "code",
   "execution_count": 19,
   "id": "b2d39745",
   "metadata": {},
   "outputs": [],
   "source": [
    "model.save_model(\"XGBoost.json\")"
   ]
  }
 ],
 "metadata": {
  "kernelspec": {
   "display_name": "Python 3",
   "language": "python",
   "name": "python3"
  },
  "language_info": {
   "codemirror_mode": {
    "name": "ipython",
    "version": 3
   },
   "file_extension": ".py",
   "mimetype": "text/x-python",
   "name": "python",
   "nbconvert_exporter": "python",
   "pygments_lexer": "ipython3",
   "version": "3.8.8"
  }
 },
 "nbformat": 4,
 "nbformat_minor": 5
}
