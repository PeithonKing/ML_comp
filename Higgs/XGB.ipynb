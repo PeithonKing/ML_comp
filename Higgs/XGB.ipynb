{
 "cells": [
  {
   "cell_type": "code",
   "execution_count": 21,
   "id": "7dbe6d56",
   "metadata": {},
   "outputs": [],
   "source": [
    "import numpy as np\n",
    "import matplotlib.pyplot as plt\n",
    "import pandas as pd\n",
    "from xgboost import XGBClassifier\n",
    "from sklearn.metrics import accuracy_score\n",
    "from sklearn.metrics import roc_curve\n",
    "from sklearn import metrics\n",
    "import xgboost as xgb\n",
    "import joblib"
   ]
  },
  {
   "cell_type": "code",
   "execution_count": 2,
   "id": "b4157437",
   "metadata": {},
   "outputs": [],
   "source": [
    "df_data=pd.read_csv(\"DataSetNormalised.csv\")\n",
    "df_label=pd.read_csv(\"LabelSet.csv\")"
   ]
  },
  {
   "cell_type": "code",
   "execution_count": 3,
   "id": "91dd774b",
   "metadata": {},
   "outputs": [],
   "source": [
    "x=np.array(df_data.iloc[:,1:])\n",
    "y=np.array(df_label.iloc[:,1])\n",
    "x=x.astype(np.float32)"
   ]
  },
  {
   "cell_type": "code",
   "execution_count": 4,
   "id": "206ac221",
   "metadata": {},
   "outputs": [],
   "source": [
    "x_train=x[:10000000][:]\n",
    "y_train=y[:10000000][:]\n"
   ]
  },
  {
   "cell_type": "code",
   "execution_count": 5,
   "id": "f9ea9b87",
   "metadata": {},
   "outputs": [],
   "source": [
    "x_train_alpha=x[:10000000][:]\n",
    "y_train_alpha=y[:10000000][:]"
   ]
  },
  {
   "cell_type": "code",
   "execution_count": 6,
   "id": "59ef3c54",
   "metadata": {},
   "outputs": [],
   "source": [
    "x_test=x[10000000:][:]\n",
    "y_test=y[10000000:][:]"
   ]
  },
  {
   "cell_type": "code",
   "execution_count": 7,
   "id": "3ffe909f",
   "metadata": {},
   "outputs": [],
   "source": [
    "x_test_alpha=x[10000000:11000000][:]\n",
    "y_test_alpha=y[10000000:11000000][:]"
   ]
  },
  {
   "cell_type": "code",
   "execution_count": 8,
   "id": "323dedeb",
   "metadata": {},
   "outputs": [],
   "source": [
    "dtrain=xgb.DMatrix(x_train_alpha, label=y_train_alpha)"
   ]
  },
  {
   "cell_type": "code",
   "execution_count": 9,
   "id": "388cbebf",
   "metadata": {},
   "outputs": [],
   "source": [
    "dtest=xgb.DMatrix(x_test_alpha, label=y_test_alpha)"
   ]
  },
  {
   "cell_type": "code",
   "execution_count": 10,
   "id": "ff07f7ca",
   "metadata": {},
   "outputs": [
    {
     "data": {
      "text/plain": [
       "(10000000, 28)"
      ]
     },
     "execution_count": 10,
     "metadata": {},
     "output_type": "execute_result"
    }
   ],
   "source": [
    "x_train.shape"
   ]
  },
  {
   "cell_type": "code",
   "execution_count": 11,
   "id": "ebc26bb4",
   "metadata": {},
   "outputs": [],
   "source": [
    "params = {\n",
    "        'booster':'dart',\n",
    "        'min_child_weight': 1,\n",
    "        'gamma': 0,\n",
    "        'subsample': 1,\n",
    "        'colsample_bytree': 1,\n",
    "        'max_depth': 6\n",
    "        \n",
    "        }"
   ]
  },
  {
   "cell_type": "code",
   "execution_count": 19,
   "id": "23fbb8e5",
   "metadata": {},
   "outputs": [
    {
     "name": "stderr",
     "output_type": "stream",
     "text": [
      "C:\\Users\\cdipt\\anaconda3\\lib\\site-packages\\xgboost\\sklearn.py:1224: UserWarning: The use of label encoder in XGBClassifier is deprecated and will be removed in a future release. To remove this warning, do the following: 1) Pass option use_label_encoder=False when constructing XGBClassifier object; and 2) Encode your labels (y) as integers starting with 0, i.e. 0, 1, 2, ..., [num_class - 1].\n",
      "  warnings.warn(label_encoder_deprecation_msg, UserWarning)\n"
     ]
    },
    {
     "name": "stdout",
     "output_type": "stream",
     "text": [
      "[0]\tvalidation_0-error:0.28029\n",
      "[1]\tvalidation_0-error:0.27183\n",
      "[2]\tvalidation_0-error:0.26748\n",
      "[3]\tvalidation_0-error:0.26454\n",
      "[4]\tvalidation_0-error:0.26176\n",
      "[5]\tvalidation_0-error:0.25997\n",
      "[6]\tvalidation_0-error:0.25830\n",
      "[7]\tvalidation_0-error:0.25677\n",
      "[8]\tvalidation_0-error:0.25547\n",
      "[9]\tvalidation_0-error:0.25421\n",
      "[10]\tvalidation_0-error:0.25327\n",
      "[11]\tvalidation_0-error:0.25228\n",
      "[12]\tvalidation_0-error:0.25158\n",
      "[13]\tvalidation_0-error:0.25043\n",
      "[14]\tvalidation_0-error:0.25008\n",
      "[15]\tvalidation_0-error:0.24964\n",
      "[16]\tvalidation_0-error:0.24915\n",
      "[17]\tvalidation_0-error:0.24858\n",
      "[18]\tvalidation_0-error:0.24798\n",
      "[19]\tvalidation_0-error:0.24732\n",
      "[20]\tvalidation_0-error:0.24693\n",
      "[21]\tvalidation_0-error:0.24661\n",
      "[22]\tvalidation_0-error:0.24633\n",
      "[23]\tvalidation_0-error:0.24593\n",
      "[24]\tvalidation_0-error:0.24540\n",
      "[25]\tvalidation_0-error:0.24518\n",
      "[26]\tvalidation_0-error:0.24493\n",
      "[27]\tvalidation_0-error:0.24442\n",
      "[28]\tvalidation_0-error:0.24401\n",
      "[29]\tvalidation_0-error:0.24386\n",
      "[30]\tvalidation_0-error:0.24361\n",
      "[31]\tvalidation_0-error:0.24347\n",
      "[32]\tvalidation_0-error:0.24322\n",
      "[33]\tvalidation_0-error:0.24300\n",
      "[34]\tvalidation_0-error:0.24286\n",
      "[35]\tvalidation_0-error:0.24277\n",
      "[36]\tvalidation_0-error:0.24258\n",
      "[37]\tvalidation_0-error:0.24252\n",
      "[38]\tvalidation_0-error:0.24238\n",
      "[39]\tvalidation_0-error:0.24227\n",
      "[40]\tvalidation_0-error:0.24220\n",
      "[41]\tvalidation_0-error:0.24196\n",
      "[42]\tvalidation_0-error:0.24176\n",
      "[43]\tvalidation_0-error:0.24167\n",
      "[44]\tvalidation_0-error:0.24171\n",
      "[45]\tvalidation_0-error:0.24158\n",
      "[46]\tvalidation_0-error:0.24160\n",
      "[47]\tvalidation_0-error:0.24153\n",
      "[48]\tvalidation_0-error:0.24147\n",
      "[49]\tvalidation_0-error:0.24126\n",
      "[50]\tvalidation_0-error:0.24119\n",
      "[51]\tvalidation_0-error:0.24099\n",
      "[52]\tvalidation_0-error:0.24087\n",
      "[53]\tvalidation_0-error:0.24082\n",
      "[54]\tvalidation_0-error:0.24077\n",
      "[55]\tvalidation_0-error:0.24072\n",
      "[56]\tvalidation_0-error:0.24072\n",
      "[57]\tvalidation_0-error:0.24062\n",
      "[58]\tvalidation_0-error:0.24038\n",
      "[59]\tvalidation_0-error:0.24027\n",
      "[60]\tvalidation_0-error:0.24022\n",
      "[61]\tvalidation_0-error:0.24019\n",
      "[62]\tvalidation_0-error:0.24001\n",
      "[63]\tvalidation_0-error:0.23983\n",
      "[64]\tvalidation_0-error:0.23988\n",
      "[65]\tvalidation_0-error:0.23980\n",
      "[66]\tvalidation_0-error:0.23950\n",
      "[67]\tvalidation_0-error:0.23930\n",
      "[68]\tvalidation_0-error:0.23919\n",
      "[69]\tvalidation_0-error:0.23920\n",
      "[70]\tvalidation_0-error:0.23914\n",
      "[71]\tvalidation_0-error:0.23916\n",
      "[72]\tvalidation_0-error:0.23890\n",
      "[73]\tvalidation_0-error:0.23878\n",
      "[74]\tvalidation_0-error:0.23878\n",
      "[75]\tvalidation_0-error:0.23874\n",
      "[76]\tvalidation_0-error:0.23841\n",
      "[77]\tvalidation_0-error:0.23830\n",
      "[78]\tvalidation_0-error:0.23835\n",
      "[79]\tvalidation_0-error:0.23828\n",
      "[80]\tvalidation_0-error:0.23826\n",
      "[81]\tvalidation_0-error:0.23827\n",
      "[82]\tvalidation_0-error:0.23818\n",
      "[83]\tvalidation_0-error:0.23821\n",
      "[84]\tvalidation_0-error:0.23821\n",
      "[85]\tvalidation_0-error:0.23810\n",
      "[86]\tvalidation_0-error:0.23812\n",
      "[87]\tvalidation_0-error:0.23801\n",
      "[88]\tvalidation_0-error:0.23804\n",
      "[89]\tvalidation_0-error:0.23799\n",
      "[90]\tvalidation_0-error:0.23796\n",
      "[91]\tvalidation_0-error:0.23798\n",
      "[92]\tvalidation_0-error:0.23791\n",
      "[93]\tvalidation_0-error:0.23790\n",
      "[94]\tvalidation_0-error:0.23791\n",
      "[95]\tvalidation_0-error:0.23782\n",
      "[96]\tvalidation_0-error:0.23778\n",
      "[97]\tvalidation_0-error:0.23773\n",
      "[98]\tvalidation_0-error:0.23772\n",
      "[99]\tvalidation_0-error:0.23770\n",
      "[100]\tvalidation_0-error:0.23763\n",
      "[101]\tvalidation_0-error:0.23767\n",
      "[102]\tvalidation_0-error:0.23764\n",
      "[103]\tvalidation_0-error:0.23758\n",
      "[104]\tvalidation_0-error:0.23759\n",
      "[105]\tvalidation_0-error:0.23752\n",
      "[106]\tvalidation_0-error:0.23758\n",
      "[107]\tvalidation_0-error:0.23752\n",
      "[108]\tvalidation_0-error:0.23745\n",
      "[109]\tvalidation_0-error:0.23743\n",
      "[110]\tvalidation_0-error:0.23714\n",
      "[111]\tvalidation_0-error:0.23701\n",
      "[112]\tvalidation_0-error:0.23697\n",
      "[113]\tvalidation_0-error:0.23686\n",
      "[114]\tvalidation_0-error:0.23689\n",
      "[115]\tvalidation_0-error:0.23697\n",
      "[116]\tvalidation_0-error:0.23702\n",
      "[117]\tvalidation_0-error:0.23695\n",
      "[118]\tvalidation_0-error:0.23697\n",
      "[119]\tvalidation_0-error:0.23692\n",
      "[120]\tvalidation_0-error:0.23680\n",
      "[121]\tvalidation_0-error:0.23680\n",
      "[122]\tvalidation_0-error:0.23682\n",
      "[123]\tvalidation_0-error:0.23681\n",
      "[124]\tvalidation_0-error:0.23687\n",
      "[125]\tvalidation_0-error:0.23687\n",
      "[126]\tvalidation_0-error:0.23683\n",
      "[127]\tvalidation_0-error:0.23675\n",
      "[128]\tvalidation_0-error:0.23664\n",
      "[129]\tvalidation_0-error:0.23662\n",
      "[130]\tvalidation_0-error:0.23666\n",
      "[131]\tvalidation_0-error:0.23660\n",
      "[132]\tvalidation_0-error:0.23645\n",
      "[133]\tvalidation_0-error:0.23635\n",
      "[134]\tvalidation_0-error:0.23649\n",
      "[135]\tvalidation_0-error:0.23657\n",
      "[136]\tvalidation_0-error:0.23654\n",
      "[137]\tvalidation_0-error:0.23646\n",
      "[138]\tvalidation_0-error:0.23645\n",
      "[139]\tvalidation_0-error:0.23641\n",
      "[140]\tvalidation_0-error:0.23634\n",
      "[141]\tvalidation_0-error:0.23642\n",
      "[142]\tvalidation_0-error:0.23644\n",
      "[143]\tvalidation_0-error:0.23641\n",
      "[144]\tvalidation_0-error:0.23640\n",
      "[145]\tvalidation_0-error:0.23637\n",
      "[146]\tvalidation_0-error:0.23640\n",
      "[147]\tvalidation_0-error:0.23632\n",
      "[148]\tvalidation_0-error:0.23631\n",
      "[149]\tvalidation_0-error:0.23636\n",
      "[150]\tvalidation_0-error:0.23639\n",
      "[151]\tvalidation_0-error:0.23632\n",
      "[152]\tvalidation_0-error:0.23631\n",
      "[153]\tvalidation_0-error:0.23621\n",
      "[154]\tvalidation_0-error:0.23626\n",
      "[155]\tvalidation_0-error:0.23627\n",
      "[156]\tvalidation_0-error:0.23624\n",
      "[157]\tvalidation_0-error:0.23613\n",
      "[158]\tvalidation_0-error:0.23606\n",
      "[159]\tvalidation_0-error:0.23595\n",
      "[160]\tvalidation_0-error:0.23600\n",
      "[161]\tvalidation_0-error:0.23592\n",
      "[162]\tvalidation_0-error:0.23583\n",
      "[163]\tvalidation_0-error:0.23585\n",
      "[164]\tvalidation_0-error:0.23587\n",
      "[165]\tvalidation_0-error:0.23588\n",
      "[166]\tvalidation_0-error:0.23588\n",
      "[167]\tvalidation_0-error:0.23604\n",
      "[168]\tvalidation_0-error:0.23597\n",
      "[169]\tvalidation_0-error:0.23591\n",
      "[170]\tvalidation_0-error:0.23592\n",
      "[171]\tvalidation_0-error:0.23594\n",
      "[172]\tvalidation_0-error:0.23592\n",
      "[173]\tvalidation_0-error:0.23584\n",
      "[174]\tvalidation_0-error:0.23588\n",
      "[175]\tvalidation_0-error:0.23588\n",
      "[176]\tvalidation_0-error:0.23584\n",
      "[177]\tvalidation_0-error:0.23584\n",
      "[178]\tvalidation_0-error:0.23584\n",
      "[179]\tvalidation_0-error:0.23586\n",
      "[180]\tvalidation_0-error:0.23586\n",
      "[181]\tvalidation_0-error:0.23575\n",
      "[182]\tvalidation_0-error:0.23563\n",
      "[183]\tvalidation_0-error:0.23565\n",
      "[184]\tvalidation_0-error:0.23569\n",
      "[185]\tvalidation_0-error:0.23573\n",
      "[186]\tvalidation_0-error:0.23573\n",
      "[187]\tvalidation_0-error:0.23555\n",
      "[188]\tvalidation_0-error:0.23555\n",
      "[189]\tvalidation_0-error:0.23560\n",
      "[190]\tvalidation_0-error:0.23558\n",
      "[191]\tvalidation_0-error:0.23556\n",
      "[192]\tvalidation_0-error:0.23556\n",
      "[193]\tvalidation_0-error:0.23554\n",
      "[194]\tvalidation_0-error:0.23554\n",
      "[195]\tvalidation_0-error:0.23551\n",
      "[196]\tvalidation_0-error:0.23548\n",
      "[197]\tvalidation_0-error:0.23553\n",
      "[198]\tvalidation_0-error:0.23547\n",
      "[199]\tvalidation_0-error:0.23543\n",
      "[200]\tvalidation_0-error:0.23549\n",
      "[201]\tvalidation_0-error:0.23548\n",
      "[202]\tvalidation_0-error:0.23558\n",
      "[203]\tvalidation_0-error:0.23548\n",
      "[204]\tvalidation_0-error:0.23546\n",
      "[205]\tvalidation_0-error:0.23546\n",
      "[206]\tvalidation_0-error:0.23545\n",
      "[207]\tvalidation_0-error:0.23555\n",
      "[208]\tvalidation_0-error:0.23551\n",
      "[209]\tvalidation_0-error:0.23552\n",
      "[210]\tvalidation_0-error:0.23556\n",
      "[211]\tvalidation_0-error:0.23554\n",
      "[212]\tvalidation_0-error:0.23555\n",
      "[213]\tvalidation_0-error:0.23549\n",
      "[214]\tvalidation_0-error:0.23548\n",
      "[215]\tvalidation_0-error:0.23540\n",
      "[216]\tvalidation_0-error:0.23539\n",
      "[217]\tvalidation_0-error:0.23542\n",
      "[218]\tvalidation_0-error:0.23542\n",
      "[219]\tvalidation_0-error:0.23530\n",
      "[220]\tvalidation_0-error:0.23535\n",
      "[221]\tvalidation_0-error:0.23539\n",
      "[222]\tvalidation_0-error:0.23532\n",
      "[223]\tvalidation_0-error:0.23536\n",
      "[224]\tvalidation_0-error:0.23534\n",
      "[225]\tvalidation_0-error:0.23540\n",
      "[226]\tvalidation_0-error:0.23538\n",
      "[227]\tvalidation_0-error:0.23540\n",
      "[228]\tvalidation_0-error:0.23536\n",
      "[229]\tvalidation_0-error:0.23537\n",
      "[230]\tvalidation_0-error:0.23541\n",
      "[231]\tvalidation_0-error:0.23542\n",
      "[232]\tvalidation_0-error:0.23541\n",
      "[233]\tvalidation_0-error:0.23540\n",
      "[234]\tvalidation_0-error:0.23537\n",
      "[235]\tvalidation_0-error:0.23530\n",
      "[236]\tvalidation_0-error:0.23530\n",
      "[237]\tvalidation_0-error:0.23525\n",
      "[238]\tvalidation_0-error:0.23525\n",
      "[239]\tvalidation_0-error:0.23521\n",
      "[240]\tvalidation_0-error:0.23513\n",
      "[241]\tvalidation_0-error:0.23510\n",
      "[242]\tvalidation_0-error:0.23516\n",
      "[243]\tvalidation_0-error:0.23517\n",
      "[244]\tvalidation_0-error:0.23515\n",
      "[245]\tvalidation_0-error:0.23504\n",
      "[246]\tvalidation_0-error:0.23508\n",
      "[247]\tvalidation_0-error:0.23504\n",
      "[248]\tvalidation_0-error:0.23506\n",
      "[249]\tvalidation_0-error:0.23505\n",
      "[250]\tvalidation_0-error:0.23504\n",
      "[251]\tvalidation_0-error:0.23500\n"
     ]
    },
    {
     "name": "stdout",
     "output_type": "stream",
     "text": [
      "[252]\tvalidation_0-error:0.23502\n",
      "[253]\tvalidation_0-error:0.23505\n",
      "[254]\tvalidation_0-error:0.23506\n",
      "[255]\tvalidation_0-error:0.23505\n",
      "[256]\tvalidation_0-error:0.23495\n",
      "[257]\tvalidation_0-error:0.23495\n",
      "[258]\tvalidation_0-error:0.23494\n",
      "[259]\tvalidation_0-error:0.23489\n",
      "[260]\tvalidation_0-error:0.23486\n",
      "[261]\tvalidation_0-error:0.23493\n",
      "[262]\tvalidation_0-error:0.23491\n",
      "[263]\tvalidation_0-error:0.23474\n",
      "[264]\tvalidation_0-error:0.23477\n",
      "[265]\tvalidation_0-error:0.23487\n",
      "[266]\tvalidation_0-error:0.23478\n",
      "[267]\tvalidation_0-error:0.23481\n",
      "[268]\tvalidation_0-error:0.23486\n",
      "[269]\tvalidation_0-error:0.23488\n",
      "[270]\tvalidation_0-error:0.23490\n",
      "[271]\tvalidation_0-error:0.23494\n",
      "[272]\tvalidation_0-error:0.23484\n",
      "[273]\tvalidation_0-error:0.23484\n",
      "[274]\tvalidation_0-error:0.23488\n",
      "[275]\tvalidation_0-error:0.23497\n",
      "[276]\tvalidation_0-error:0.23497\n",
      "[277]\tvalidation_0-error:0.23491\n",
      "[278]\tvalidation_0-error:0.23491\n",
      "[279]\tvalidation_0-error:0.23488\n",
      "[280]\tvalidation_0-error:0.23475\n",
      "[281]\tvalidation_0-error:0.23476\n",
      "[282]\tvalidation_0-error:0.23479\n",
      "[283]\tvalidation_0-error:0.23480\n",
      "[284]\tvalidation_0-error:0.23474\n",
      "[285]\tvalidation_0-error:0.23482\n",
      "[286]\tvalidation_0-error:0.23483\n",
      "[287]\tvalidation_0-error:0.23484\n",
      "[288]\tvalidation_0-error:0.23483\n",
      "[289]\tvalidation_0-error:0.23480\n",
      "[290]\tvalidation_0-error:0.23488\n",
      "[291]\tvalidation_0-error:0.23489\n",
      "[292]\tvalidation_0-error:0.23489\n",
      "[293]\tvalidation_0-error:0.23480\n",
      "[294]\tvalidation_0-error:0.23476\n",
      "[295]\tvalidation_0-error:0.23471\n",
      "[296]\tvalidation_0-error:0.23472\n",
      "[297]\tvalidation_0-error:0.23471\n",
      "[298]\tvalidation_0-error:0.23479\n",
      "[299]\tvalidation_0-error:0.23475\n"
     ]
    },
    {
     "data": {
      "text/plain": [
       "XGBClassifier(base_score=0.5, booster='gbtree', colsample_bylevel=1,\n",
       "              colsample_bynode=1, colsample_bytree=1, enable_categorical=False,\n",
       "              gamma=0, gpu_id=0, importance_type=None,\n",
       "              interaction_constraints='', learning_rate=0.300000012,\n",
       "              max_delta_step=0, max_depth=15, min_child_weight=1, missing=nan,\n",
       "              monotone_constraints='()', n_estimators=300, n_jobs=12,\n",
       "              num_parallel_tree=1, predictor='auto', random_state=0,\n",
       "              reg_alpha=0, reg_lambda=1, scale_pos_weight=1, subsample=1,\n",
       "              tree_method='gpu_hist', validate_parameters=1, verbosity=None)"
      ]
     },
     "execution_count": 19,
     "metadata": {},
     "output_type": "execute_result"
    }
   ],
   "source": [
    "model = XGBClassifier(tree_method='gpu_hist',booster='gbtree',max_depth=15,n_estimators=300)\n",
    "eval_set = [(x_test_alpha, y_test_alpha)]\n",
    "model.fit(x_train_alpha,y_train_alpha,eval_metric=\"error\", eval_set=eval_set, verbose=True)"
   ]
  },
  {
   "cell_type": "code",
   "execution_count": 22,
   "id": "164312cf",
   "metadata": {},
   "outputs": [
    {
     "name": "stderr",
     "output_type": "stream",
     "text": [
      "C:\\Users\\cdipt\\anaconda3\\lib\\site-packages\\xgboost\\core.py:105: UserWarning: ntree_limit is deprecated, use `iteration_range` or model slicing instead.\n",
      "  warnings.warn(\n"
     ]
    },
    {
     "name": "stdout",
     "output_type": "stream",
     "text": [
      "The testing accuracy 0.765251\n"
     ]
    }
   ],
   "source": [
    "y_test_alpha_pred=model.predict(x_test_alpha,ntree_limit=model.best_ntree_limit)\n",
    "accuracy = accuracy_score(y_test_alpha, y_test_alpha_pred)\n",
    "print(\"The testing accuracy\",str(accuracy))"
   ]
  },
  {
   "cell_type": "code",
   "execution_count": 24,
   "id": "2822d9b3",
   "metadata": {},
   "outputs": [
    {
     "name": "stderr",
     "output_type": "stream",
     "text": [
      "C:\\Users\\cdipt\\anaconda3\\lib\\site-packages\\xgboost\\core.py:105: UserWarning: ntree_limit is deprecated, use `iteration_range` or model slicing instead.\n",
      "  warnings.warn(\n"
     ]
    },
    {
     "name": "stdout",
     "output_type": "stream",
     "text": [
      "The training accuracy 0.9601666\n"
     ]
    }
   ],
   "source": [
    "y_train_alpha_pred=model.predict(x_train_alpha,ntree_limit=model.best_ntree_limit)\n",
    "accuracy = accuracy_score(y_train_alpha, y_train_alpha_pred)\n",
    "print(\"The training accuracy\",str(accuracy))"
   ]
  },
  {
   "cell_type": "code",
   "execution_count": 15,
   "id": "c9bac161",
   "metadata": {},
   "outputs": [],
   "source": [
    " fpr, tpr, thresholds = roc_curve(y_test_alpha, y_test_alpha_pred)"
   ]
  },
  {
   "cell_type": "code",
   "execution_count": 16,
   "id": "28e47562",
   "metadata": {},
   "outputs": [
    {
     "data": {
      "text/plain": [
       "0.7640521090052251"
      ]
     },
     "execution_count": 16,
     "metadata": {},
     "output_type": "execute_result"
    }
   ],
   "source": [
    "metrics.auc(fpr, tpr)"
   ]
  },
  {
   "cell_type": "code",
   "execution_count": null,
   "id": "b2d39745",
   "metadata": {},
   "outputs": [],
   "source": [
    "model.save_model(\"XGBoost.json\")"
   ]
  }
 ],
 "metadata": {
  "kernelspec": {
   "display_name": "Python 3",
   "language": "python",
   "name": "python3"
  },
  "language_info": {
   "codemirror_mode": {
    "name": "ipython",
    "version": 3
   },
   "file_extension": ".py",
   "mimetype": "text/x-python",
   "name": "python",
   "nbconvert_exporter": "python",
   "pygments_lexer": "ipython3",
   "version": "3.8.8"
  }
 },
 "nbformat": 4,
 "nbformat_minor": 5
}
